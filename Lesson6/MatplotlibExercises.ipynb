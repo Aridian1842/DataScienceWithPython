{
 "cells": [
  {
   "cell_type": "markdown",
   "metadata": {},
   "source": [
    "# Matplotlib Exercises"
   ]
  },
  {
   "cell_type": "code",
   "execution_count": null,
   "metadata": {
    "collapsed": true
   },
   "outputs": [],
   "source": [
    "%matplotlib inline\n",
    "import matplotlib.pyplot as plt\n",
    "import numpy as np"
   ]
  },
  {
   "cell_type": "markdown",
   "metadata": {},
   "source": [
    "#### 1. Reproduce the following figure\n",
    "<img src=\"images/exercise_1.png\">"
   ]
  },
  {
   "cell_type": "code",
   "execution_count": null,
   "metadata": {
    "collapsed": true
   },
   "outputs": [],
   "source": [
    "# Hint: use the scatter method"
   ]
  },
  {
   "cell_type": "markdown",
   "metadata": {},
   "source": [
    "#### 2. Reproduce the following figure\n",
    "\n",
    "<img src=\"images/exercise_1-1.png\">\n",
    "\n",
    "#### Here's the data and some code to get you started."
   ]
  },
  {
   "cell_type": "code",
   "execution_count": null,
   "metadata": {
    "collapsed": true
   },
   "outputs": [],
   "source": [
    "# Starter code\n",
    "x = np.linspace(0, 10, 100)\n",
    "y1, y2, y3 = np.cos(x), np.cos(x + 1), np.cos(x + 2)\n",
    "names = ['Signal 1', 'Signal 2', 'Signal 3']\n",
    "# Tip: When the grid in plt.subplots has nrows=1 or ncols=1 the resultin axes object is a 1-dimension numpy array\n",
    "\n",
    "# Your code here:"
   ]
  },
  {
   "cell_type": "markdown",
   "metadata": {},
   "source": [
    "#### 3. The law of large numbers\n",
    "In probability theory, the [law of large numbers](https://en.wikipedia.org/wiki/Law_of_large_numbers) is a theorem that describes the result of performing the same experiment a large number of times. According to the law, the average of the results obtained from a large number of trials should be close to the expected value, and will tend to become closer as more trials are performed.\n",
    "\n",
    "Here we visualize with a simulation that reproduces closely the graph presented in the wikipedia article."
   ]
  },
  {
   "cell_type": "code",
   "execution_count": null,
   "metadata": {
    "collapsed": true
   },
   "outputs": [],
   "source": [
    "# Create a numpy array (number_of_throws) of integers from 1 to 600, hint: use arange\n",
    "\n",
    "\n",
    "# For each integer in number_of_throws: simulate throwing a 6-sided dice and then take the mean of the values observed\n",
    "# Save the means in a numpy array called means, \n",
    "# hint: initialize means with np.zeros(600)\n",
    "# hint: the enumerate() function might be useful\n",
    "\n",
    "    \n",
    "# Plot number of number_of_throws against means using a line chart, interpret the results"
   ]
  },
  {
   "cell_type": "markdown",
   "metadata": {},
   "source": [
    "#### 4. Using the following data produce a bar plot that shows the counts of the three kinds of medals for each country"
   ]
  },
  {
   "cell_type": "code",
   "execution_count": null,
   "metadata": {
    "collapsed": true
   },
   "outputs": [],
   "source": [
    "# Top 10 medal-winning countries in the Rio Olympics\n",
    "countries = ['USA','GBR','CHN','RUS','GER','JPN','FRA','KOR','ITA','AUS']\n",
    "gold = [46,27,26,19,17,12,10,9,8,8]\n",
    "silver = [37,23,18,18,10,8,18,3,12,11]\n",
    "bronze = [38,17,26,19,15,21,14,9,8,10]\n",
    "\n",
    "# Hint: Use the following colors: (gold, #FFDF00), (silver, #C0C0C0), (bronze, #CD7F32)\n",
    "# Your code here"
   ]
  },
  {
   "cell_type": "markdown",
   "metadata": {},
   "source": [
    "#### 5. Simulate tossing a fair coin 20 times, do the same simulation 1,000 times. Count the number of \"heads\" for each simulation (save them in an array ``counts``). Visualize the distribution of ``counts`` using the appropiate plot."
   ]
  },
  {
   "cell_type": "code",
   "execution_count": null,
   "metadata": {
    "collapsed": true
   },
   "outputs": [],
   "source": []
  },
  {
   "cell_type": "markdown",
   "metadata": {},
   "source": [
    "#### 6. Using the following array, produce a grid of 9 histograms showing how they change depending on the number of bins, for bins use the integers from 10 to 18."
   ]
  },
  {
   "cell_type": "code",
   "execution_count": null,
   "metadata": {
    "collapsed": true
   },
   "outputs": [],
   "source": [
    "# IQ's scores from 125 people\n",
    "iqs = np.random.normal(loc=100, scale=10, size=125)"
   ]
  },
  {
   "cell_type": "code",
   "execution_count": null,
   "metadata": {
    "collapsed": true
   },
   "outputs": [],
   "source": []
  },
  {
   "cell_type": "code",
   "execution_count": null,
   "metadata": {
    "collapsed": true
   },
   "outputs": [],
   "source": []
  }
 ],
 "metadata": {
  "kernelspec": {
   "display_name": "Python 2",
   "language": "python",
   "name": "python2"
  },
  "language_info": {
   "codemirror_mode": {
    "name": "ipython",
    "version": 2
   },
   "file_extension": ".py",
   "mimetype": "text/x-python",
   "name": "python",
   "nbconvert_exporter": "python",
   "pygments_lexer": "ipython2",
   "version": "2.7.11"
  }
 },
 "nbformat": 4,
 "nbformat_minor": 0
}
