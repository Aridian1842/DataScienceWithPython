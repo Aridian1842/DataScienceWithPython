{
 "cells": [
  {
   "cell_type": "markdown",
   "metadata": {},
   "source": [
    "# Exersices"
   ]
  },
  {
   "cell_type": "markdown",
   "metadata": {},
   "source": [
    "#### Write a function that takes a character (i.e. a string of length 1) and returns True if it is a vowel, False otherwise."
   ]
  },
  {
   "cell_type": "code",
   "execution_count": 6,
   "metadata": {
    "collapsed": false,
    "scrolled": true
   },
   "outputs": [
    {
     "name": "stdout",
     "output_type": "stream",
     "text": [
      "True\n",
      "False\n",
      "False\n",
      "True\n"
     ]
    }
   ],
   "source": [
    "vowels = 'aeiouAEIOU'\n",
    "def is_vowel(char):\n",
    "    return char in vowels\n",
    "\n",
    "print is_vowel('a')\n",
    "print is_vowel('h')\n",
    "print is_vowel('z')\n",
    "print is_vowel('A')"
   ]
  },
  {
   "cell_type": "markdown",
   "metadata": {},
   "source": [
    "#### Create a function that counts the number of vowels in a word, test your function with some words."
   ]
  },
  {
   "cell_type": "code",
   "execution_count": 14,
   "metadata": {
    "collapsed": false
   },
   "outputs": [
    {
     "name": "stdout",
     "output_type": "stream",
     "text": [
      "2\n",
      "3\n",
      "3\n",
      "5\n"
     ]
    }
   ],
   "source": [
    "def count_vowels(word):\n",
    "    word = word.lower()\n",
    "    count = 0\n",
    "    for char in word:\n",
    "        if is_vowel(char):\n",
    "            count = count + 1 \n",
    "            #count += 1\n",
    "    return count\n",
    "        \n",
    "print count_vowels('hello')\n",
    "print count_vowels('programming')\n",
    "print count_vowels('house')\n",
    "print count_vowels('EAIEE')"
   ]
  },
  {
   "cell_type": "markdown",
   "metadata": {},
   "source": [
    "#### Define a function sum_prod() that returns a tuple with the sum and product of all the numbers in a list of numbers. For example, sum_prod([1, 2, 3, 4]) should return (10, 24)"
   ]
  },
  {
   "cell_type": "code",
   "execution_count": 16,
   "metadata": {
    "collapsed": false
   },
   "outputs": [
    {
     "name": "stdout",
     "output_type": "stream",
     "text": [
      "(10, 24)\n",
      "(3, 2)\n",
      "(4, 0)\n"
     ]
    }
   ],
   "source": [
    "def sum_prod(list_of_nums):\n",
    "    sum_of_nums = sum(list_of_nums)\n",
    "    prod = 1\n",
    "    for num in list_of_nums:\n",
    "        prod = prod*num\n",
    "    return (sum_of_nums, prod)\n",
    "    \n",
    "print sum_prod([1,2,3,4])\n",
    "print sum_prod([1,2])\n",
    "print sum_prod([1,-1,0,4])"
   ]
  },
  {
   "cell_type": "markdown",
   "metadata": {},
   "source": [
    "#### Define a function max_of_three() that takes three numbers as arguments and returns the largest of them. (Don't use the max() built in function)"
   ]
  },
  {
   "cell_type": "code",
   "execution_count": 18,
   "metadata": {
    "collapsed": false
   },
   "outputs": [
    {
     "name": "stdout",
     "output_type": "stream",
     "text": [
      "5\n",
      "10\n",
      "0\n",
      "3\n"
     ]
    }
   ],
   "source": [
    "def max_of_three(a, b, c):\n",
    "    if (a >= b and a >= c):\n",
    "        return a\n",
    "    else:\n",
    "        if b >= c:\n",
    "            return b\n",
    "        else:\n",
    "            return c\n",
    "\n",
    "print max_of_three(5,3,1)\n",
    "print max_of_three(5,-3,10)\n",
    "print max_of_three(-5,-1,0)\n",
    "print max_of_three(-5,3,0)"
   ]
  },
  {
   "cell_type": "markdown",
   "metadata": {},
   "source": [
    "#### Define a function reverse() that computes the reversal of a string. For example, reverse(\"I am testing\") should return the string \"gnitset ma I\"."
   ]
  },
  {
   "cell_type": "code",
   "execution_count": 6,
   "metadata": {
    "collapsed": false
   },
   "outputs": [
    {
     "name": "stdout",
     "output_type": "stream",
     "text": [
      "olleh\n",
      "1234\n",
      "radar\n"
     ]
    }
   ],
   "source": [
    "def reverse(string):\n",
    "    return string[::-1]\n",
    "\n",
    "print reverse(\"hello\")\n",
    "print reverse(\"4321\")\n",
    "print reverse(\"radar\")"
   ]
  },
  {
   "cell_type": "markdown",
   "metadata": {},
   "source": [
    "#### Define a function is_palindrome() that recognizes palindromes (i.e. words that look the same written backwards). For example, is_palindrome(\"radar\") should return True."
   ]
  },
  {
   "cell_type": "code",
   "execution_count": null,
   "metadata": {
    "collapsed": true
   },
   "outputs": [],
   "source": []
  },
  {
   "cell_type": "markdown",
   "metadata": {},
   "source": [
    "----"
   ]
  },
  {
   "cell_type": "markdown",
   "metadata": {},
   "source": [
    "#### Write a function find_longest_word() that takes a list of words and returns the length of the longest one."
   ]
  },
  {
   "cell_type": "code",
   "execution_count": null,
   "metadata": {
    "collapsed": true
   },
   "outputs": [],
   "source": [
    "def find_longest_word(list_of_words):\n",
    "    lengths = [len(word) for word in list_of_words]\n",
    "    lengths = map(len, list_of_words)\n",
    "    #for word in list_of_words:\n",
    "    #    lengths.append(len(word))\n",
    "    return max(lengths)\n"
   ]
  },
  {
   "cell_type": "markdown",
   "metadata": {},
   "source": [
    "#### Write a function find_longest_word2() that takes a list of words and returns a tuple with the longest word and its length"
   ]
  },
  {
   "cell_type": "code",
   "execution_count": 7,
   "metadata": {
    "collapsed": false
   },
   "outputs": [
    {
     "name": "stdout",
     "output_type": "stream",
     "text": [
      "('programming', 11)\n"
     ]
    }
   ],
   "source": [
    "def find_longest_word2(list_of_words):\n",
    "    lengths = [len(word) for word in list_of_words]\n",
    "    max_length = max(lengths)\n",
    "    index_max = lengths.index(max_length)\n",
    "    longest_word = list_of_words[index_max]\n",
    "    return (longest_word, max_length)\n",
    "\n",
    "print find_longest_word2(['hello','there','programming'])"
   ]
  },
  {
   "cell_type": "markdown",
   "metadata": {},
   "source": [
    "#### Using ith the following list ``my_numbers``:\n",
    "1. Create a list that contains only the even numbers, call it ``even_numbers``.\n",
    "2. Create a list that contains only the odd numbers, call it ``odd_numbers``.\n",
    "3. Print the number of elements in each of the created lists."
   ]
  },
  {
   "cell_type": "code",
   "execution_count": null,
   "metadata": {
    "collapsed": true
   },
   "outputs": [],
   "source": [
    "my_numbers = [386, 462, 47, 418, 907, 344, 236, 375, 823, 566, 597, 978, 328, 615, 953, 345, \n",
    "    399, 162, 758, 219, 918, 237, 412, 566, 826, 248, 866, 950, 626, 949, 687, 217, \n",
    "    815, 67, 104, 58, 512, 24, 892, 894, 767, 553, 81, 379, 843, 831, 445, 742, 717, \n",
    "    958,743, 527]"
   ]
  },
  {
   "cell_type": "markdown",
   "metadata": {},
   "source": [
    "#### In cryptography, a Caesar cipher is a very simple encryption technique in which each letter in the plain text is replaced by a letter some fixed number of positions down the alphabet. For example, with a shift of 3, A would be replaced by D, B would become E, and so on. The method is named after Julius Caesar, who used it to communicate with his generals. ROT-13 (\"rotate by 13 places\") is a widely used example of a Caesar cipher where the shift is 13. In Python, the key for ROT-13 may be represented by means of the following dictionary:\n",
    "\n",
    "``cipher_key = {'a':'n', 'b':'o', 'c':'p', 'd':'q', 'e':'r', 'f':'s', 'g':'t', 'h':'u', \n",
    "       'i':'v', 'j':'w', 'k':'x', 'l':'y', 'm':'z', 'n':'a', 'o':'b', 'p':'c', \n",
    "       'q':'d', 'r':'e', 's':'f', 't':'g', 'u':'h', 'v':'i', 'w':'j', 'x':'k',\n",
    "       'y':'l', 'z':'m'}``\n",
    "\n",
    "Follow the instructions:"
   ]
  },
  {
   "cell_type": "code",
   "execution_count": null,
   "metadata": {
    "collapsed": true
   },
   "outputs": [],
   "source": [
    "# Write a function that takes a letter and an integer (n) and returns the letter that is n positions away.\n",
    "# assume the letters are in a circle, so the alphabet goes 'forever' a, b, c, ... y, z, a, b, ..., y, z, a, b, ...\n",
    "# Examples: rot('a',3) = 'd', rot('z',1) = a, rot('y',3) = b\n",
    "letters = 'abcdefghijklmnopqrstuvwxyz'\n",
    "def rot(letter, n):\n",
    "    # Your code here\n",
    "\n",
    "# Write a function that accepts an integer (n) and returns a ROT-n dictionary (like the cipher_key)\n",
    "def ROT_n(n):\n",
    "    # Your code here\n",
    "\n",
    "# Write a function 'cipher_n' that accepts a string (consisting only of lower case letters) and an integer and returns\n",
    "# the coded version of the string\n",
    "\n",
    "\n",
    "# Write a function 'decipher_n' that accepts a string (consisting only of lower case letters) and an integer and returns\n",
    "# the decoded version of the string"
   ]
  },
  {
   "cell_type": "markdown",
   "metadata": {},
   "source": [
    "#### Write a function that maps as a dictionary a list of words into a list of integers representing the lengths of the correponding words. Write it in two different ways: 1) using a for-loop, 2) using comprehensions. Print the results of using your functions in ``my_string_1``, ``my_string_2`` and ``my_string_3``"
   ]
  },
  {
   "cell_type": "code",
   "execution_count": null,
   "metadata": {
    "collapsed": true
   },
   "outputs": [],
   "source": [
    "# using for loops"
   ]
  },
  {
   "cell_type": "code",
   "execution_count": 10,
   "metadata": {
    "collapsed": false
   },
   "outputs": [
    {
     "data": {
      "text/plain": [
       "{'The': 3,\n",
       " 'a': 1,\n",
       " 'and': 3,\n",
       " 'comparisons': 11,\n",
       " 'complete': 8,\n",
       " 'do': 2,\n",
       " 'equality': 8,\n",
       " 'function.': 9,\n",
       " 'generalize': 10,\n",
       " 'not': 3,\n",
       " 'ordering': 8,\n",
       " 'subset': 6,\n",
       " 'to': 2}"
      ]
     },
     "execution_count": 10,
     "metadata": {},
     "output_type": "execute_result"
    }
   ],
   "source": [
    "# using comprehensions\n",
    "def words_with_lens(list_of_words):\n",
    "    unique_words = set(list_of_words)\n",
    "    return {word:len(word) for word in unique_words}\n",
    "\n",
    "words_with_lens(my_string_1.split())"
   ]
  },
  {
   "cell_type": "code",
   "execution_count": 9,
   "metadata": {
    "collapsed": false
   },
   "outputs": [
    {
     "data": {
      "text/plain": [
       "['The',\n",
       " 'subset',\n",
       " 'and',\n",
       " 'equality',\n",
       " 'comparisons',\n",
       " 'do',\n",
       " 'not',\n",
       " 'generalize',\n",
       " 'to',\n",
       " 'a',\n",
       " 'complete',\n",
       " 'ordering',\n",
       " 'function.']"
      ]
     },
     "execution_count": 9,
     "metadata": {},
     "output_type": "execute_result"
    }
   ],
   "source": []
  },
  {
   "cell_type": "code",
   "execution_count": 8,
   "metadata": {
    "collapsed": false
   },
   "outputs": [],
   "source": [
    "my_string_1 = 'The subset and equality comparisons do not generalize to a complete ordering function.'\n",
    "my_string_2 = 'Among the numerous topics within metaphysics and epistemology broadly construed are'\n",
    "my_string_3 = '''Political philosophy is the study of government and the relationship\n",
    "of individuals to communities including the state'''"
   ]
  },
  {
   "cell_type": "markdown",
   "metadata": {},
   "source": [
    "#### The following text contains a list of gas prices per gallon, make a list that contains the prices as floats. After that do the following:\n",
    "1. Sort the prices from low to high.\n",
    "2. Report the lowest and the highest price\n",
    "3. How many prices do you have in the list?\n",
    "4. What is the difference between the highest and the lowest price?\n",
    "5. What is the difference between the second highest and the seconcd lowest price?\n",
    "6. What is the average price?"
   ]
  },
  {
   "cell_type": "code",
   "execution_count": 6,
   "metadata": {
    "collapsed": true
   },
   "outputs": [],
   "source": [
    "gas_prices = '''\n",
    "$1.54, $1.22, $1.47, $1.27, $1.48, $1.8, $1.67, $1.59, $1.42, $1.63, $1.71, $1.33, $1.75, $1.23, $1.26, $1.73,\n",
    "$1.51, $1.6, $1.73, $1.36, $1.39, $1.46, $1.3, $1.43, $1.66, $1.49, $1.39, $1.57, $1.34, $1.6, $1.21, $1.57, $1.65,\n",
    "$1.59, $1.6, $1.48, $1.8, $1.74, $1.54, $1.48, $1.4, $1.8, $1.52, $1.27, $1.32, $1.23, $1.74, $1.41, $1.32, $1.72,\n",
    "$1.57, $1.34, $1.3, $1.27, $1.54, $1.77, $1.7, $1.66, $1.69, $1.21, $1.8, $1.55, $1.42, $1.52, $1.3, $1.36, $1.75,\n",
    "$1.68, $1.37, $1.37, $1.68, $1.29, $1.71, $1.71, $1.7, $1.47, $1.62, $1.43, $1.42, $1.51, $1.23, $1.62, $1.28, $1.55,\n",
    "$1.22, $1.45, $1.62, $1.63, $1.6, $1.7, $1.56, $1.58, $1.67, $1.61, $1.28, $1.33\n",
    "'''"
   ]
  },
  {
   "cell_type": "code",
   "execution_count": null,
   "metadata": {
    "collapsed": true
   },
   "outputs": [],
   "source": []
  },
  {
   "cell_type": "markdown",
   "metadata": {},
   "source": [
    "#### Using the ``probability_text`` string:\n",
    "1. Create a dictionary that contains the counts of all the words that appear in ``probability_text``, call it ``word_dict``. The keys should be the words and the values should be how many times the word appears in the text.\n",
    "2. Create a dictionary that contains the counts of all the characters that appear in ``probability_text``, call it ``char_dict``. The keys should be the characters and the values should be how many times the word appears in the text."
   ]
  },
  {
   "cell_type": "code",
   "execution_count": null,
   "metadata": {
    "collapsed": true
   },
   "outputs": [],
   "source": [
    "probability_text = '''Probability is the measure of the likelihood that an event will occur\n",
    "Probability is quantified as a number between 0 and 1 where 0 indicates impossibility\n",
    "and 1 indicates certainty The higher the probability of an event \n",
    "the more certain that the event will occur\n",
    "A simple example is the tossing of a fair unbiased coin\n",
    "Since the coin is unbiased the two outcomes head and tail are both equally probable \n",
    "the probability of head equals the probability of tail Since no other outcomes are possible\n",
    "the probability is 12 or 50 of either head or tail In other words\n",
    "the probability of head is 1 out of 2 outcomes and the probability of tail is also 1 out of 2 outcomes\n",
    "expressed as 05 when converted to decimal with the abovementioned quantification system\n",
    "This type of probability is also called a priori probability\n",
    "These concepts have been given an axiomatic mathematical formalization in probability theory\n",
    "which is used widely in such areas of study as mathematics statistics finance gambling\n",
    "science in particular physics artificial intelligencemachine learning computer science game theory \n",
    "and philosophy to for example draw inferences about the expected frequency of events Probability theory is also \n",
    "used to describe the underlying mechanics and regularities of complex systems'''"
   ]
  }
 ],
 "metadata": {
  "kernelspec": {
   "display_name": "Python 2",
   "language": "python",
   "name": "python2"
  },
  "language_info": {
   "codemirror_mode": {
    "name": "ipython",
    "version": 2
   },
   "file_extension": ".py",
   "mimetype": "text/x-python",
   "name": "python",
   "nbconvert_exporter": "python",
   "pygments_lexer": "ipython2",
   "version": "2.7.11"
  }
 },
 "nbformat": 4,
 "nbformat_minor": 0
}
