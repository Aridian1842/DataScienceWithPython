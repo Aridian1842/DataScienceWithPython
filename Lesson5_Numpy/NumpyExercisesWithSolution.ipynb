{
 "cells": [
  {
   "cell_type": "markdown",
   "metadata": {},
   "source": [
    "# Numpy exercises"
   ]
  },
  {
   "cell_type": "code",
   "execution_count": 61,
   "metadata": {
    "collapsed": true
   },
   "outputs": [],
   "source": [
    "import numpy as np"
   ]
  },
  {
   "cell_type": "code",
   "execution_count": 62,
   "metadata": {
    "collapsed": true
   },
   "outputs": [],
   "source": [
    "np.random.seed(123)"
   ]
  },
  {
   "cell_type": "markdown",
   "metadata": {},
   "source": [
    "#### Print the numpy version"
   ]
  },
  {
   "cell_type": "code",
   "execution_count": 63,
   "metadata": {
    "collapsed": false
   },
   "outputs": [
    {
     "name": "stdout",
     "output_type": "stream",
     "text": [
      "1.10.4\n"
     ]
    }
   ],
   "source": [
    "print(np.__version__)"
   ]
  },
  {
   "cell_type": "markdown",
   "metadata": {},
   "source": [
    "#### Create the following vectors"
   ]
  },
  {
   "cell_type": "code",
   "execution_count": 64,
   "metadata": {
    "collapsed": false
   },
   "outputs": [
    {
     "name": "stdout",
     "output_type": "stream",
     "text": [
      "[ 0.  0.  0.  0.  1.  0.  0.  0.  0.  0.]\n",
      "[ 1  2  3  4  5  6  7  8  9 10 11 12 13 14 15 16 17 18 19 20 21 22 23 24 25\n",
      " 26 27 28 29 30 31 32 33 34 35 36 37 38 39 40 41 42 43 44 45 46 47 48 49 50]\n",
      "[ 0  5 10 15 20 25 30 35 40 45 50 55 60 65 70 75 80 85 90 95]\n",
      "[95 90 85 80 75 70 65 60 55 50 45 40 35 30 25 20 15 10  5  0]\n"
     ]
    }
   ],
   "source": [
    "# A vector of zeros of size 10 but the fifth value equal to 1\n",
    "Z = np.zeros(10)\n",
    "Z[4] = 1\n",
    "print(Z)\n",
    "\n",
    "# A vector with values ranging from 1 to 50\n",
    "print np.arange(1, 51)\n",
    "\n",
    "# A vector with the integer multiples of 5 less than 100\n",
    "print np.arange(0, 100, 5)\n",
    "\n",
    "# Reverse the vector reciently created (first element becomes last)\n",
    "print np.arange(0, 100, 5)[::-1]"
   ]
  },
  {
   "cell_type": "markdown",
   "metadata": {},
   "source": [
    "#### Create a 3x3 matrix with values ranging from 1 to 9"
   ]
  },
  {
   "cell_type": "code",
   "execution_count": 65,
   "metadata": {
    "collapsed": false
   },
   "outputs": [
    {
     "name": "stdout",
     "output_type": "stream",
     "text": [
      "[[1 2 3]\n",
      " [4 5 6]\n",
      " [7 8 9]]\n"
     ]
    }
   ],
   "source": [
    "Z = np.arange(1,10).reshape(3,3)\n",
    "print(Z)"
   ]
  },
  {
   "cell_type": "markdown",
   "metadata": {},
   "source": [
    "#### Find indices of non-zero elements from ``[1,2,0,0,4,0]``"
   ]
  },
  {
   "cell_type": "code",
   "execution_count": 66,
   "metadata": {
    "collapsed": false
   },
   "outputs": [
    {
     "name": "stdout",
     "output_type": "stream",
     "text": [
      "[0 1 4]\n",
      "[0 1 4]\n"
     ]
    }
   ],
   "source": [
    "x = np.array([1,2,0,0,4,0])\n",
    "nz = np.nonzero(x)\n",
    "print nz[0]\n",
    "print np.where(x != 0)[0]"
   ]
  },
  {
   "cell_type": "markdown",
   "metadata": {},
   "source": [
    "#### Create a 10x10 array with random values and find the minimum and maximum values"
   ]
  },
  {
   "cell_type": "code",
   "execution_count": 67,
   "metadata": {
    "collapsed": false
   },
   "outputs": [
    {
     "name": "stdout",
     "output_type": "stream",
     "text": [
      "(0.016129206695016829, 0.99535848203401744)\n"
     ]
    }
   ],
   "source": [
    "Z = np.random.random((10,10))\n",
    "Zmin, Zmax = Z.min(), Z.max()\n",
    "print(Zmin, Zmax)"
   ]
  },
  {
   "cell_type": "markdown",
   "metadata": {},
   "source": [
    "#### Create a random vector of size 30 and find the mean and the standard deviation"
   ]
  },
  {
   "cell_type": "code",
   "execution_count": 68,
   "metadata": {
    "collapsed": false
   },
   "outputs": [
    {
     "name": "stdout",
     "output_type": "stream",
     "text": [
      "0.517560667551\n",
      "0.275640205023\n"
     ]
    }
   ],
   "source": [
    "Z = np.random.random(30)\n",
    "print Z.mean()\n",
    "print Z.std()"
   ]
  },
  {
   "cell_type": "markdown",
   "metadata": {},
   "source": [
    "#### Create a 2d array of shape (10,10) with 1 on the border and 0 inside"
   ]
  },
  {
   "cell_type": "code",
   "execution_count": 69,
   "metadata": {
    "collapsed": false
   },
   "outputs": [
    {
     "name": "stdout",
     "output_type": "stream",
     "text": [
      "[[ 1.  1.  1.  1.  1.  1.  1.  1.  1.  1.]\n",
      " [ 1.  0.  0.  0.  0.  0.  0.  0.  0.  1.]\n",
      " [ 1.  0.  0.  0.  0.  0.  0.  0.  0.  1.]\n",
      " [ 1.  0.  0.  0.  0.  0.  0.  0.  0.  1.]\n",
      " [ 1.  0.  0.  0.  0.  0.  0.  0.  0.  1.]\n",
      " [ 1.  0.  0.  0.  0.  0.  0.  0.  0.  1.]\n",
      " [ 1.  0.  0.  0.  0.  0.  0.  0.  0.  1.]\n",
      " [ 1.  0.  0.  0.  0.  0.  0.  0.  0.  1.]\n",
      " [ 1.  0.  0.  0.  0.  0.  0.  0.  0.  1.]\n",
      " [ 1.  1.  1.  1.  1.  1.  1.  1.  1.  1.]]\n"
     ]
    }
   ],
   "source": [
    "Z = np.ones((10,10))\n",
    "Z[1:-1,1:-1] = 0\n",
    "print(Z)"
   ]
  },
  {
   "cell_type": "markdown",
   "metadata": {},
   "source": [
    "#### Create random vector of size 10 and replace the maximum value by 0"
   ]
  },
  {
   "cell_type": "code",
   "execution_count": 70,
   "metadata": {
    "collapsed": false
   },
   "outputs": [
    {
     "name": "stdout",
     "output_type": "stream",
     "text": [
      "[ 0.73107304  0.16106901  0.60069857  0.86586446  0.          0.07936579\n",
      "  0.42834727  0.20454286  0.45063649  0.54776357]\n"
     ]
    }
   ],
   "source": [
    "Z = np.random.random(10)\n",
    "Z[Z.argmax()] = 0\n",
    "print(Z)"
   ]
  },
  {
   "cell_type": "markdown",
   "metadata": {},
   "source": [
    "#### Create two arrays of size 10 with random integers between 1 and 20. Find common numbers between two arrays."
   ]
  },
  {
   "cell_type": "code",
   "execution_count": 71,
   "metadata": {
    "collapsed": false
   },
   "outputs": [
    {
     "name": "stdout",
     "output_type": "stream",
     "text": [
      "[ 4  4  5 16  9  2  5  1  5  9]\n",
      "[15  2 10  4  3 16  3  2  5 17]\n",
      "[ 2  4  5 16]\n"
     ]
    }
   ],
   "source": [
    "a1 = np.random.randint(0,20,10)\n",
    "print a1\n",
    "a2 = np.random.randint(0,20,10)\n",
    "print a2\n",
    "print np.intersect1d(a1,a2)"
   ]
  },
  {
   "cell_type": "markdown",
   "metadata": {},
   "source": [
    "#### Create a 3 x 5 matrix of integers from 0 to 9, find the sums of the rows, the columns and the whole matrix"
   ]
  },
  {
   "cell_type": "code",
   "execution_count": 72,
   "metadata": {
    "collapsed": false
   },
   "outputs": [
    {
     "name": "stdout",
     "output_type": "stream",
     "text": [
      "[[7 5 1 2 8]\n",
      " [5 0 3 3 3]\n",
      " [1 7 6 3 1]]\n",
      "\n",
      "====\n",
      "[13 12 10  8 12]\n",
      "[23 14 18]\n",
      "55\n"
     ]
    }
   ],
   "source": [
    "M = np.array(np.random.randint(0,9,15), dtype=np.int).reshape(3,5)\n",
    "print M\n",
    "print '\\n===='\n",
    "print M.sum(axis = 0)  #column sums\n",
    "print M.sum(axis = 1) #row sums\n",
    "print M.sum() # entire matrix"
   ]
  },
  {
   "cell_type": "markdown",
   "metadata": {},
   "source": [
    "#### Calculate the values of the function $f(x) = x^2 + 3x - 6$ for 100 numbers in from -2 to 2"
   ]
  },
  {
   "cell_type": "code",
   "execution_count": 73,
   "metadata": {
    "collapsed": false
   },
   "outputs": [
    {
     "data": {
      "text/plain": [
       "array([-8.        , -8.03877155, -8.07427813, -8.10651974, -8.13549638,\n",
       "       -8.16120804, -8.18365473, -8.20283645, -8.21875319, -8.23140496,\n",
       "       -8.24079176, -8.24691358, -8.24977043, -8.24936231, -8.24568922,\n",
       "       -8.23875115, -8.22854811, -8.21508009, -8.19834711, -8.17834915,\n",
       "       -8.15508622, -8.12855831, -8.09876543, -8.06570758, -8.02938476,\n",
       "       -7.98979696, -7.94694419, -7.90082645, -7.85144373, -7.79879604,\n",
       "       -7.74288338, -7.68370574, -7.62126314, -7.55555556, -7.486583  ,\n",
       "       -7.41434547, -7.33884298, -7.2600755 , -7.17804306, -7.09274564,\n",
       "       -7.00418325, -6.91235588, -6.81726354, -6.71890623, -6.61728395,\n",
       "       -6.51239669, -6.40424446, -6.29282726, -6.17814509, -6.06019794,\n",
       "       -5.93898582, -5.81450872, -5.68676666, -5.55575962, -5.4214876 ,\n",
       "       -5.28395062, -5.14314866, -4.99908173, -4.85174982, -4.70115294,\n",
       "       -4.54729109, -4.39016427, -4.22977247, -4.0661157 , -3.89919396,\n",
       "       -3.72900724, -3.55555556, -3.37883889, -3.19885726, -3.01561065,\n",
       "       -2.82909907, -2.63932252, -2.44628099, -2.24997449, -2.05040302,\n",
       "       -1.84756657, -1.64146516, -1.43209877, -1.2194674 , -1.00357106,\n",
       "       -0.78440975, -0.56198347, -0.33629222, -0.10733599,  0.12488522,\n",
       "        0.36037139,  0.59912254,  0.84113866,  1.08641975,  1.33496582,\n",
       "        1.58677686,  1.84185287,  2.10019386,  2.36179982,  2.62667075,\n",
       "        2.89480665,  3.16620753,  3.44087338,  3.7188042 ,  4.        ])"
      ]
     },
     "execution_count": 73,
     "metadata": {},
     "output_type": "execute_result"
    }
   ],
   "source": [
    "x = np.linspace(-2, 2, num=100)\n",
    "x**2 + 3*x - 6"
   ]
  },
  {
   "cell_type": "markdown",
   "metadata": {},
   "source": [
    "#### Implement the following algorithm in a function to detect outliers in an vector of numbers:\n",
    "1. Calculate the first and third quartiles $Q_1, Q_3$ of a vector.\n",
    "1. Calculate the inter-quartile range (IQR) of a vector.\n",
    "2. Categorize as outliers any value outside the intervar $[Q_1 - 1.5\\times IQR, Q_3 + 1.5 \\times IQR]$"
   ]
  },
  {
   "cell_type": "code",
   "execution_count": 74,
   "metadata": {
    "collapsed": false,
    "scrolled": true
   },
   "outputs": [
    {
     "name": "stdout",
     "output_type": "stream",
     "text": [
      "[-2.5570546  -3.23105501  2.2007021 ]\n",
      "[ 2.95862545 -2.78811288  3.57157922]\n",
      "[-2.7944723   2.76660307 -3.16705533 -2.78083727 -2.93022284 -3.8013782\n",
      "  2.85070774 -2.83365746 -3.58749383 -2.63792249 -2.84084736 -3.06698763\n",
      " -2.92002932 -2.87205861  2.79197117 -2.67449029]\n"
     ]
    }
   ],
   "source": [
    "def detect_outliers(vector):\n",
    "    Q1 = np.percentile(vector, q=25)\n",
    "    Q3 = np.percentile(vector, q=75)\n",
    "    IQR = Q3 - Q1\n",
    "    mask = (vector < (Q1 - 1.5*IQR)) | (vector > (Q3 + 1.5*IQR))\n",
    "    return vector[mask]\n",
    "\n",
    "print detect_outliers(np.random.normal(size=100)) # 100 random normal values\n",
    "print detect_outliers(np.random.normal(size=500)) # 500 random normal values\n",
    "print detect_outliers(np.random.normal(size=2000)) # 2000 random normal values"
   ]
  },
  {
   "cell_type": "markdown",
   "metadata": {},
   "source": [
    "#### Using the same algorithm as before, implement a function that replaces all the outliers with the appropiate endpoint of the given interval (for small outliers use the left endpoint and for large outliers the right one)"
   ]
  },
  {
   "cell_type": "code",
   "execution_count": 75,
   "metadata": {
    "collapsed": false
   },
   "outputs": [
    {
     "name": "stdout",
     "output_type": "stream",
     "text": [
      "[ 20.           0.31902867  -1.57333838   0.82567769  -0.31525042\n",
      "   0.24229681  -0.21341039  -0.08020001  -1.11384279  -0.16879759]\n",
      "[ 1.18429988  0.31902867 -1.17424459  0.82567769 -0.31525042  0.24229681\n",
      " -0.21341039 -0.08020001 -1.11384279 -0.16879759]\n"
     ]
    }
   ],
   "source": [
    "def replace_outliers(vector):\n",
    "    Q1 = np.percentile(vector, q=25)\n",
    "    Q3 = np.percentile(vector, q=75)\n",
    "    IQR = Q3 - Q1\n",
    "    vector[vector < (Q1 - 1.5*IQR)] = Q1 - 1.5*IQR\n",
    "    vector[vector > (Q3 + 1.5*IQR)] = Q3 + 1.5*IQR\n",
    "    return vector\n",
    "\n",
    "x = np.random.normal(size=10)\n",
    "x[0] = 20 # this is an outlier we introduce in our vector\n",
    "print x\n",
    "print replace_outliers(x)"
   ]
  },
  {
   "cell_type": "markdown",
   "metadata": {},
   "source": [
    "#### Using the standard normal distribution create a random vector of size 100. Find the closest value to 1"
   ]
  },
  {
   "cell_type": "code",
   "execution_count": 76,
   "metadata": {
    "collapsed": false
   },
   "outputs": [
    {
     "name": "stdout",
     "output_type": "stream",
     "text": [
      "0.98581491881\n"
     ]
    }
   ],
   "source": [
    "z = np.random.normal(size = 100)\n",
    "index_closest = (np.abs(z-1)).argmin()\n",
    "print(z[index_closest])"
   ]
  },
  {
   "cell_type": "markdown",
   "metadata": {},
   "source": [
    "#### Repeate the same excersise as above but this time create a 100 x 10 matrix. Find the closest value to 1 in every column."
   ]
  },
  {
   "cell_type": "code",
   "execution_count": 77,
   "metadata": {
    "collapsed": false
   },
   "outputs": [
    {
     "data": {
      "text/plain": [
       "[1.013471037295286,\n",
       " 1.0201166859834945,\n",
       " 1.0423080349227836,\n",
       " 1.0725108548069282,\n",
       " 1.0624078153219716,\n",
       " 1.0141309534268013,\n",
       " 1.0114098227508985,\n",
       " 1.0073538727733313,\n",
       " 0.99337636049268041,\n",
       " 1.0711998720624445]"
      ]
     },
     "execution_count": 77,
     "metadata": {},
     "output_type": "execute_result"
    }
   ],
   "source": [
    "z = np.random.normal(size = 1000).reshape(100,10)\n",
    "index_closest = np.abs(z - 1).argmin(axis=0)\n",
    "[z[:,i][index_closest[i]] for i in range(10)]"
   ]
  },
  {
   "cell_type": "markdown",
   "metadata": {},
   "source": [
    "#### Create a matrix 20 x 5 with random normal values with mean=100. Subtract the mean of each column of the matrix"
   ]
  },
  {
   "cell_type": "code",
   "execution_count": 78,
   "metadata": {
    "collapsed": false
   },
   "outputs": [
    {
     "data": {
      "text/plain": [
       "array([ -1.91846539e-14,   1.35003120e-14,  -1.84741111e-14,\n",
       "         4.26325641e-15,  -2.84217094e-15])"
      ]
     },
     "execution_count": 78,
     "metadata": {},
     "output_type": "execute_result"
    }
   ],
   "source": [
    "X = np.random.normal(loc=100, size=(20,5))\n",
    "\n",
    "Y = X - X.mean(axis=0)\n",
    "Y.mean(axis=0) # Try to explain this result"
   ]
  },
  {
   "cell_type": "markdown",
   "metadata": {},
   "source": [
    "#### Create an array of 100 integers from 0 to 9. Find the most and the least frequent values in the array."
   ]
  },
  {
   "cell_type": "code",
   "execution_count": 79,
   "metadata": {
    "collapsed": false
   },
   "outputs": [
    {
     "name": "stdout",
     "output_type": "stream",
     "text": [
      "Least Frecuent:  8\n",
      "Most Frecuent:  3\n"
     ]
    }
   ],
   "source": [
    "Z = np.random.randint(0,10,100)\n",
    "print \"Least Frecuent: \", np.bincount(Z).argmin()\n",
    "print \"Most Frecuent: \",np.bincount(Z).argmax()"
   ]
  },
  {
   "cell_type": "markdown",
   "metadata": {},
   "source": [
    "#### Simulate tossing a fair coin 20 times, count the number of \"heads\"."
   ]
  },
  {
   "cell_type": "code",
   "execution_count": 80,
   "metadata": {
    "collapsed": false
   },
   "outputs": [
    {
     "name": "stdout",
     "output_type": "stream",
     "text": [
      "[0 1 1 1 1 1 1 0 1 0 0 0 0 0 1 0 1 0 0 0]\n",
      "We got 9 heads\n"
     ]
    }
   ],
   "source": [
    "coin = np.random.randint(0,2,size=20)\n",
    "print coin # we assume that 1 is \"heads\"\n",
    "print \"We got {} heads\".format(coin.sum())"
   ]
  },
  {
   "cell_type": "markdown",
   "metadata": {},
   "source": [
    "#### As in the last exercise, simulate tossing a fair coin 20 times, do the same simulation 1,000 times. Count the number of \"heads\" for each simulation (save them in an array ``counts``). Report and give an interpretation of the descriptive statistics of ``counts``. Print the distribution of ``counts``"
   ]
  },
  {
   "cell_type": "code",
   "execution_count": 81,
   "metadata": {
    "collapsed": false
   },
   "outputs": [
    {
     "name": "stdout",
     "output_type": "stream",
     "text": [
      "9.945\n",
      "10.0\n",
      "2 16\n",
      "2.26008296308\n",
      "===============\n",
      "\n",
      "2 heads observed 1 times\n",
      "3 heads observed 1 times\n",
      "4 heads observed 8 times\n",
      "5 heads observed 21 times\n",
      "6 heads observed 35 times\n",
      "7 heads observed 68 times\n",
      "8 heads observed 117 times\n",
      "9 heads observed 167 times\n",
      "10 heads observed 170 times\n",
      "11 heads observed 168 times\n",
      "12 heads observed 123 times\n",
      "13 heads observed 67 times\n",
      "14 heads observed 31 times\n",
      "15 heads observed 19 times\n",
      "16 heads observed 4 times\n"
     ]
    }
   ],
   "source": [
    "#Each column of this matrix will be one 20-tosses simulation\n",
    "coin_matrix = np.random.randint(0,2,size=(20,1000)) \n",
    "#Counting the number of heads in each simulation (1 = \"heads\")\n",
    "counts = coin_matrix.sum(axis=0)\n",
    "\n",
    "print counts.mean()\n",
    "print np.median(counts)\n",
    "print counts.min(), counts.max()\n",
    "print counts.std()\n",
    "\n",
    "unique_numbers = np.unique(counts) # The numbers that where observed in the counts vector\n",
    "observed_times = np.bincount(counts) # Check out the documentation for the np.bincount function\n",
    "observed_times = observed_times[observed_times>0] # deleting the zero-counts\n",
    "print \"===============\\n\"\n",
    "for n, count in zip(unique_numbers, observed_times):\n",
    "    print \"{} heads observed {} times\".format(n, count)"
   ]
  }
 ],
 "metadata": {
  "kernelspec": {
   "display_name": "Python 2",
   "language": "python",
   "name": "python2"
  },
  "language_info": {
   "codemirror_mode": {
    "name": "ipython",
    "version": 2
   },
   "file_extension": ".py",
   "mimetype": "text/x-python",
   "name": "python",
   "nbconvert_exporter": "python",
   "pygments_lexer": "ipython2",
   "version": "2.7.11"
  }
 },
 "nbformat": 4,
 "nbformat_minor": 0
}
