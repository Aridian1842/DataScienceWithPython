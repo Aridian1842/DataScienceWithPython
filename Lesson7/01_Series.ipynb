{
 "cells": [
  {
   "cell_type": "markdown",
   "metadata": {},
   "source": [
    "# Pandas Series"
   ]
  },
  {
   "cell_type": "code",
   "execution_count": 1,
   "metadata": {
    "collapsed": true
   },
   "outputs": [],
   "source": [
    "%matplotlib inline\n",
    "import numpy as np\n",
    "import matplotlib.pyplot as plt"
   ]
  },
  {
   "cell_type": "markdown",
   "metadata": {},
   "source": [
    "## Introduction \n",
    "\n",
    "**pandas** is a Python package providing fast, flexible, and expressive data structures designed to work with *relational* or *labeled* data both. It is a fundamental high-level building block for doing practical, real world data analysis in Python. \n",
    "\n",
    "pandas is well suited for:\n",
    "\n",
    "- Tabular data with heterogeneously-typed columns, as in an SQL table or Excel spreadsheet\n",
    "- Ordered and unordered (not necessarily fixed-frequency) time series data.\n",
    "- Arbitrary matrix data (homogeneously typed or heterogeneous) with row and column labels\n",
    "- Any other form of observational / statistical data sets. The data actually need not be labeled at all to be placed into a pandas data structure\n",
    "\n",
    "\n",
    "Key features:\n",
    "    \n",
    "- Easy handling of **missing data**\n",
    "- **Size mutability**: columns can be inserted and deleted from DataFrame and higher dimensional objects\n",
    "- Automatic and explicit **data alignment**: objects can be explicitly aligned to a set of labels, or the data can be aligned automatically\n",
    "- Powerful, flexible **group by functionality** to perform split-apply-combine operations on data sets\n",
    "- Intelligent label-based **slicing, fancy indexing, and subsetting** of large data sets\n",
    "- Intuitive **merging and joining** data sets\n",
    "- Flexible **reshaping and pivoting** of data sets\n",
    "- **Hierarchical labeling** of axes\n",
    "- Robust **IO tools** for loading data from flat files, Excel files, databases, and HDF5\n",
    "- **Time series functionality**: date range generation and frequency conversion, moving window statistics, moving window linear regressions, date shifting and lagging, etc."
   ]
  },
  {
   "cell_type": "markdown",
   "metadata": {},
   "source": [
    "## Importing pandas"
   ]
  },
  {
   "cell_type": "code",
   "execution_count": 2,
   "metadata": {
    "collapsed": true
   },
   "outputs": [],
   "source": [
    "# The importing convention\n",
    "import pandas as pd"
   ]
  },
  {
   "cell_type": "markdown",
   "metadata": {},
   "source": [
    "## What is a Series?\n",
    "\n",
    "The **Series** data structure in Pandas is a <i>one-dimensional labeled array</i>. \n",
    "\n",
    "* Data in the array can be of any type (integers, strings, floating point numbers, Python objects, etc.). \n",
    "* Data within the array is homogeneous\n",
    "* Pandas Series objects are __amphibian__ in character, exhibiting both ndarray-like and dict-like properties.\n",
    "    \n",
    "<img src=\"img/series1.jpg\">\n"
   ]
  },
  {
   "cell_type": "markdown",
   "metadata": {},
   "source": [
    "## Creating a Series Objects\n",
    "\n",
    "There are many ways to create a Pandas Series objects, some of the most common ways are:\n",
    "- Creation from a list\n",
    "- Creation from a dictionary\n",
    "- Creation from a ndarray\n",
    "- From an external source like a file"
   ]
  },
  {
   "cell_type": "code",
   "execution_count": 3,
   "metadata": {
    "collapsed": false
   },
   "outputs": [
    {
     "data": {
      "text/plain": [
       "0    33\n",
       "1    19\n",
       "2    15\n",
       "3    89\n",
       "4    11\n",
       "5    -5\n",
       "6     9\n",
       "dtype: int64"
      ]
     },
     "execution_count": 3,
     "metadata": {},
     "output_type": "execute_result"
    }
   ],
   "source": [
    "# From a list: use the Series constructor with data as a list of integers\n",
    "s1 = pd.Series([33, 19, 15, 89, 11, -5, 9])\n",
    "\n",
    "# the default index, if not specified in the Series constructor, is a sequence of integers\n",
    "s1"
   ]
  },
  {
   "cell_type": "code",
   "execution_count": 4,
   "metadata": {
    "collapsed": false
   },
   "outputs": [
    {
     "data": {
      "text/plain": [
       "pandas.core.series.Series"
      ]
     },
     "execution_count": 4,
     "metadata": {},
     "output_type": "execute_result"
    }
   ],
   "source": [
    "# type of series is pandas series\n",
    "type(s1)"
   ]
  },
  {
   "cell_type": "code",
   "execution_count": 5,
   "metadata": {
    "collapsed": false
   },
   "outputs": [
    {
     "data": {
      "text/plain": [
       "pandas.core.series.Series"
      ]
     },
     "execution_count": 5,
     "metadata": {},
     "output_type": "execute_result"
    }
   ],
   "source": [
    "# type of series is pandas series\n",
    "type(s1)"
   ]
  },
  {
   "cell_type": "code",
   "execution_count": 6,
   "metadata": {
    "collapsed": false
   },
   "outputs": [
    {
     "data": {
      "text/plain": [
       "array([33, 19, 15, 89, 11, -5,  9], dtype=int64)"
      ]
     },
     "execution_count": 6,
     "metadata": {},
     "output_type": "execute_result"
    }
   ],
   "source": [
    "# retrieve the values of the series\n",
    "s1.values"
   ]
  },
  {
   "cell_type": "code",
   "execution_count": 7,
   "metadata": {
    "collapsed": false
   },
   "outputs": [
    {
     "data": {
      "text/plain": [
       "numpy.ndarray"
      ]
     },
     "execution_count": 7,
     "metadata": {},
     "output_type": "execute_result"
    }
   ],
   "source": [
    "# type of data values is NumPy ndarray\n",
    "type(s1.values)"
   ]
  },
  {
   "cell_type": "code",
   "execution_count": 8,
   "metadata": {
    "collapsed": false
   },
   "outputs": [
    {
     "data": {
      "text/plain": [
       "RangeIndex(start=0, stop=7, step=1)"
      ]
     },
     "execution_count": 8,
     "metadata": {},
     "output_type": "execute_result"
    }
   ],
   "source": [
    "# retrieve the indices of the array\n",
    "s1.index"
   ]
  },
  {
   "cell_type": "markdown",
   "metadata": {},
   "source": [
    "<img src=\"img/series2.jpg\">"
   ]
  },
  {
   "cell_type": "markdown",
   "metadata": {},
   "source": [
    "### Creating a Series Object with Meaningful Labels"
   ]
  },
  {
   "cell_type": "code",
   "execution_count": 9,
   "metadata": {
    "collapsed": false
   },
   "outputs": [
    {
     "data": {
      "text/plain": [
       "Mon    33\n",
       "Tue    19\n",
       "Wed    15\n",
       "Thu    89\n",
       "Fri    11\n",
       "Sat    -5\n",
       "Sun     9\n",
       "dtype: int64"
      ]
     },
     "execution_count": 9,
     "metadata": {},
     "output_type": "execute_result"
    }
   ],
   "source": [
    "# define the data and index as lists\n",
    "data1 = [33, 19, 15, 89, 11, -5, 9]\n",
    "index1 = ['Mon','Tue','Wed','Thu','Fri','Sat','Sun']\n",
    "\n",
    "# create series \n",
    "s2 = pd.Series(data1, index=index1)\n",
    "s2"
   ]
  },
  {
   "cell_type": "code",
   "execution_count": 10,
   "metadata": {
    "collapsed": false
   },
   "outputs": [
    {
     "data": {
      "text/plain": [
       "Index([u'Mon', u'Tue', u'Wed', u'Thu', u'Fri', u'Sat', u'Sun'], dtype='object')"
      ]
     },
     "execution_count": 10,
     "metadata": {},
     "output_type": "execute_result"
    }
   ],
   "source": [
    "# verify index \n",
    "s2.index"
   ]
  },
  {
   "cell_type": "markdown",
   "metadata": {},
   "source": [
    "<img src=\"img/series3.jpg\">"
   ]
  },
  {
   "cell_type": "code",
   "execution_count": 11,
   "metadata": {
    "collapsed": false
   },
   "outputs": [
    {
     "data": {
      "text/plain": [
       "Weekday\n",
       "Mon    33\n",
       "Tue    19\n",
       "Wed    15\n",
       "Thu    89\n",
       "Fri    11\n",
       "Sat    -5\n",
       "Sun     9\n",
       "Name: Daily Temperatures, dtype: int64"
      ]
     },
     "execution_count": 11,
     "metadata": {},
     "output_type": "execute_result"
    }
   ],
   "source": [
    "# we can also give meaningful labels to the series data and the index\n",
    "s2.name='Daily Temperatures'\n",
    "s2.index.name='Weekday'\n",
    "s2"
   ]
  },
  {
   "cell_type": "markdown",
   "metadata": {},
   "source": [
    "### Data in a Series is homogeneous"
   ]
  },
  {
   "cell_type": "code",
   "execution_count": 12,
   "metadata": {
    "collapsed": false
   },
   "outputs": [
    {
     "name": "stdout",
     "output_type": "stream",
     "text": [
      "Mon    33.0\n",
      "Tue    19.3\n",
      "Wed    15.0\n",
      "Thu    89.0\n",
      "Fri    11.0\n",
      "Sat    -5.0\n",
      "Sun     9.0\n",
      "dtype: float64\n"
     ]
    }
   ],
   "source": [
    "# the second data element in the list is a float\n",
    "data2 = [33, 19.3, 15, 89, 11, -5, 9]\n",
    "s3 = pd.Series(data2, index=index1)\n",
    "# all the data elements are of type float\n",
    "print s3"
   ]
  },
  {
   "cell_type": "markdown",
   "metadata": {},
   "source": [
    "The most general representation of a Series is as an ordered key-value store.\n",
    "\n",
    "* The order is represented by the offset. \n",
    "* The key-value is a mapping from index or label to the data array values. \n",
    "* The Index can be viewed as \"offset\" or \"position\" and as \"label\" or \"key\".\n",
    "\n",
    "<img src=\"img/series4.jpg\">"
   ]
  },
  {
   "cell_type": "markdown",
   "metadata": {},
   "source": [
    "#### A series has some array-like properties"
   ]
  },
  {
   "cell_type": "code",
   "execution_count": 13,
   "metadata": {
    "collapsed": false
   },
   "outputs": [
    {
     "name": "stdout",
     "output_type": "stream",
     "text": [
      "33 \n",
      "\n",
      "Weekday\n",
      "Mon    33\n",
      "Tue    19\n",
      "Name: Daily Temperatures, dtype: int64 \n",
      "\n",
      "9 \n",
      "\n",
      "[34, 20, 16, 90, 12, -4, 10]\n"
     ]
    }
   ],
   "source": [
    "print s2[0], '\\n'  # Accesing using the position of the element\n",
    "print s2[0:2], '\\n'\n",
    "print s2[-1], '\\n'\n",
    "print [x+1 for x in s2]"
   ]
  },
  {
   "cell_type": "markdown",
   "metadata": {},
   "source": [
    "#### A series has some dict-like properties"
   ]
  },
  {
   "cell_type": "code",
   "execution_count": 14,
   "metadata": {
    "collapsed": false
   },
   "outputs": [
    {
     "name": "stdout",
     "output_type": "stream",
     "text": [
      "33 \n",
      "\n",
      "True \n",
      "\n",
      "False \n",
      "\n",
      "33\n",
      "5\n"
     ]
    }
   ],
   "source": [
    "print s2['Mon'], '\\n' # Accesing using the index-value mapping\n",
    "print 'Mon' in s2, '\\n'\n",
    "print 'Monday' in s2, '\\n'\n",
    "\n",
    "#Using the get method, a missing label will return None or specified default:\n",
    "print s2.get('Mon', 5)\n",
    "print s2.get('Monday', 5)"
   ]
  },
  {
   "cell_type": "markdown",
   "metadata": {},
   "source": [
    "### Creating a Series from a Python Dict"
   ]
  },
  {
   "cell_type": "code",
   "execution_count": 23,
   "metadata": {
    "collapsed": false
   },
   "outputs": [
    {
     "data": {
      "text/plain": [
       "Fri    11\n",
       "Mon    33\n",
       "Sat    -5\n",
       "Sun     9\n",
       "Thu    89\n",
       "Tue    19\n",
       "Wed    15\n",
       "dtype: int64"
      ]
     },
     "execution_count": 23,
     "metadata": {},
     "output_type": "execute_result"
    }
   ],
   "source": [
    "dict1 = {'Mon': 33, 'Tue': 19, 'Wed': 15, 'Thu': 89, 'Fri': 11, 'Sat': -5, 'Sun': 9}\n",
    "s4 = pd.Series(dict1)\n",
    "s4"
   ]
  },
  {
   "cell_type": "code",
   "execution_count": 25,
   "metadata": {
    "collapsed": false
   },
   "outputs": [
    {
     "name": "stdout",
     "output_type": "stream",
     "text": [
      "11\n",
      "11\n"
     ]
    }
   ],
   "source": [
    "print s4['Fri']\n",
    "print s4[0]"
   ]
  },
  {
   "cell_type": "markdown",
   "metadata": {},
   "source": [
    "### Creating a Series from a Scalar"
   ]
  },
  {
   "cell_type": "code",
   "execution_count": 16,
   "metadata": {
    "collapsed": false
   },
   "outputs": [
    {
     "data": {
      "text/plain": [
       "Mon   -5\n",
       "Tue   -5\n",
       "Wed   -5\n",
       "Thu   -5\n",
       "Fri   -5\n",
       "Sat   -5\n",
       "Sun   -5\n",
       "dtype: int64"
      ]
     },
     "execution_count": 16,
     "metadata": {},
     "output_type": "execute_result"
    }
   ],
   "source": [
    "s5 = pd.Series(-5, index=index1)\n",
    "s5"
   ]
  },
  {
   "cell_type": "markdown",
   "metadata": {},
   "source": [
    "### A Series has ndarray-like properties "
   ]
  },
  {
   "cell_type": "code",
   "execution_count": 17,
   "metadata": {
    "collapsed": false
   },
   "outputs": [
    {
     "name": "stdout",
     "output_type": "stream",
     "text": [
      "Weekday\n",
      "Mon     66\n",
      "Tue     38\n",
      "Wed     30\n",
      "Thu    178\n",
      "Fri     22\n",
      "Sat    -10\n",
      "Sun     18\n",
      "Name: Daily Temperatures, dtype: int64\n",
      "Fri    2.397895\n",
      "Mon    3.496508\n",
      "Sat         NaN\n",
      "Sun    2.197225\n",
      "Thu    4.488636\n",
      "Tue    2.944439\n",
      "Wed    2.708050\n",
      "dtype: float64\n"
     ]
    }
   ],
   "source": [
    "# vectorized operations\n",
    "print s2 * 2\n",
    "print np.log(s4)"
   ]
  },
  {
   "cell_type": "markdown",
   "metadata": {},
   "source": [
    "A key difference between Series and ndarray is that operations between Series automatically align the data based on label. Thus, you can write computations without giving consideration to whether the Series involved have the same labels."
   ]
  },
  {
   "cell_type": "code",
   "execution_count": 18,
   "metadata": {
    "collapsed": false,
    "scrolled": true
   },
   "outputs": [
    {
     "name": "stdout",
     "output_type": "stream",
     "text": [
      "a    5\n",
      "b    8\n",
      "c    9\n",
      "d    5\n",
      "e    0\n",
      "dtype: int32\n",
      "a    0\n",
      "b    1\n",
      "c    7\n",
      "d    6\n",
      "f    9\n",
      "dtype: int32\n"
     ]
    }
   ],
   "source": [
    "np.random.seed(1)\n",
    "rand1 = pd.Series(np.random.randint(0, 10, size=5), index=['a', 'b', 'c', 'd', 'e'])\n",
    "rand2 = pd.Series(np.random.randint(0, 10, size=5), index=['a', 'b', 'c', 'd', 'f'])\n",
    "print rand1\n",
    "print rand2"
   ]
  },
  {
   "cell_type": "markdown",
   "metadata": {},
   "source": [
    "The result of an operation between unaligned Series will have the union of the indexes involved. If a label is not found in one Series or the other, the result will be marked as missing NaN. Being able to write code without doing any explicit data alignment grants immense freedom and flexibility in interactive data analysis and research. The integrated data alignment features of the pandas data structures set pandas apart from the majority of related tools for working with labeled data."
   ]
  },
  {
   "cell_type": "code",
   "execution_count": 19,
   "metadata": {
    "collapsed": false
   },
   "outputs": [
    {
     "data": {
      "text/plain": [
       "a     5.0\n",
       "b     9.0\n",
       "c    16.0\n",
       "d    11.0\n",
       "e     NaN\n",
       "f     NaN\n",
       "dtype: float64"
      ]
     },
     "execution_count": 19,
     "metadata": {},
     "output_type": "execute_result"
    }
   ],
   "source": [
    "rand1 + rand2"
   ]
  },
  {
   "cell_type": "code",
   "execution_count": 22,
   "metadata": {
    "collapsed": false
   },
   "outputs": [
    {
     "data": {
      "text/plain": [
       "5"
      ]
     },
     "execution_count": 22,
     "metadata": {},
     "output_type": "execute_result"
    }
   ],
   "source": [
    "rand1['d']"
   ]
  },
  {
   "cell_type": "markdown",
   "metadata": {},
   "source": [
    "### Attributions:\n",
    "Built used some of the contents found in the following repositories\n",
    "- http://github/alfredessa (Alfred Essa)\n",
    "- https://github.com/fonnesbeck/statistical-analysis-python-tutorial (Christopher Fonnesbeck)\n",
    "- Pandas Documentation"
   ]
  }
 ],
 "metadata": {
  "kernelspec": {
   "display_name": "Python 2",
   "language": "python",
   "name": "python2"
  },
  "language_info": {
   "codemirror_mode": {
    "name": "ipython",
    "version": 2
   },
   "file_extension": ".py",
   "mimetype": "text/x-python",
   "name": "python",
   "nbconvert_exporter": "python",
   "pygments_lexer": "ipython2",
   "version": "2.7.11"
  }
 },
 "nbformat": 4,
 "nbformat_minor": 0
}
