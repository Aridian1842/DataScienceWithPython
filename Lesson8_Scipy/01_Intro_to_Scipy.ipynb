{
 "cells": [
  {
   "cell_type": "markdown",
   "metadata": {},
   "source": [
    "# Introduction to Scipy"
   ]
  },
  {
   "cell_type": "markdown",
   "metadata": {},
   "source": [
    "The scipy package contains various toolboxes dedicated to common issues in scientific computing. Its different submodules correspond to different applications, such as interpolation, integration, optimization, image processing, statistics, special functions, etc.\n",
    "\n",
    "scipy can be compared to other standard scientific-computing libraries, such as the GSL (GNU Scientific Library for C and C++), or Matlab’s toolboxes. scipy is the core package for scientific routines in Python; it is meant to operate efficiently on numpy arrays, so that numpy and scipy work hand in hand.\n",
    "\n",
    "Before implementing a routine, it is worth checking if the desired data processing is not already implemented in Scipy. As non-professional programmers, scientists often tend to re-invent the wheel, which leads to buggy, non-optimal, difficult-to-share and unmaintainable code. By contrast, Scipy‘s routines are optimized and tested, and should therefore be used when possible."
   ]
  },
  {
   "cell_type": "markdown",
   "metadata": {},
   "source": [
    "This tutorial is far from an introduction to numerical computing. As enumerating the different submodules and functions in scipy would be very boring, we concentrate instead on a few examples to give a general idea of how to use scipy for scientific computing."
   ]
  },
  {
   "cell_type": "markdown",
   "metadata": {},
   "source": [
    "This tutorial is far from an introduction to numerical computing or the mathematics related with it. As enumerating the different submodules and functions in scipy would be very boring, we concentrate instead on a few examples to give a general idea of how to use scipy for scientific computing."
   ]
  },
  {
   "cell_type": "markdown",
   "metadata": {},
   "source": [
    "## Scipy Modules"
   ]
  },
  {
   "cell_type": "markdown",
   "metadata": {},
   "source": [
    "scipy is composed of task-specific sub-modules:\n",
    "    \n",
    "<table border=\"1\" class=\"docutils\">\n",
    "<colgroup>\n",
    "<col width=\"36%\">\n",
    "<col width=\"64%\">\n",
    "</colgroup>\n",
    "<tbody valign=\"top\">\n",
    "<tr class=\"row-odd\"><td><a class=\"reference external\" href=\"http://docs.scipy.org/doc/scipy/reference/cluster.html#module-scipy.cluster\" title=\"(in SciPy v0.16.1)\"><tt class=\"xref py py-mod docutils literal\"><span class=\"pre\">scipy.cluster</span></tt></a></td>\n",
    "<td>Vector quantization / Kmeans</td>\n",
    "</tr>\n",
    "<tr class=\"row-even\"><td><a class=\"reference external\" href=\"http://docs.scipy.org/doc/scipy/reference/constants.html#module-scipy.constants\" title=\"(in SciPy v0.16.1)\"><tt class=\"xref py py-mod docutils literal\"><span class=\"pre\">scipy.constants</span></tt></a></td>\n",
    "<td>Physical and mathematical constants</td>\n",
    "</tr>\n",
    "<tr class=\"row-odd\"><td><a class=\"reference external\" href=\"http://docs.scipy.org/doc/scipy/reference/fftpack.html#module-scipy.fftpack\" title=\"(in SciPy v0.16.1)\"><tt class=\"xref py py-mod docutils literal\"><span class=\"pre\">scipy.fftpack</span></tt></a></td>\n",
    "<td>Fourier transform</td>\n",
    "</tr>\n",
    "<tr class=\"row-even\"><td><a class=\"reference external\" href=\"http://docs.scipy.org/doc/scipy/reference/integrate.html#module-scipy.integrate\" title=\"(in SciPy v0.16.1)\"><tt class=\"xref py py-mod docutils literal\"><span class=\"pre\">scipy.integrate</span></tt></a></td>\n",
    "<td>Integration routines</td>\n",
    "</tr>\n",
    "<tr class=\"row-odd\"><td><a class=\"reference external\" href=\"http://docs.scipy.org/doc/scipy/reference/interpolate.html#module-scipy.interpolate\" title=\"(in SciPy v0.16.1)\"><tt class=\"xref py py-mod docutils literal\"><span class=\"pre\">scipy.interpolate</span></tt></a></td>\n",
    "<td>Interpolation</td>\n",
    "</tr>\n",
    "<tr class=\"row-even\"><td><a class=\"reference external\" href=\"http://docs.scipy.org/doc/scipy/reference/io.html#module-scipy.io\" title=\"(in SciPy v0.16.1)\"><tt class=\"xref py py-mod docutils literal\"><span class=\"pre\">scipy.io</span></tt></a></td>\n",
    "<td>Data input and output</td>\n",
    "</tr>\n",
    "<tr class=\"row-odd\"><td><a class=\"reference external\" href=\"http://docs.scipy.org/doc/scipy/reference/linalg.html#module-scipy.linalg\" title=\"(in SciPy v0.16.1)\"><tt class=\"xref py py-mod docutils literal\"><span class=\"pre\">scipy.linalg</span></tt></a></td>\n",
    "<td>Linear algebra routines</td>\n",
    "</tr>\n",
    "<tr class=\"row-even\"><td><a class=\"reference external\" href=\"http://docs.scipy.org/doc/scipy/reference/ndimage.html#module-scipy.ndimage\" title=\"(in SciPy v0.16.1)\"><tt class=\"xref py py-mod docutils literal\"><span class=\"pre\">scipy.ndimage</span></tt></a></td>\n",
    "<td>n-dimensional image package</td>\n",
    "</tr>\n",
    "<tr class=\"row-odd\"><td><a class=\"reference external\" href=\"http://docs.scipy.org/doc/scipy/reference/odr.html#module-scipy.odr\" title=\"(in SciPy v0.16.1)\"><tt class=\"xref py py-mod docutils literal\"><span class=\"pre\">scipy.odr</span></tt></a></td>\n",
    "<td>Orthogonal distance regression</td>\n",
    "</tr>\n",
    "<tr class=\"row-even\"><td><a class=\"reference external\" href=\"http://docs.scipy.org/doc/scipy/reference/optimize.html#module-scipy.optimize\" title=\"(in SciPy v0.16.1)\"><tt class=\"xref py py-mod docutils literal\"><span class=\"pre\">scipy.optimize</span></tt></a></td>\n",
    "<td>Optimization</td>\n",
    "</tr>\n",
    "<tr class=\"row-odd\"><td><a class=\"reference external\" href=\"http://docs.scipy.org/doc/scipy/reference/signal.html#module-scipy.signal\" title=\"(in SciPy v0.16.1)\"><tt class=\"xref py py-mod docutils literal\"><span class=\"pre\">scipy.signal</span></tt></a></td>\n",
    "<td>Signal processing</td>\n",
    "</tr>\n",
    "<tr class=\"row-even\"><td><a class=\"reference external\" href=\"http://docs.scipy.org/doc/scipy/reference/sparse.html#module-scipy.sparse\" title=\"(in SciPy v0.16.1)\"><tt class=\"xref py py-mod docutils literal\"><span class=\"pre\">scipy.sparse</span></tt></a></td>\n",
    "<td>Sparse matrices</td>\n",
    "</tr>\n",
    "<tr class=\"row-odd\"><td><a class=\"reference external\" href=\"http://docs.scipy.org/doc/scipy/reference/spatial.html#module-scipy.spatial\" title=\"(in SciPy v0.16.1)\"><tt class=\"xref py py-mod docutils literal\"><span class=\"pre\">scipy.spatial</span></tt></a></td>\n",
    "<td>Spatial data structures and algorithms</td>\n",
    "</tr>\n",
    "<tr class=\"row-even\"><td><a class=\"reference external\" href=\"http://docs.scipy.org/doc/scipy/reference/special.html#module-scipy.special\" title=\"(in SciPy v0.16.1)\"><tt class=\"xref py py-mod docutils literal\"><span class=\"pre\">scipy.special</span></tt></a></td>\n",
    "<td>Any special mathematical functions</td>\n",
    "</tr>\n",
    "<tr class=\"row-odd\"><td><a class=\"reference external\" href=\"http://docs.scipy.org/doc/scipy/reference/stats.html#module-scipy.stats\" title=\"(in SciPy v0.16.1)\"><tt class=\"xref py py-mod docutils literal\"><span class=\"pre\">scipy.stats</span></tt></a></td>\n",
    "<td>Statistics</td>\n",
    "</tr>\n",
    "</tbody>\n",
    "</table>"
   ]
  },
  {
   "cell_type": "markdown",
   "metadata": {},
   "source": [
    "They all depend on numpy, but are mostly independent of each other. The standard way of importing Numpy and these Scipy modules is:"
   ]
  },
  {
   "cell_type": "code",
   "execution_count": 3,
   "metadata": {
    "collapsed": true
   },
   "outputs": [],
   "source": [
    "import numpy as np"
   ]
  },
  {
   "cell_type": "markdown",
   "metadata": {},
   "source": [
    "The main scipy namespace mostly contains functions that are really numpy functions (try scipy.cos is\n",
    "np.cos). Those are exposed for historical reasons only; there’s usually no reason to use import scipy in your\n",
    "code."
   ]
  },
  {
   "cell_type": "markdown",
   "metadata": {},
   "source": [
    "## Numerical integration: scipy.integrate"
   ]
  },
  {
   "cell_type": "code",
   "execution_count": 6,
   "metadata": {
    "collapsed": true
   },
   "outputs": [],
   "source": [
    "%matplotlib inline\n",
    "import matplotlib.pyplot as plt\n",
    "from matplotlib.patches import Polygon"
   ]
  },
  {
   "cell_type": "code",
   "execution_count": 15,
   "metadata": {
    "collapsed": true
   },
   "outputs": [],
   "source": [
    "# Define a function to integrate\n",
    "def func(x):\n",
    "    return (x-3)*(x-5)*(x-7)+85"
   ]
  },
  {
   "cell_type": "code",
   "execution_count": 16,
   "metadata": {
    "collapsed": false
   },
   "outputs": [
    {
     "data": {
      "image/png": "[encoded data removed]",
      "text/plain": [
       "<matplotlib.figure.Figure at 0x80b5b00>"
      ]
     },
     "metadata": {},
     "output_type": "display_data"
    }
   ],
   "source": [
    "fig, ax = plt.subplots()\n",
    "\n",
    "a, b = 2, 9 # integral limits\n",
    "x = np.arange(0, 10, 0.01)\n",
    "y = func(x)\n",
    "ax.plot(x, y, linewidth=1)\n",
    "\n",
    "# make the shaded region\n",
    "ix = np.arange(a, b, 0.01)\n",
    "iy = func(ix)\n",
    "verts = [(a,0)] + list(zip(ix,iy)) + [(b,0)]\n",
    "poly = Polygon(verts, facecolor='0.8', edgecolor='k', alpha=0.5)\n",
    "ax.add_patch(poly)\n",
    "\n",
    "ax.text(0.5 * (a + b), 30,\n",
    "     r\"$\\int_a^b f(x)\\mathrm{d}x$\", horizontalalignment='center',\n",
    "     fontsize=20)\n",
    "\n",
    "#ax.set_xaxis([0,10, 0, 180])\n",
    "ax.set_xlim(0,10)\n",
    "ax.set_ylim(0)\n",
    "fig.text(0.9, 0.05, 'x')\n",
    "fig.text(0.1, 0.9, 'y')\n",
    "ax.set_xticks((a,b))\n",
    "ax.set_xticklabels(('a=2','b=9'))\n",
    "ax.set_yticks([]);"
   ]
  },
  {
   "cell_type": "markdown",
   "metadata": {},
   "source": [
    "The most generic integration routine is `scipy.integrate.quad()`: A Python function or method to integrate.  If `func` takes many arguments, it is integrated along the axis corresponding to the first argument."
   ]
  },
  {
   "cell_type": "code",
   "execution_count": 22,
   "metadata": {
    "collapsed": true
   },
   "outputs": [],
   "source": [
    "from scipy.integrate import quad, dblquad"
   ]
  },
  {
   "cell_type": "code",
   "execution_count": 28,
   "metadata": {
    "collapsed": false
   },
   "outputs": [
    {
     "name": "stdout",
     "output_type": "stream",
     "text": [
      "Integral value: 240.33. Estimated error: 2.66823600252e-12\n"
     ]
    }
   ],
   "source": [
    "result = quad(x_squared,2,9)\n",
    "print \"Integral value: {:0.2f}. Estimated error: {}\".format(result[0], result[1])"
   ]
  },
  {
   "cell_type": "markdown",
   "metadata": {},
   "source": [
    "#### Exercise: Estimate the integral for the following function from 1 to 5\n",
    "$f(x) = sin(x) + x^2$"
   ]
  },
  {
   "cell_type": "code",
   "execution_count": 20,
   "metadata": {
    "collapsed": false
   },
   "outputs": [
    {
     "data": {
      "text/plain": [
       "(41.58997345373825, 4.617414612188926e-13)"
      ]
     },
     "execution_count": 20,
     "metadata": {},
     "output_type": "execute_result"
    }
   ],
   "source": [
    "quad(lambda x: np.sin(x) + x**2, 1, 5)"
   ]
  },
  {
   "cell_type": "markdown",
   "metadata": {},
   "source": [
    "#### Exercise: Calculate 200 values of the following function from x=0 to x=25, plot the function.\n",
    "\n",
    "$f(x) = \\int_{0}^{x} t sin(t)dt$"
   ]
  },
  {
   "cell_type": "code",
   "execution_count": null,
   "metadata": {
    "collapsed": true
   },
   "outputs": [],
   "source": []
  },
  {
   "cell_type": "markdown",
   "metadata": {},
   "source": [
    "### Double integrals\n",
    "\n",
    "To compute double integrals use `dblquad`"
   ]
  },
  {
   "cell_type": "markdown",
   "metadata": {},
   "source": [
    "$\\int_{x=\\pi}^{2\\pi}\\int_{y=0}^{\\pi}y sin(x)+x cos(y)dydx$"
   ]
  },
  {
   "cell_type": "code",
   "execution_count": 26,
   "metadata": {
    "collapsed": true
   },
   "outputs": [],
   "source": [
    "def two_var_func(y, x):\n",
    "    return y * np.sin(x) + x * np.cos(y)"
   ]
  },
  {
   "cell_type": "code",
   "execution_count": 27,
   "metadata": {
    "collapsed": false
   },
   "outputs": [
    {
     "data": {
      "text/plain": [
       "(-9.869604401089358, 1.0957462050031184e-13)"
      ]
     },
     "execution_count": 27,
     "metadata": {},
     "output_type": "execute_result"
    }
   ],
   "source": [
    "dblquad(func=two_var_func, a=np.pi, b=2*np.pi, gfun=lambda y: 0, hfun=lambda y: np.pi)"
   ]
  },
  {
   "cell_type": "markdown",
   "metadata": {},
   "source": [
    "## Optimization"
   ]
  },
  {
   "cell_type": "code",
   "execution_count": 4,
   "metadata": {
    "collapsed": true
   },
   "outputs": [],
   "source": [
    "from scipy import optimize"
   ]
  },
  {
   "cell_type": "markdown",
   "metadata": {},
   "source": [
    "Optimization is the problem of finding a numerical solution to a minimization or equality.\n",
    "The scipy.optimize module provides useful algorithms for function minimization (scalar or multidimensional),\n",
    "curve fitting and root finding."
   ]
  },
  {
   "cell_type": "markdown",
   "metadata": {},
   "source": [
    "#### Finding the minimum of a scalar function\n",
    "\n",
    "Let’s define the following function:"
   ]
  },
  {
   "cell_type": "code",
   "execution_count": 32,
   "metadata": {
    "collapsed": true
   },
   "outputs": [],
   "source": [
    "def f(x):\n",
    "    return x**2 + 10*np.sin(x)"
   ]
  },
  {
   "cell_type": "code",
   "execution_count": 33,
   "metadata": {
    "collapsed": false,
    "scrolled": true
   },
   "outputs": [
    {
     "data": {
      "image/png": "[encoded data removed]",
      "text/plain": [
       "<matplotlib.figure.Figure at 0x8006ac8>"
      ]
     },
     "metadata": {},
     "output_type": "display_data"
    }
   ],
   "source": [
    "x = np.arange(-10, 10, 0.1)\n",
    "fig, ax = plt.subplots()\n",
    "ax.plot(x, f(x));"
   ]
  },
  {
   "cell_type": "markdown",
   "metadata": {},
   "source": [
    "This function has a global minimum around -1.3 and a local minimum around 3.8.\n",
    "The general and efficient way to find a minimum for this function is to conduct a gradient descent starting from a given initial point. The BFGS algorithm is a good way of doing this:"
   ]
  },
  {
   "cell_type": "code",
   "execution_count": 40,
   "metadata": {
    "collapsed": false
   },
   "outputs": [
    {
     "name": "stdout",
     "output_type": "stream",
     "text": [
      "Optimization terminated successfully.\n",
      "         Current function value: -7.945823\n",
      "         Iterations: 5\n",
      "         Function evaluations: 24\n",
      "         Gradient evaluations: 8\n"
     ]
    },
    {
     "data": {
      "text/plain": [
       "array([-1.30644003])"
      ]
     },
     "execution_count": 40,
     "metadata": {},
     "output_type": "execute_result"
    }
   ],
   "source": [
    "optimize.fmin_bfgs(f, 0) # 0 is an initial guess for the min"
   ]
  },
  {
   "cell_type": "markdown",
   "metadata": {},
   "source": [
    "A possible issue with this approach is that, if the function has local minima the algorithm may find these local minima instead of the global minimum depending on the initial point:"
   ]
  },
  {
   "cell_type": "code",
   "execution_count": 42,
   "metadata": {
    "collapsed": false
   },
   "outputs": [
    {
     "name": "stdout",
     "output_type": "stream",
     "text": [
      "Optimization terminated successfully.\n",
      "         Current function value: 8.315586\n",
      "         Iterations: 5\n",
      "         Function evaluations: 24\n",
      "         Gradient evaluations: 8\n"
     ]
    },
    {
     "data": {
      "text/plain": [
       "array([ 3.83746663])"
      ]
     },
     "execution_count": 42,
     "metadata": {},
     "output_type": "execute_result"
    }
   ],
   "source": [
    "optimize.fmin_bfgs(f, 3)"
   ]
  },
  {
   "cell_type": "markdown",
   "metadata": {},
   "source": [
    "If we don’t know the neighborhood of the global minimum to choose the initial point, we need to resort to costlier global optimization. To find the global minimum, we use scipy.optimize.basinhopping() (which combines a local optimizer with stochastic sampling of starting points for the local optimizer):"
   ]
  },
  {
   "cell_type": "code",
   "execution_count": 43,
   "metadata": {
    "collapsed": false
   },
   "outputs": [
    {
     "data": {
      "text/plain": [
       "                        fun: -7.9458233756152845\n",
       " lowest_optimization_result:       fun: -7.9458233756152845\n",
       " hess_inv: array([[ 0.08584163]])\n",
       "      jac: array([  1.19209290e-07])\n",
       "  message: 'Optimization terminated successfully.'\n",
       "     nfev: 15\n",
       "      nit: 3\n",
       "     njev: 5\n",
       "   status: 0\n",
       "  success: True\n",
       "        x: array([-1.30644001])\n",
       "                    message: ['requested number of basinhopping iterations completed successfully']\n",
       "      minimization_failures: 0\n",
       "                       nfev: 1656\n",
       "                        nit: 100\n",
       "                       njev: 552\n",
       "                          x: array([-1.30644001])"
      ]
     },
     "execution_count": 43,
     "metadata": {},
     "output_type": "execute_result"
    }
   ],
   "source": [
    "optimize.basinhopping(f, 3)"
   ]
  },
  {
   "cell_type": "markdown",
   "metadata": {},
   "source": [
    "#### Finding the roots of a scalar function\n",
    "To find a root, i.e. a point where $f(x) = 0$, of the function $f(x)$ above we can use for example scipy.optimize.fsolve():"
   ]
  },
  {
   "cell_type": "code",
   "execution_count": 56,
   "metadata": {
    "collapsed": false
   },
   "outputs": [
    {
     "data": {
      "image/png": "[encoded data removed]",
      "text/plain": [
       "<matplotlib.figure.Figure at 0x833eb70>"
      ]
     },
     "metadata": {},
     "output_type": "display_data"
    }
   ],
   "source": [
    "fig, ax = plt.subplots()\n",
    "ax.plot(x, f(x))\n",
    "ax.set_ylim(-10,10)\n",
    "ax.axhline(y=0, color='red')\n",
    "ax.set_xticks(np.arange(-10,10.1,1))\n",
    "ax.grid();"
   ]
  },
  {
   "cell_type": "code",
   "execution_count": 46,
   "metadata": {
    "collapsed": false
   },
   "outputs": [
    {
     "data": {
      "text/plain": [
       "array([ 0.])"
      ]
     },
     "execution_count": 46,
     "metadata": {},
     "output_type": "execute_result"
    }
   ],
   "source": [
    "optimize.fsolve(f, 1)  # our initial guess is 1"
   ]
  },
  {
   "cell_type": "markdown",
   "metadata": {},
   "source": [
    "Note that only one root is found. Inspecting the plot of f reveals that there is a second root around -2.5. We find the exact value of it by adjusting our initial guess:"
   ]
  },
  {
   "cell_type": "code",
   "execution_count": 57,
   "metadata": {
    "collapsed": false
   },
   "outputs": [
    {
     "data": {
      "text/plain": [
       "array([-2.47948183])"
      ]
     },
     "execution_count": 57,
     "metadata": {},
     "output_type": "execute_result"
    }
   ],
   "source": [
    "optimize.fsolve(f, -2.5)"
   ]
  },
  {
   "cell_type": "markdown",
   "metadata": {},
   "source": [
    "#### Exercise: Using the folowing function:\n",
    "\n",
    "$f(x) = xsin(cos(x))$\n",
    "\n",
    "* Plot the function\n",
    "* Find the global minimum in the interval [0,10]\n",
    "* Find the global maximum in the interval [0,10]\n",
    "* Find all the roots of the function in the interval [0,10]"
   ]
  },
  {
   "cell_type": "code",
   "execution_count": 41,
   "metadata": {
    "collapsed": true
   },
   "outputs": [],
   "source": []
  },
  {
   "cell_type": "markdown",
   "metadata": {},
   "source": [
    "## Linear Algebra"
   ]
  },
  {
   "cell_type": "markdown",
   "metadata": {},
   "source": [
    "The scipy.linalg module provides standard linear algebra operations, relying on an underlying efficient implementation"
   ]
  },
  {
   "cell_type": "code",
   "execution_count": 58,
   "metadata": {
    "collapsed": true
   },
   "outputs": [],
   "source": [
    "from scipy import linalg"
   ]
  },
  {
   "cell_type": "markdown",
   "metadata": {},
   "source": [
    "You can also use the same functionality directly from numpy. Which is what most people usually do."
   ]
  },
  {
   "cell_type": "code",
   "execution_count": 88,
   "metadata": {
    "collapsed": false
   },
   "outputs": [],
   "source": [
    "A = np.array([[1,4,-1],[0,5,2],[3,2,-2]])\n",
    "B = np.array([[0,2,0],[5,-1,1],[-1,0,1]])\n",
    "x = np.array([1,2,3])\n",
    "b = np.array([-1,0,1])"
   ]
  },
  {
   "cell_type": "code",
   "execution_count": 63,
   "metadata": {
    "collapsed": false
   },
   "outputs": [
    {
     "name": "stdout",
     "output_type": "stream",
     "text": [
      "[[ 1  4 -1]\n",
      " [ 0  5  2]\n",
      " [ 3  2 -2]] \n",
      "\n",
      "[[ 0  2  0]\n",
      " [ 5 -1  1]\n",
      " [-1  0  1]] \n",
      "\n",
      "[1 2 3]\n"
     ]
    }
   ],
   "source": [
    "print A, '\\n'\n",
    "print B, '\\n'\n",
    "print x"
   ]
  },
  {
   "cell_type": "markdown",
   "metadata": {},
   "source": [
    "#### Matrix and vector products"
   ]
  },
  {
   "cell_type": "code",
   "execution_count": 64,
   "metadata": {
    "collapsed": false
   },
   "outputs": [
    {
     "data": {
      "text/plain": [
       "array([[21, -2,  3],\n",
       "       [23, -5,  7],\n",
       "       [12,  4,  0]])"
      ]
     },
     "execution_count": 64,
     "metadata": {},
     "output_type": "execute_result"
    }
   ],
   "source": [
    "A.dot(B)"
   ]
  },
  {
   "cell_type": "code",
   "execution_count": 65,
   "metadata": {
    "collapsed": false
   },
   "outputs": [
    {
     "data": {
      "text/plain": [
       "array([ 6, 16,  1])"
      ]
     },
     "execution_count": 65,
     "metadata": {},
     "output_type": "execute_result"
    }
   ],
   "source": [
    "A.dot(x)"
   ]
  },
  {
   "cell_type": "code",
   "execution_count": 67,
   "metadata": {
    "collapsed": false
   },
   "outputs": [
    {
     "data": {
      "text/plain": [
       "2"
      ]
     },
     "execution_count": 67,
     "metadata": {},
     "output_type": "execute_result"
    }
   ],
   "source": [
    "x1.dot(x)"
   ]
  },
  {
   "cell_type": "code",
   "execution_count": 69,
   "metadata": {
    "collapsed": false
   },
   "outputs": [
    {
     "data": {
      "text/plain": [
       "array([[ 110,  -46,   22],\n",
       "       [-126,  133,  -12],\n",
       "       [   1,  -22,   -1]])"
      ]
     },
     "execution_count": 69,
     "metadata": {},
     "output_type": "execute_result"
    }
   ],
   "source": [
    "np.linalg.matrix_power(B,4)"
   ]
  },
  {
   "cell_type": "markdown",
   "metadata": {},
   "source": [
    "#### Matrix eigenvalues"
   ]
  },
  {
   "cell_type": "code",
   "execution_count": 99,
   "metadata": {
    "collapsed": false
   },
   "outputs": [
    {
     "name": "stdout",
     "output_type": "stream",
     "text": [
      "EigenValues:  [-3.76643548  2.48361162  1.28282386] \n",
      "\n",
      "(Normalized) EigenVectors: \n",
      "[[ 0.46673332 -0.57769706 -0.26809482]\n",
      " [-0.87896047 -0.71738757 -0.17195922]\n",
      " [ 0.09792083  0.38938564  0.94792151]]\n"
     ]
    }
   ],
   "source": [
    "eigen = np.linalg.eig(B)\n",
    "print \"EigenValues: \", eigen[0], '\\n'\n",
    "print \"(Normalized) EigenVectors: \\n\", eigen[1]"
   ]
  },
  {
   "cell_type": "markdown",
   "metadata": {},
   "source": [
    "#### Other matrix operations"
   ]
  },
  {
   "cell_type": "code",
   "execution_count": 92,
   "metadata": {
    "collapsed": false
   },
   "outputs": [
    {
     "data": {
      "text/plain": [
       "3.7416573867739413"
      ]
     },
     "execution_count": 92,
     "metadata": {},
     "output_type": "execute_result"
    }
   ],
   "source": [
    "# Norm\n",
    "np.linalg.norm(x)"
   ]
  },
  {
   "cell_type": "code",
   "execution_count": 93,
   "metadata": {
    "collapsed": false
   },
   "outputs": [
    {
     "data": {
      "text/plain": [
       "25.000000000000007"
      ]
     },
     "execution_count": 93,
     "metadata": {},
     "output_type": "execute_result"
    }
   ],
   "source": [
    "# Determinant\n",
    "np.linalg.det(A)"
   ]
  },
  {
   "cell_type": "code",
   "execution_count": 95,
   "metadata": {
    "collapsed": false
   },
   "outputs": [
    {
     "data": {
      "text/plain": [
       "array([[ 1,  0,  3],\n",
       "       [ 4,  5,  2],\n",
       "       [-1,  2, -2]])"
      ]
     },
     "execution_count": 95,
     "metadata": {},
     "output_type": "execute_result"
    }
   ],
   "source": [
    "# Transpose\n",
    "A.T"
   ]
  },
  {
   "cell_type": "code",
   "execution_count": 98,
   "metadata": {
    "collapsed": false
   },
   "outputs": [
    {
     "data": {
      "text/plain": [
       "array([[-0.56,  0.24,  0.52],\n",
       "       [ 0.24,  0.04, -0.08],\n",
       "       [-0.6 ,  0.4 ,  0.2 ]])"
      ]
     },
     "execution_count": 98,
     "metadata": {},
     "output_type": "execute_result"
    }
   ],
   "source": [
    "# Inverse\n",
    "np.linalg.inv(A)"
   ]
  },
  {
   "cell_type": "code",
   "execution_count": 97,
   "metadata": {
    "collapsed": false
   },
   "outputs": [
    {
     "data": {
      "text/plain": [
       "array([ 1.08, -0.32,  0.8 ])"
      ]
     },
     "execution_count": 97,
     "metadata": {},
     "output_type": "execute_result"
    }
   ],
   "source": [
    "# Solve a linear system of the form Ax=b\n",
    "np.linalg.solve(A,b)"
   ]
  },
  {
   "cell_type": "code",
   "execution_count": 100,
   "metadata": {
    "collapsed": false
   },
   "outputs": [
    {
     "data": {
      "text/plain": [
       "(array([[-0.59667139,  0.18262437, -0.7814292 ],\n",
       "        [-0.70119831, -0.59220356,  0.39700867],\n",
       "        [-0.39026169,  0.78482055,  0.48140682]]),\n",
       " array([ 6.90334282,  3.93670072,  0.91991599]),\n",
       " array([[-0.25602907, -0.96666219, -0.00365067],\n",
       "        [ 0.64447013, -0.16787642, -0.74597303],\n",
       "        [ 0.72049106, -0.19334353,  0.66596615]]))"
      ]
     },
     "execution_count": 100,
     "metadata": {},
     "output_type": "execute_result"
    }
   ],
   "source": [
    "# Singular Value Decomposition\n",
    "np.linalg.svd(A)"
   ]
  }
 ],
 "metadata": {
  "kernelspec": {
   "display_name": "Python 2",
   "language": "python",
   "name": "python2"
  },
  "language_info": {
   "codemirror_mode": {
    "name": "ipython",
    "version": 2
   },
   "file_extension": ".py",
   "mimetype": "text/x-python",
   "name": "python",
   "nbconvert_exporter": "python",
   "pygments_lexer": "ipython2",
   "version": "2.7.11"
  }
 },
 "nbformat": 4,
 "nbformat_minor": 0
}
