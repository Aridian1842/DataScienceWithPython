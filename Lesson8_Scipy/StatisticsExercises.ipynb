{
 "cells": [
  {
   "cell_type": "markdown",
   "metadata": {},
   "source": [
    "# Statistics Exercises"
   ]
  },
  {
   "cell_type": "code",
   "execution_count": 12,
   "metadata": {
    "collapsed": true
   },
   "outputs": [],
   "source": [
    "%matplotlib inline\n",
    "import pandas as pd\n",
    "import numpy as np\n",
    "import matplotlib.pyplot as plt\n",
    "import seaborn as sns\n",
    "from scipy import stats\n",
    "sns.set_style('whitegrid')"
   ]
  },
  {
   "cell_type": "code",
   "execution_count": 13,
   "metadata": {
    "collapsed": true
   },
   "outputs": [],
   "source": [
    "path_to_diabetes = '..\\\\datasets\\\\diabetes.csv'\n",
    "diabetes = pd.DataFrame.from_csv(path=path_to_diabetes, index_col=None)\n",
    "# Some data pre-processing\n",
    "for col in diabetes.columns:\n",
    "    if diabetes[col].dtype != 'object':\n",
    "        diabetes[col].fillna(diabetes[col].median(), inplace=True)\n",
    "\n",
    "diabetes['frame'].fillna(value='medium', inplace=True)\n",
    "diabetes['height'] = 2.54*diabetes['height'] # to cm\n",
    "diabetes['waist'] = 2.54*diabetes['waist'] # to cm\n",
    "diabetes['hip'] = 2.54*diabetes['hip'] # to cm\n",
    "diabetes['weight'] = 0.454*diabetes['weight'] # to kg\n",
    "\n",
    "diabetes.rename(columns={'hdl':'good_chol', 'Cholesterol':'total_chol'}, inplace=True)\n",
    "diabetes['bad_chol'] = diabetes['total_chol'] - diabetes['good_chol']"
   ]
  },
  {
   "cell_type": "markdown",
   "metadata": {},
   "source": [
    "### Some context:\n",
    "\n",
    "* **Total cholesterol** (Cholesterol): a measure of the total amount of cholesterol in your blood, including low-density lipoprotein (LDL) cholesterol and high-density lipoprotein (HDL) cholesterol.\n",
    "* **HDL (good) cholesterol** (hdl): HDL helps remove cholesterol from your arteries.\n",
    "* **LDL (bad) cholesterol**: The main source of cholesterol buildup and blockage in the arteries.\n",
    "* **Glycosolated Hemoglobin** (glyhb): In patients with diabetes, higher amounts of glycated hemoglobin, indicating poorer control of blood glucose levels, have been associated with cardiovascular disease, nephropathy, neuropathy, and retinopathy.\n",
    "\n",
    "** Simplifying assumption for this exercise: Total Cholesterol = good cholesterol + bad cholesterol **\n",
    "    \n",
    "<table width=\"600\" border=\"0\" cellspacing=\"3\" cellpadding=\"3\" summary=\"how your cholesterol numbers compare to the table below\">\n",
    "<thead>\n",
    "  <tr>\n",
    "    <th scope=\"col\" id=\"C1\" bgcolor=\"#006699\"><h3 style=\"color:#fff;\">Total Cholesterol Level</h3></th>\n",
    "    <th scope=\"col\" id=\"C2\" bgcolor=\"#006699\"><h3 style=\"color:#fff;\">Category</h3></th>\n",
    "  </tr>\n",
    "</thead>\n",
    "<tbody>\n",
    "  <tr>\n",
    "    <td id=\"C1 R1\" class=\"Optimal\">Less than 200mg/dL</td>\n",
    "    <td id=\"C2 R1\" class=\"Optimal\">Desirable</td>\n",
    "  </tr>\n",
    "  <tr>\n",
    "    <td id=\"C1 R2\" class=\"Borderline\">200-239 mg/dL</td>\n",
    "    <td id=\"C2 R2\" class=\"Borderline\">Borderline high</td>\n",
    "  </tr>\n",
    "\n",
    "  <tr>\n",
    "    <td id=\"C1 R3\" class=\"High\">240mg/dL and above</td>\n",
    "    <td id=\"C2 R3\" class=\"High\">High</td>\n",
    "  </tr>\n",
    "</tbody>\n",
    "  <tbody><tr>\n",
    "    <td>&nbsp;</td>\n",
    "    <td>&nbsp;</td>\n",
    "  </tr>\n",
    "</tbody><thead>\n",
    "  <tr>\n",
    "    <th scope=\"col\" bgcolor=\"#006699\" id=\"C3\"><h3 style=\"color:#fff;\">LDL (Bad) Cholesterol Level</h3></th>\n",
    "    <th scope=\"col\" bgcolor=\"#006699\" id=\"C4\"><h3 style=\"color:#fff;\">LDL Cholesterol Category</h3></th>\n",
    "  </tr>\n",
    "</thead>\n",
    "<tbody>\n",
    "  <tr>\n",
    "    <td id=\"C3 R4\" class=\"Optimal\">Less than 100mg/dL</td>\n",
    "    <td id=\"C4 R4\" class=\"Optimal\">Optimal</td>\n",
    "  </tr>\n",
    "  <tr>\n",
    "    <td id=\"C3 R5\" class=\"Nearoptimal\">100-129mg/dL</td>\n",
    "    <td id=\"C4 R5\" class=\"Nearoptimal\">Near optimal/above optimal</td>\n",
    "  </tr>\n",
    "  <tr>\n",
    "    <td id=\"C3 R6\" class=\"Borderline\">130-159 mg/dL</td>\n",
    "    <td id=\"C4 R6\" class=\"Borderline\">Borderline high</td>\n",
    "  </tr>\n",
    "  <tr>\n",
    "    <td id=\"C3 R7\" class=\"High\">160-189 mg/dL</td>\n",
    "    <td id=\"C4 R7\" class=\"High\">High</td>\n",
    "  </tr>\n",
    "  <tr>\n",
    "    <td id=\"C3 R8\" class=\"VeryHigh\">190 mg/dL and above</td>\n",
    "    <td id=\"C4 R8\" class=\"VeryHigh\">Very High</td>\n",
    "  </tr>\n",
    "</tbody>\n",
    "  <tbody><tr>\n",
    "    <td>&nbsp;</td>\n",
    "    <td>&nbsp;</td>\n",
    "  </tr>\n",
    "</tbody><thead>\n",
    "  <tr>\n",
    "    <th scope=\"col\" bgcolor=\"#006699\" id=\"C5\"><h3 style=\"color:#fff;\">HDL (Good) Cholesterol Level</h3></th>\n",
    "    <th scope=\"col\" bgcolor=\"#006699\" id=\"C6\"><h3 style=\"color:#fff;\">HDL Cholesterol Category</h3></th>\n",
    "  </tr>\n",
    "</thead>\n",
    "<tbody>\n",
    "  <tr>\n",
    "    <td id=\"C5 R9\" class=\"VeryHigh\">Less than 40 mg/dL</td>\n",
    "    <td id=\"C6 R9\" class=\"VeryHigh\">A major risk factor for heart disease</td>\n",
    "  </tr>\n",
    "  <tr>\n",
    "    <td id=\"C5 R10\" class=\"Nearoptimal\">40—59 mg/dL</td>\n",
    "    <td id=\"C6 R10\" class=\"Nearoptimal\">The higher, the better</td>\n",
    "  </tr>\n",
    "  <tr>\n",
    "    <td id=\"C5 R11\" class=\"Optimal\">60 mg/dL and higher</td>\n",
    "    <td id=\"C6 R11\" class=\"Optimal\">Considered protective against heart disease</td>\n",
    "  </tr>\n",
    "</tbody>\n",
    "</table>"
   ]
  },
  {
   "cell_type": "markdown",
   "metadata": {},
   "source": [
    "### 1. Create categorical variables for total, good and bad cholesterol using the table provided."
   ]
  },
  {
   "cell_type": "code",
   "execution_count": null,
   "metadata": {
    "collapsed": true
   },
   "outputs": [],
   "source": [
    "# Hint: use the pd.cut function\n"
   ]
  },
  {
   "cell_type": "markdown",
   "metadata": {},
   "source": [
    "### 2. How many people in the dataset have \"Good\" levels of both good and bad cholesterol?"
   ]
  },
  {
   "cell_type": "code",
   "execution_count": null,
   "metadata": {
    "collapsed": true
   },
   "outputs": [],
   "source": []
  },
  {
   "cell_type": "markdown",
   "metadata": {},
   "source": [
    "### 3. Get the ids of the patients who have a \"Very high\" level of bad cholesterol and \"A major risk factor for heart disease\" measured by low levels of good cholesterol."
   ]
  },
  {
   "cell_type": "code",
   "execution_count": null,
   "metadata": {
    "collapsed": true
   },
   "outputs": [],
   "source": []
  },
  {
   "cell_type": "markdown",
   "metadata": {},
   "source": [
    "### 4. What can we say about the levels of cholesterol (total, good and bad) when analyzing these variables by the variable frame?"
   ]
  },
  {
   "cell_type": "code",
   "execution_count": null,
   "metadata": {
    "collapsed": true
   },
   "outputs": [],
   "source": []
  },
  {
   "cell_type": "markdown",
   "metadata": {},
   "source": [
    "### 5. Visualize the relationship between:\n",
    "\n",
    "1. frame and waist\n",
    "2. weight and hip\n",
    "3. gender, height and weight\n",
    "4. hip and bad cholesterol\n",
    "5. frame and weight\n",
    "\n",
    "Comment and interpret what you see in each visualization."
   ]
  },
  {
   "cell_type": "markdown",
   "metadata": {},
   "source": [
    "### 6. Calculate the Body Mass Index (BMI) for each patient, visualize the distribution of this new variable by frame and gender."
   ]
  },
  {
   "cell_type": "code",
   "execution_count": null,
   "metadata": {
    "collapsed": true
   },
   "outputs": [],
   "source": [
    "#hint: https://en.wikipedia.org/wiki/Body_mass_index"
   ]
  },
  {
   "cell_type": "markdown",
   "metadata": {},
   "source": [
    "### 7. Using the variable created in 6. produce a categorical variable using the following categories:\n",
    "1. Underweight: BMI < 18.5\n",
    "2. Normal: 18.5 <= BMI < 25\n",
    "3. Overweight: BMI >=25\n",
    "\n",
    "Count how many people are in each category in the dataset."
   ]
  },
  {
   "cell_type": "code",
   "execution_count": null,
   "metadata": {
    "collapsed": true
   },
   "outputs": [],
   "source": []
  },
  {
   "cell_type": "markdown",
   "metadata": {},
   "source": [
    "### 8. Can you divide the following plot in \"healthy\" and \"unhealthy\" areas? Produce such a plot."
   ]
  },
  {
   "cell_type": "code",
   "execution_count": 11,
   "metadata": {
    "collapsed": false
   },
   "outputs": [
    {
     "data": {
      "image/png": "[encoded data removed]",
      "text/plain": [
       "<matplotlib.figure.Figure at 0xb3a63c8>"
      ]
     },
     "metadata": {},
     "output_type": "display_data"
    }
   ],
   "source": [
    "# Hint: think about cuadrats: where do you think that \"healty\" levels of both variables should be in the graph\n",
    "fig, ax = plt.subplots()\n",
    "ax.scatter(x='good_chol', y='bad_chol', data=diabetes)\n",
    "ax.set_xlabel('Good Cholesterol')\n",
    "ax.set_ylabel('Bad Cholesterol');"
   ]
  },
  {
   "cell_type": "markdown",
   "metadata": {},
   "source": [
    "### 9. Calculate the correlations between good and bad cholesterol and glyhb, but only with people whose glyhb level is less than 8"
   ]
  },
  {
   "cell_type": "code",
   "execution_count": null,
   "metadata": {
    "collapsed": true
   },
   "outputs": [],
   "source": []
  },
  {
   "cell_type": "markdown",
   "metadata": {},
   "source": [
    "### 10. What is the relationship between glyhb and each of the three cholesterol variables?"
   ]
  },
  {
   "cell_type": "code",
   "execution_count": null,
   "metadata": {
    "collapsed": true
   },
   "outputs": [],
   "source": []
  },
  {
   "cell_type": "markdown",
   "metadata": {},
   "source": [
    "### 11. Make a plot of the pdf of the normal and t distributions (with degrees of freedom df=2,8,32,64,128) and compare the distributions"
   ]
  },
  {
   "cell_type": "code",
   "execution_count": null,
   "metadata": {
    "collapsed": true
   },
   "outputs": [],
   "source": []
  },
  {
   "cell_type": "markdown",
   "metadata": {},
   "source": [
    "### 12. Remove the outliers from the total cholesterol using the +-3.5 standard deviation method, replace those values (inplace) with a number that you consider appropiate."
   ]
  },
  {
   "cell_type": "code",
   "execution_count": null,
   "metadata": {
    "collapsed": true
   },
   "outputs": [],
   "source": []
  },
  {
   "cell_type": "markdown",
   "metadata": {},
   "source": [
    "### 13. Explore the relationship between the weight, hip and waist and the bad cholesterol levels, use plots and correlations. What is the pair of variables with the highest correlation?"
   ]
  },
  {
   "cell_type": "code",
   "execution_count": null,
   "metadata": {
    "collapsed": false
   },
   "outputs": [],
   "source": []
  },
  {
   "cell_type": "markdown",
   "metadata": {},
   "source": [
    "### 14. Write a function to produce a 90% confidence interval for the mean of a cuantitative variable. Use it to produce interval estimations for waist, hip, ratio and glyhb."
   ]
  },
  {
   "cell_type": "code",
   "execution_count": null,
   "metadata": {
    "collapsed": true
   },
   "outputs": [],
   "source": []
  },
  {
   "cell_type": "markdown",
   "metadata": {},
   "source": [
    "### 15. Use the Normal Distribution to model the bad cholesterol variable. Estimate the parameters using the method of moments. Answer the following questions using your model:\n",
    "\n",
    "1. What percentage of the population with diabetes have \"Optimal\" levels of bad cholesterol?\n",
    "2. What percentage of the population with diabetes have \"Borderline high\" levels of bad cholesterol?\n",
    "3. What percentage of the population with diabetes have \"Very High\" levels of bad cholesterol?\n",
    "4. What is the level of bad cholesterol corresponding to the 90th percentile in the population?\n",
    "5. What is the probability of observing 3 patients with \"Very High\" levels of bad cholesterol in a random sample of 3 patients?\n",
    "6. In the same plot, visualize the pdf of your statistical model along with a sns.distplot() of the observed data, comment on the goodness of fit of your model.\n"
   ]
  },
  {
   "cell_type": "code",
   "execution_count": null,
   "metadata": {
    "collapsed": true
   },
   "outputs": [],
   "source": [
    "# Hint: take a look at https://en.wikipedia.org/wiki/Normal_distribution"
   ]
  },
  {
   "cell_type": "markdown",
   "metadata": {},
   "source": [
    "### 16. Answer the following questions using the appropiate statistical test:\n",
    "\n",
    "1. Are the variances of bad cholesterol equal when comparing people with small frames with people with no small frame?\n",
    "2. Can we assume that the bad cholesterol variable is normally distributed?\n",
    "3. Is the population mean of glyhb the same for the two genders?"
   ]
  },
  {
   "cell_type": "code",
   "execution_count": null,
   "metadata": {
    "collapsed": true
   },
   "outputs": [],
   "source": [
    "# hint for 1: http://docs.scipy.org/doc/scipy/reference/generated/scipy.stats.levene.html#scipy.stats.levene\n",
    "# hint for 2: http://docs.scipy.org/doc/scipy/reference/generated/scipy.stats.shapiro.html#scipy.stats.shapiro\n"
   ]
  },
  {
   "cell_type": "markdown",
   "metadata": {},
   "source": [
    "### 17. Explore the data set, find relationships, create new variables, ask interesting questions and try to answer them like a data scientist! "
   ]
  },
  {
   "cell_type": "code",
   "execution_count": null,
   "metadata": {
    "collapsed": true
   },
   "outputs": [],
   "source": []
  }
 ],
 "metadata": {
  "kernelspec": {
   "display_name": "Python 2",
   "language": "python",
   "name": "python2"
  },
  "language_info": {
   "codemirror_mode": {
    "name": "ipython",
    "version": 2
   },
   "file_extension": ".py",
   "mimetype": "text/x-python",
   "name": "python",
   "nbconvert_exporter": "python",
   "pygments_lexer": "ipython2",
   "version": "2.7.11"
  }
 },
 "nbformat": 4,
 "nbformat_minor": 0
}
