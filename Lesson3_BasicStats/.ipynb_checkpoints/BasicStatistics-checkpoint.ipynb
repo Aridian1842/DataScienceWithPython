{
 "cells": [
  {
   "cell_type": "markdown",
   "metadata": {},
   "source": [
    "# Descriptive Statistics"
   ]
  },
  {
   "cell_type": "code",
   "execution_count": 313,
   "metadata": {
    "collapsed": true
   },
   "outputs": [],
   "source": [
    "import pandas as pd\n",
    "import numpy as np\n",
    "import matplotlib.pyplot as plt\n",
    "import seaborn as sns\n",
    "from scipy import stats\n",
    "sns.set_style('whitegrid')\n",
    "%matplotlib inline"
   ]
  },
  {
   "cell_type": "markdown",
   "metadata": {},
   "source": [
    "Let's get some data"
   ]
  },
  {
   "cell_type": "code",
   "execution_count": 314,
   "metadata": {
    "collapsed": false
   },
   "outputs": [],
   "source": [
    "path_to_titanic = '..\\\\datasets\\\\titanic\\\\titanic.csv'\n",
    "path_to_diabetes = '..\\\\datasets\\\\diabetes.csv'\n",
    "titanic = pd.DataFrame.from_csv(path=path_to_titanic, index_col=None)\n",
    "diabetes = pd.DataFrame.from_csv(path=path_to_diabetes, index_col=None)\n",
    "\n",
    "to_fill_na = ['Cholesterol','hdl','ratio','height','weight','waist','hip']\n",
    "for var in to_fill_na:\n",
    "    diabetes[var].fillna(diabetes[var].median(), inplace=True)\n",
    "    \n",
    "diabetes['frame'].fillna(value='medium', inplace=True)\n",
    "\n",
    "diabetes['height'] = 2.54*diabetes['height']\n",
    "diabetes['weight'] = 0.454*diabetes['weight']\n",
    "\n",
    "titanic['sibsp'] = titanic['sibsp'].fillna(1).astype(int)\n",
    "\n",
    "#Droping columns\n",
    "titanic.drop(['ticket','boat','body','home.dest'], axis=1, inplace=True)\n",
    "#Droping rows\n",
    "titanic.drop([1309], axis=0, inplace=True)"
   ]
  },
  {
   "cell_type": "code",
   "execution_count": 383,
   "metadata": {
    "collapsed": false
   },
   "outputs": [
    {
     "data": {
      "text/plain": [
       "(403, 16)"
      ]
     },
     "execution_count": 383,
     "metadata": {},
     "output_type": "execute_result"
    }
   ],
   "source": [
    "diabetes.shape"
   ]
  },
  {
   "cell_type": "code",
   "execution_count": 382,
   "metadata": {
    "collapsed": false,
    "scrolled": true
   },
   "outputs": [
    {
     "data": {
      "text/html": [
       "<div>\n",
       "<table border=\"1\" class=\"dataframe\">\n",
       "  <thead>\n",
       "    <tr style=\"text-align: right;\">\n",
       "      <th></th>\n",
       "      <th>id</th>\n",
       "      <th>Cholesterol</th>\n",
       "      <th>stab.glu</th>\n",
       "      <th>hdl</th>\n",
       "      <th>ratio</th>\n",
       "      <th>glyhb</th>\n",
       "      <th>age</th>\n",
       "      <th>gender</th>\n",
       "      <th>height</th>\n",
       "      <th>weight</th>\n",
       "      <th>frame</th>\n",
       "      <th>bp.1s</th>\n",
       "      <th>bp.1d</th>\n",
       "      <th>waist</th>\n",
       "      <th>hip</th>\n",
       "      <th>time.ppn</th>\n",
       "    </tr>\n",
       "  </thead>\n",
       "  <tbody>\n",
       "    <tr>\n",
       "      <th>0</th>\n",
       "      <td>1000</td>\n",
       "      <td>203.0</td>\n",
       "      <td>82</td>\n",
       "      <td>56.0</td>\n",
       "      <td>3.6</td>\n",
       "      <td>4.31</td>\n",
       "      <td>46</td>\n",
       "      <td>female</td>\n",
       "      <td>157.48</td>\n",
       "      <td>54.934</td>\n",
       "      <td>medium</td>\n",
       "      <td>118.0</td>\n",
       "      <td>59.0</td>\n",
       "      <td>29.0</td>\n",
       "      <td>38.0</td>\n",
       "      <td>720.0</td>\n",
       "    </tr>\n",
       "    <tr>\n",
       "      <th>1</th>\n",
       "      <td>1001</td>\n",
       "      <td>165.0</td>\n",
       "      <td>97</td>\n",
       "      <td>24.0</td>\n",
       "      <td>6.9</td>\n",
       "      <td>4.44</td>\n",
       "      <td>29</td>\n",
       "      <td>female</td>\n",
       "      <td>162.56</td>\n",
       "      <td>98.972</td>\n",
       "      <td>large</td>\n",
       "      <td>112.0</td>\n",
       "      <td>68.0</td>\n",
       "      <td>46.0</td>\n",
       "      <td>48.0</td>\n",
       "      <td>360.0</td>\n",
       "    </tr>\n",
       "    <tr>\n",
       "      <th>2</th>\n",
       "      <td>1002</td>\n",
       "      <td>228.0</td>\n",
       "      <td>92</td>\n",
       "      <td>37.0</td>\n",
       "      <td>6.2</td>\n",
       "      <td>4.64</td>\n",
       "      <td>58</td>\n",
       "      <td>female</td>\n",
       "      <td>154.94</td>\n",
       "      <td>116.224</td>\n",
       "      <td>large</td>\n",
       "      <td>190.0</td>\n",
       "      <td>92.0</td>\n",
       "      <td>49.0</td>\n",
       "      <td>57.0</td>\n",
       "      <td>180.0</td>\n",
       "    </tr>\n",
       "    <tr>\n",
       "      <th>3</th>\n",
       "      <td>1003</td>\n",
       "      <td>78.0</td>\n",
       "      <td>93</td>\n",
       "      <td>12.0</td>\n",
       "      <td>6.5</td>\n",
       "      <td>4.63</td>\n",
       "      <td>67</td>\n",
       "      <td>male</td>\n",
       "      <td>170.18</td>\n",
       "      <td>54.026</td>\n",
       "      <td>large</td>\n",
       "      <td>110.0</td>\n",
       "      <td>50.0</td>\n",
       "      <td>33.0</td>\n",
       "      <td>38.0</td>\n",
       "      <td>480.0</td>\n",
       "    </tr>\n",
       "    <tr>\n",
       "      <th>4</th>\n",
       "      <td>1005</td>\n",
       "      <td>249.0</td>\n",
       "      <td>90</td>\n",
       "      <td>28.0</td>\n",
       "      <td>8.9</td>\n",
       "      <td>7.72</td>\n",
       "      <td>64</td>\n",
       "      <td>male</td>\n",
       "      <td>172.72</td>\n",
       "      <td>83.082</td>\n",
       "      <td>medium</td>\n",
       "      <td>138.0</td>\n",
       "      <td>80.0</td>\n",
       "      <td>44.0</td>\n",
       "      <td>41.0</td>\n",
       "      <td>300.0</td>\n",
       "    </tr>\n",
       "  </tbody>\n",
       "</table>\n",
       "</div>"
      ],
      "text/plain": [
       "     id  Cholesterol  stab.glu   hdl  ratio  glyhb  age  gender  height  \\\n",
       "0  1000        203.0        82  56.0    3.6   4.31   46  female  157.48   \n",
       "1  1001        165.0        97  24.0    6.9   4.44   29  female  162.56   \n",
       "2  1002        228.0        92  37.0    6.2   4.64   58  female  154.94   \n",
       "3  1003         78.0        93  12.0    6.5   4.63   67    male  170.18   \n",
       "4  1005        249.0        90  28.0    8.9   7.72   64    male  172.72   \n",
       "\n",
       "    weight   frame  bp.1s  bp.1d  waist   hip  time.ppn  \n",
       "0   54.934  medium  118.0   59.0   29.0  38.0     720.0  \n",
       "1   98.972   large  112.0   68.0   46.0  48.0     360.0  \n",
       "2  116.224   large  190.0   92.0   49.0  57.0     180.0  \n",
       "3   54.026   large  110.0   50.0   33.0  38.0     480.0  \n",
       "4   83.082  medium  138.0   80.0   44.0  41.0     300.0  "
      ]
     },
     "execution_count": 382,
     "metadata": {},
     "output_type": "execute_result"
    }
   ],
   "source": [
    "diabetes.head()"
   ]
  },
  {
   "cell_type": "code",
   "execution_count": 384,
   "metadata": {
    "collapsed": false,
    "scrolled": true
   },
   "outputs": [
    {
     "data": {
      "text/html": [
       "<div>\n",
       "<table border=\"1\" class=\"dataframe\">\n",
       "  <thead>\n",
       "    <tr style=\"text-align: right;\">\n",
       "      <th></th>\n",
       "      <th>pclass</th>\n",
       "      <th>survived</th>\n",
       "      <th>name</th>\n",
       "      <th>sex</th>\n",
       "      <th>age</th>\n",
       "      <th>sibsp</th>\n",
       "      <th>parch</th>\n",
       "      <th>fare</th>\n",
       "      <th>cabin</th>\n",
       "      <th>embarked</th>\n",
       "    </tr>\n",
       "  </thead>\n",
       "  <tbody>\n",
       "    <tr>\n",
       "      <th>0</th>\n",
       "      <td>1.0</td>\n",
       "      <td>1.0</td>\n",
       "      <td>Allen, Miss. Elisabeth Walton</td>\n",
       "      <td>female</td>\n",
       "      <td>29.0000</td>\n",
       "      <td>0</td>\n",
       "      <td>0.0</td>\n",
       "      <td>211.3375</td>\n",
       "      <td>B5</td>\n",
       "      <td>S</td>\n",
       "    </tr>\n",
       "    <tr>\n",
       "      <th>1</th>\n",
       "      <td>1.0</td>\n",
       "      <td>1.0</td>\n",
       "      <td>Allison, Master. Hudson Trevor</td>\n",
       "      <td>male</td>\n",
       "      <td>0.9167</td>\n",
       "      <td>1</td>\n",
       "      <td>2.0</td>\n",
       "      <td>151.5500</td>\n",
       "      <td>C22 C26</td>\n",
       "      <td>S</td>\n",
       "    </tr>\n",
       "    <tr>\n",
       "      <th>2</th>\n",
       "      <td>1.0</td>\n",
       "      <td>0.0</td>\n",
       "      <td>Allison, Miss. Helen Loraine</td>\n",
       "      <td>female</td>\n",
       "      <td>2.0000</td>\n",
       "      <td>1</td>\n",
       "      <td>2.0</td>\n",
       "      <td>151.5500</td>\n",
       "      <td>C22 C26</td>\n",
       "      <td>S</td>\n",
       "    </tr>\n",
       "    <tr>\n",
       "      <th>3</th>\n",
       "      <td>1.0</td>\n",
       "      <td>0.0</td>\n",
       "      <td>Allison, Mr. Hudson Joshua Creighton</td>\n",
       "      <td>male</td>\n",
       "      <td>30.0000</td>\n",
       "      <td>1</td>\n",
       "      <td>2.0</td>\n",
       "      <td>151.5500</td>\n",
       "      <td>C22 C26</td>\n",
       "      <td>S</td>\n",
       "    </tr>\n",
       "    <tr>\n",
       "      <th>4</th>\n",
       "      <td>1.0</td>\n",
       "      <td>0.0</td>\n",
       "      <td>Allison, Mrs. Hudson J C (Bessie Waldo Daniels)</td>\n",
       "      <td>female</td>\n",
       "      <td>25.0000</td>\n",
       "      <td>1</td>\n",
       "      <td>2.0</td>\n",
       "      <td>151.5500</td>\n",
       "      <td>C22 C26</td>\n",
       "      <td>S</td>\n",
       "    </tr>\n",
       "  </tbody>\n",
       "</table>\n",
       "</div>"
      ],
      "text/plain": [
       "   pclass  survived                                             name     sex  \\\n",
       "0     1.0       1.0                    Allen, Miss. Elisabeth Walton  female   \n",
       "1     1.0       1.0                   Allison, Master. Hudson Trevor    male   \n",
       "2     1.0       0.0                     Allison, Miss. Helen Loraine  female   \n",
       "3     1.0       0.0             Allison, Mr. Hudson Joshua Creighton    male   \n",
       "4     1.0       0.0  Allison, Mrs. Hudson J C (Bessie Waldo Daniels)  female   \n",
       "\n",
       "       age  sibsp  parch      fare    cabin embarked  \n",
       "0  29.0000      0    0.0  211.3375       B5        S  \n",
       "1   0.9167      1    2.0  151.5500  C22 C26        S  \n",
       "2   2.0000      1    2.0  151.5500  C22 C26        S  \n",
       "3  30.0000      1    2.0  151.5500  C22 C26        S  \n",
       "4  25.0000      1    2.0  151.5500  C22 C26        S  "
      ]
     },
     "execution_count": 384,
     "metadata": {},
     "output_type": "execute_result"
    }
   ],
   "source": [
    "titanic.head()"
   ]
  },
  {
   "cell_type": "markdown",
   "metadata": {
    "collapsed": true
   },
   "source": [
    "## Types of data "
   ]
  },
  {
   "cell_type": "markdown",
   "metadata": {},
   "source": [
    "### Numerical variables: 1. Continuous, 2. Discrete"
   ]
  },
  {
   "cell_type": "markdown",
   "metadata": {},
   "source": [
    "* Continuous: Data that can take on any value in an interval.\n",
    "* Discrete: Data that can only take on integer values, such as counts."
   ]
  },
  {
   "cell_type": "code",
   "execution_count": 315,
   "metadata": {
    "collapsed": false
   },
   "outputs": [
    {
     "data": {
      "text/plain": [
       "0    157.48\n",
       "1    162.56\n",
       "2    154.94\n",
       "3    170.18\n",
       "4    172.72\n",
       "5    180.34\n",
       "6    175.26\n",
       "7    149.86\n",
       "8    175.26\n",
       "9    160.02\n",
       "Name: height, dtype: float64"
      ]
     },
     "execution_count": 315,
     "metadata": {},
     "output_type": "execute_result"
    }
   ],
   "source": [
    "diabetes['height'].head(10)"
   ]
  },
  {
   "cell_type": "code",
   "execution_count": 316,
   "metadata": {
    "collapsed": false,
    "scrolled": true
   },
   "outputs": [
    {
     "data": {
      "text/plain": [
       "0    0\n",
       "1    1\n",
       "2    1\n",
       "3    1\n",
       "4    1\n",
       "5    0\n",
       "6    1\n",
       "7    0\n",
       "8    2\n",
       "9    0\n",
       "Name: sibsp, dtype: int32"
      ]
     },
     "execution_count": 316,
     "metadata": {},
     "output_type": "execute_result"
    }
   ],
   "source": [
    "titanic['sibsp'].head(10)"
   ]
  },
  {
   "cell_type": "markdown",
   "metadata": {},
   "source": [
    "### Categorical variables: \n",
    "* Nominal (categorical): data that can only take on a specific set of values.\n",
    "\n",
    "* Binary: a special case of categorical with just two categories (0/1, True, False). (dichotomous, logical, indicator)\n",
    "\n",
    "* Ordinal: Categorical data that has an explicit ordering."
   ]
  },
  {
   "cell_type": "code",
   "execution_count": 317,
   "metadata": {
    "collapsed": false,
    "scrolled": true
   },
   "outputs": [
    {
     "data": {
      "text/plain": [
       "0    female\n",
       "1      male\n",
       "2    female\n",
       "3      male\n",
       "4    female\n",
       "5      male\n",
       "6    female\n",
       "7      male\n",
       "8    female\n",
       "9      male\n",
       "Name: sex, dtype: object"
      ]
     },
     "execution_count": 317,
     "metadata": {},
     "output_type": "execute_result"
    }
   ],
   "source": [
    "titanic['sex'].head(10)"
   ]
  },
  {
   "cell_type": "code",
   "execution_count": 318,
   "metadata": {
    "collapsed": false
   },
   "outputs": [
    {
     "data": {
      "text/plain": [
       "0    1.0\n",
       "1    1.0\n",
       "2    0.0\n",
       "3    0.0\n",
       "4    0.0\n",
       "5    1.0\n",
       "6    1.0\n",
       "7    0.0\n",
       "8    1.0\n",
       "9    0.0\n",
       "Name: survived, dtype: float64"
      ]
     },
     "execution_count": 318,
     "metadata": {},
     "output_type": "execute_result"
    }
   ],
   "source": [
    "titanic['survived'].head(10)"
   ]
  },
  {
   "cell_type": "code",
   "execution_count": 319,
   "metadata": {
    "collapsed": false
   },
   "outputs": [
    {
     "data": {
      "text/plain": [
       "0    medium\n",
       "1     large\n",
       "2     large\n",
       "3     large\n",
       "4    medium\n",
       "5     large\n",
       "6    medium\n",
       "7    medium\n",
       "8     large\n",
       "9     small\n",
       "Name: frame, dtype: object"
      ]
     },
     "execution_count": 319,
     "metadata": {},
     "output_type": "execute_result"
    }
   ],
   "source": [
    "diabetes['frame'].head(10)"
   ]
  },
  {
   "cell_type": "markdown",
   "metadata": {},
   "source": [
    "## Univariate Descriptive Analysis"
   ]
  },
  {
   "cell_type": "markdown",
   "metadata": {},
   "source": [
    "### Numerical descriptive Statistics: Central tendency"
   ]
  },
  {
   "cell_type": "code",
   "execution_count": 320,
   "metadata": {
    "collapsed": false
   },
   "outputs": [
    {
     "data": {
      "text/plain": [
       "(403, 16)"
      ]
     },
     "execution_count": 320,
     "metadata": {},
     "output_type": "execute_result"
    }
   ],
   "source": [
    "diabetes.shape"
   ]
  },
  {
   "cell_type": "code",
   "execution_count": 389,
   "metadata": {
    "collapsed": false
   },
   "outputs": [
    {
     "data": {
      "text/plain": [
       "50.43424317617866"
      ]
     },
     "execution_count": 389,
     "metadata": {},
     "output_type": "execute_result"
    }
   ],
   "source": [
    "diabetes['hdl'].mean()"
   ]
  },
  {
   "cell_type": "code",
   "execution_count": 321,
   "metadata": {
    "collapsed": false
   },
   "outputs": [
    {
     "name": "stdout",
     "output_type": "stream",
     "text": [
      "Mean: 167.690421836\n",
      "Median: 167.64\n",
      "Mode: ModeResult(mode=array([ 160.02]), count=array([43]))\n"
     ]
    }
   ],
   "source": [
    "print \"Mean: {}\".format(diabetes['height'].mean())\n",
    "print \"Median: {}\".format(diabetes['height'].median())\n",
    "print \"Mode: {}\".format(stats.mode(diabetes['height']))"
   ]
  },
  {
   "cell_type": "markdown",
   "metadata": {},
   "source": [
    "### Numerical descriptive Statistics: Percentiles, min and max"
   ]
  },
  {
   "cell_type": "code",
   "execution_count": 322,
   "metadata": {
    "collapsed": false
   },
   "outputs": [
    {
     "name": "stdout",
     "output_type": "stream",
     "text": [
      "Min: 132.08\n",
      "Max: 193.04\n",
      "==== Percentiles ===\n",
      "5% of the values are below 152.4\n",
      "10% of the values are below 154.94\n",
      "15% of the values are below 157.48\n",
      "20% of the values are below 160.02\n",
      "25% of the values are below 160.02\n",
      "30% of the values are below 162.56\n",
      "35% of the values are below 162.56\n",
      "40% of the values are below 165.1\n",
      "45% of the values are below 165.1\n",
      "50% of the values are below 167.64\n",
      "55% of the values are below 167.64\n",
      "60% of the values are below 170.18\n",
      "65% of the values are below 172.72\n",
      "70% of the values are below 172.72\n",
      "75% of the values are below 175.26\n",
      "80% of the values are below 175.26\n",
      "85% of the values are below 177.8\n",
      "90% of the values are below 180.34\n",
      "95% of the values are below 182.88\n"
     ]
    }
   ],
   "source": [
    "percentiles = np.arange(5, 100, 5)\n",
    "scores = stats.scoreatpercentile(diabetes['height'], per = percentiles)\n",
    "print \"Min: {}\".format(diabetes['height'].min())\n",
    "print \"Max: {}\".format(diabetes['height'].max())\n",
    "print \"==== Percentiles ===\"\n",
    "for (per, score) in zip(percentiles, scores):\n",
    "    print \"{}% of the values are below {}\".format(per, score)"
   ]
  },
  {
   "cell_type": "markdown",
   "metadata": {},
   "source": [
    "### Numerical descriptive Statistics: Dispersion"
   ]
  },
  {
   "cell_type": "code",
   "execution_count": 323,
   "metadata": {
    "collapsed": false
   },
   "outputs": [
    {
     "name": "stdout",
     "output_type": "stream",
     "text": [
      "Standard Deviation: 9.89093874334\n",
      "Range: 60.96\n",
      "Inter-Quartile Range: [ 7.6073]\n"
     ]
    }
   ],
   "source": [
    "print \"Standard Deviation: {}\".format(diabetes['height'].std())\n",
    "print \"Range: {}\".format(diabetes['height'].max() - diabetes['height'].min())\n",
    "print \"Inter-Quartile Range: {}\".format(np.diff(stats.scoreatpercentile(diabetes['height'], per=np.array([0.25,0.75]))))"
   ]
  },
  {
   "cell_type": "markdown",
   "metadata": {},
   "source": [
    "#### Interpreting dispersion: What can you say about the following results?"
   ]
  },
  {
   "cell_type": "code",
   "execution_count": 381,
   "metadata": {
    "collapsed": false,
    "scrolled": true
   },
   "outputs": [
    {
     "name": "stdout",
     "output_type": "stream",
     "text": [
      "Standard Deviation by Frame:\n"
     ]
    },
    {
     "data": {
      "text/plain": [
       "frame\n",
       "large     13.364674\n",
       "medium    17.980442\n",
       "small     17.654109\n",
       "Name: hdl, dtype: float64"
      ]
     },
     "execution_count": 381,
     "metadata": {},
     "output_type": "execute_result"
    }
   ],
   "source": [
    "print 'Standard Deviation by Frame:'\n",
    "diabetes.groupby('frame')['hdl'].aggregate(np.std)"
   ]
  },
  {
   "cell_type": "code",
   "execution_count": 324,
   "metadata": {
    "collapsed": false,
    "scrolled": true
   },
   "outputs": [
    {
     "data": {
      "image/png": "[encoded data removed]",
      "text/plain": [
       "<matplotlib.figure.Figure at 0x14e4fcc0>"
      ]
     },
     "metadata": {},
     "output_type": "display_data"
    }
   ],
   "source": [
    "fig, ax = plt.subplots(figsize=(8,5))\n",
    "diabetes['height'].plot(kind='hist', title=\"Histogram for Height (Frecuency)\", ax=ax);"
   ]
  },
  {
   "cell_type": "code",
   "execution_count": 325,
   "metadata": {
    "collapsed": false
   },
   "outputs": [
    {
     "data": {
      "image/png": "[encoded data removed]",
      "text/plain": [
       "<matplotlib.figure.Figure at 0x149498d0>"
      ]
     },
     "metadata": {},
     "output_type": "display_data"
    }
   ],
   "source": [
    "fig, ax = plt.subplots(figsize=(8,5))\n",
    "diabetes['height'].plot(kind='hist', title=\"Histogram for Height (Density)\", normed=1, ax=ax);"
   ]
  },
  {
   "cell_type": "markdown",
   "metadata": {
    "collapsed": true
   },
   "source": [
    "## Describing Discrete Data"
   ]
  },
  {
   "cell_type": "code",
   "execution_count": 327,
   "metadata": {
    "collapsed": false
   },
   "outputs": [
    {
     "name": "stdout",
     "output_type": "stream",
     "text": [
      "Mean: 0.498854087089\n",
      "Mode: ModeResult(mode=array([0]), count=array([891]))\n"
     ]
    }
   ],
   "source": [
    "print \"Mean: {}\".format(titanic['sibsp'].mean())\n",
    "print \"Mode: {}\".format(stats.mode(titanic['sibsp']))"
   ]
  },
  {
   "cell_type": "code",
   "execution_count": 328,
   "metadata": {
    "collapsed": false
   },
   "outputs": [
    {
     "data": {
      "text/plain": [
       "0    891\n",
       "1    319\n",
       "2     42\n",
       "3     20\n",
       "4     22\n",
       "5      6\n",
       "8      9\n",
       "Name: sibsp, dtype: int64"
      ]
     },
     "execution_count": 328,
     "metadata": {},
     "output_type": "execute_result"
    }
   ],
   "source": [
    "titanic['sibsp'].value_counts().sort_index()"
   ]
  },
  {
   "cell_type": "code",
   "execution_count": 329,
   "metadata": {
    "collapsed": false
   },
   "outputs": [
    {
     "name": "stdout",
     "output_type": "stream",
     "text": [
      "0: 68.07%\n",
      "1: 24.37%\n",
      "2: 3.21%\n",
      "3: 1.53%\n",
      "4: 1.68%\n",
      "5: 0.46%\n",
      "8: 0.69%\n"
     ]
    }
   ],
   "source": [
    "sibsp_value_counts = titanic['sibsp'].value_counts().sort_index()\n",
    "for i, x in zip(sibsp_value_counts.index, sibsp_value_counts):\n",
    "    print \"{}: {:0.2f}%\".format(i, 100*x/1309.0)"
   ]
  },
  {
   "cell_type": "code",
   "execution_count": 330,
   "metadata": {
    "collapsed": false
   },
   "outputs": [
    {
     "data": {
      "text/plain": [
       "<matplotlib.axes._subplots.AxesSubplot at 0x10d23860>"
      ]
     },
     "execution_count": 330,
     "metadata": {},
     "output_type": "execute_result"
    },
    {
     "data": {
      "image/png": "[encoded data removed]",
      "text/plain": [
       "<matplotlib.figure.Figure at 0x135e7cf8>"
      ]
     },
     "metadata": {},
     "output_type": "display_data"
    }
   ],
   "source": [
    "fig, ax = plt.subplots(figsize=(8,5))\n",
    "sibsp_value_counts.plot(kind='bar', xticks=range(9), ax=ax)"
   ]
  },
  {
   "cell_type": "markdown",
   "metadata": {},
   "source": [
    "## Categorical Data"
   ]
  },
  {
   "cell_type": "code",
   "execution_count": 331,
   "metadata": {
    "collapsed": false
   },
   "outputs": [
    {
     "data": {
      "text/plain": [
       "male      843\n",
       "female    466\n",
       "Name: sex, dtype: int64"
      ]
     },
     "execution_count": 331,
     "metadata": {},
     "output_type": "execute_result"
    }
   ],
   "source": [
    "titanic['sex'].value_counts()"
   ]
  },
  {
   "cell_type": "code",
   "execution_count": 332,
   "metadata": {
    "collapsed": false
   },
   "outputs": [
    {
     "name": "stdout",
     "output_type": "stream",
     "text": [
      "male: 64.40%\n",
      "female: 35.60%\n"
     ]
    }
   ],
   "source": [
    "sex_value_counts = titanic['sex'].value_counts()\n",
    "for i, x in zip(sex_value_counts.index, sex_value_counts):\n",
    "    print \"{}: {:0.2f}%\".format(i, 100*x/1309.0)"
   ]
  },
  {
   "cell_type": "code",
   "execution_count": 333,
   "metadata": {
    "collapsed": false,
    "scrolled": true
   },
   "outputs": [
    {
     "data": {
      "text/plain": [
       "<matplotlib.axes._subplots.AxesSubplot at 0x14a8cf60>"
      ]
     },
     "execution_count": 333,
     "metadata": {},
     "output_type": "execute_result"
    },
    {
     "data": {
      "image/png": "[encoded data removed]",
      "text/plain": [
       "<matplotlib.figure.Figure at 0x13e29fd0>"
      ]
     },
     "metadata": {},
     "output_type": "display_data"
    }
   ],
   "source": [
    "titanic['sex'].value_counts().plot(kind='bar')"
   ]
  },
  {
   "cell_type": "markdown",
   "metadata": {},
   "source": [
    "## Bivariate Descriptive Statistics"
   ]
  },
  {
   "cell_type": "markdown",
   "metadata": {},
   "source": [
    "### Two numerical variables"
   ]
  },
  {
   "cell_type": "code",
   "execution_count": 334,
   "metadata": {
    "collapsed": false
   },
   "outputs": [
    {
     "data": {
      "text/plain": [
       "0.18661919017153542"
      ]
     },
     "execution_count": 334,
     "metadata": {},
     "output_type": "execute_result"
    }
   ],
   "source": [
    "np.corrcoef(diabetes[\"hdl\"].values, diabetes[\"Cholesterol\"].values)[0,1]"
   ]
  },
  {
   "cell_type": "code",
   "execution_count": 390,
   "metadata": {
    "collapsed": false
   },
   "outputs": [
    {
     "data": {
      "image/png": "[encoded data removed]",
      "text/plain": [
       "<matplotlib.figure.Figure at 0x14a1ab00>"
      ]
     },
     "metadata": {},
     "output_type": "display_data"
    }
   ],
   "source": [
    "# Y = Cholesterol; X = hdl\n",
    "# 1.1 Traditional scatter plot with matplotlib\n",
    "fig, ax = plt.subplots(figsize = (8,6))\n",
    "ax.scatter(diabetes[\"hdl\"], diabetes[\"Cholesterol\"])\n",
    "ax.set_title(\"Cholesterol vs. HDL\", size = 17)\n",
    "ax.set_xlabel(\"hdl\", size = 14)\n",
    "ax.set_ylabel(\"Cholesterol\", size = 14)\n",
    "plt.show()"
   ]
  },
  {
   "cell_type": "markdown",
   "metadata": {},
   "source": [
    "### One Categorical vs. a Numerical Variable"
   ]
  },
  {
   "cell_type": "code",
   "execution_count": 336,
   "metadata": {
    "collapsed": false
   },
   "outputs": [
    {
     "data": {
      "text/html": [
       "<div>\n",
       "<table border=\"1\" class=\"dataframe\">\n",
       "  <thead>\n",
       "    <tr style=\"text-align: right;\">\n",
       "      <th></th>\n",
       "      <th>count</th>\n",
       "      <th>mean</th>\n",
       "      <th>std</th>\n",
       "      <th>min</th>\n",
       "      <th>25%</th>\n",
       "      <th>50%</th>\n",
       "      <th>75%</th>\n",
       "      <th>max</th>\n",
       "    </tr>\n",
       "    <tr>\n",
       "      <th>frame</th>\n",
       "      <th></th>\n",
       "      <th></th>\n",
       "      <th></th>\n",
       "      <th></th>\n",
       "      <th></th>\n",
       "      <th></th>\n",
       "      <th></th>\n",
       "      <th></th>\n",
       "    </tr>\n",
       "  </thead>\n",
       "  <tbody>\n",
       "    <tr>\n",
       "      <th>large</th>\n",
       "      <td>103.0</td>\n",
       "      <td>44.601942</td>\n",
       "      <td>13.364674</td>\n",
       "      <td>12.0</td>\n",
       "      <td>36.00</td>\n",
       "      <td>43.0</td>\n",
       "      <td>52.00</td>\n",
       "      <td>81.0</td>\n",
       "    </tr>\n",
       "    <tr>\n",
       "      <th>medium</th>\n",
       "      <td>196.0</td>\n",
       "      <td>50.836735</td>\n",
       "      <td>17.980442</td>\n",
       "      <td>14.0</td>\n",
       "      <td>38.75</td>\n",
       "      <td>46.5</td>\n",
       "      <td>59.00</td>\n",
       "      <td>120.0</td>\n",
       "    </tr>\n",
       "    <tr>\n",
       "      <th>small</th>\n",
       "      <td>104.0</td>\n",
       "      <td>55.451923</td>\n",
       "      <td>17.654109</td>\n",
       "      <td>28.0</td>\n",
       "      <td>42.75</td>\n",
       "      <td>51.5</td>\n",
       "      <td>65.25</td>\n",
       "      <td>110.0</td>\n",
       "    </tr>\n",
       "  </tbody>\n",
       "</table>\n",
       "</div>"
      ],
      "text/plain": [
       "        count       mean        std   min    25%   50%    75%    max\n",
       "frame                                                               \n",
       "large   103.0  44.601942  13.364674  12.0  36.00  43.0  52.00   81.0\n",
       "medium  196.0  50.836735  17.980442  14.0  38.75  46.5  59.00  120.0\n",
       "small   104.0  55.451923  17.654109  28.0  42.75  51.5  65.25  110.0"
      ]
     },
     "execution_count": 336,
     "metadata": {},
     "output_type": "execute_result"
    }
   ],
   "source": [
    "diabetes.groupby('frame')['hdl'].describe().unstack()"
   ]
  },
  {
   "cell_type": "code",
   "execution_count": 337,
   "metadata": {
    "collapsed": false
   },
   "outputs": [
    {
     "data": {
      "image/png": "[encoded data removed]",
      "text/plain": [
       "<matplotlib.figure.Figure at 0x103f67f0>"
      ]
     },
     "metadata": {},
     "output_type": "display_data"
    }
   ],
   "source": [
    "fig, ax = plt.subplots(figsize = (8,6))\n",
    "sns.boxplot(x = \"frame\", y = \"hdl\", data = diabetes, order = [\"small\",\"medium\",\"large\"], ax=ax);"
   ]
  },
  {
   "cell_type": "code",
   "execution_count": 391,
   "metadata": {
    "collapsed": false,
    "scrolled": true
   },
   "outputs": [
    {
     "data": {
      "image/png": "[encoded data removed]",
      "text/plain": [
       "<matplotlib.figure.Figure at 0x1438c6a0>"
      ]
     },
     "metadata": {},
     "output_type": "display_data"
    }
   ],
   "source": [
    "sns.factorplot(x = \"frame\", y = \"hdl\", data = diabetes, kind=\"point\", size = 5, order = [\"small\",\"medium\",\"large\"]);"
   ]
  },
  {
   "cell_type": "code",
   "execution_count": 339,
   "metadata": {
    "collapsed": false,
    "scrolled": true
   },
   "outputs": [
    {
     "data": {
      "image/png": "[encoded data removed]",
      "text/plain": [
       "<matplotlib.figure.Figure at 0x151261d0>"
      ]
     },
     "metadata": {},
     "output_type": "display_data"
    }
   ],
   "source": [
    "# Comparison of distributions\n",
    "sns.set_context('notebook', font_scale=2)\n",
    "fig = sns.FacetGrid(diabetes, hue = \"frame\", aspect = 3, size = 6)\n",
    "fig.map(sns.kdeplot, \"hdl\", shade = True)\n",
    "fig.add_legend();"
   ]
  },
  {
   "cell_type": "markdown",
   "metadata": {},
   "source": [
    "### Two categorical variables"
   ]
  },
  {
   "cell_type": "code",
   "execution_count": 340,
   "metadata": {
    "collapsed": false
   },
   "outputs": [
    {
     "data": {
      "text/html": [
       "<div>\n",
       "<table border=\"1\" class=\"dataframe\">\n",
       "  <thead>\n",
       "    <tr style=\"text-align: right;\">\n",
       "      <th>frame</th>\n",
       "      <th>large</th>\n",
       "      <th>medium</th>\n",
       "      <th>small</th>\n",
       "    </tr>\n",
       "    <tr>\n",
       "      <th>gender</th>\n",
       "      <th></th>\n",
       "      <th></th>\n",
       "      <th></th>\n",
       "    </tr>\n",
       "  </thead>\n",
       "  <tbody>\n",
       "    <tr>\n",
       "      <th>female</th>\n",
       "      <td>42</td>\n",
       "      <td>123</td>\n",
       "      <td>69</td>\n",
       "    </tr>\n",
       "    <tr>\n",
       "      <th>male</th>\n",
       "      <td>61</td>\n",
       "      <td>73</td>\n",
       "      <td>35</td>\n",
       "    </tr>\n",
       "  </tbody>\n",
       "</table>\n",
       "</div>"
      ],
      "text/plain": [
       "frame   large  medium  small\n",
       "gender                      \n",
       "female     42     123     69\n",
       "male       61      73     35"
      ]
     },
     "execution_count": 340,
     "metadata": {},
     "output_type": "execute_result"
    }
   ],
   "source": [
    "diabetes.groupby(['gender','frame']).count()['id'].unstack()"
   ]
  },
  {
   "cell_type": "code",
   "execution_count": 341,
   "metadata": {
    "collapsed": false,
    "scrolled": true
   },
   "outputs": [
    {
     "data": {
      "image/png": "[encoded data removed]",
      "text/plain": [
       "<matplotlib.figure.Figure at 0x1369a390>"
      ]
     },
     "metadata": {},
     "output_type": "display_data"
    }
   ],
   "source": [
    "sns.set_context('notebook', font_scale=1)\n",
    "sns.countplot(x = \"gender\", hue = \"frame\", data = diabetes, hue_order = [\"small\",\"medium\",\"large\"]);"
   ]
  },
  {
   "cell_type": "code",
   "execution_count": 342,
   "metadata": {
    "collapsed": false
   },
   "outputs": [
    {
     "data": {
      "image/png": "[encoded data removed]",
      "text/plain": [
       "<matplotlib.figure.Figure at 0x14e68d30>"
      ]
     },
     "metadata": {},
     "output_type": "display_data"
    }
   ],
   "source": [
    "diabetes.groupby(['gender','frame']).count()['id'].unstack().plot(kind = \"bar\", stacked = True);"
   ]
  },
  {
   "cell_type": "markdown",
   "metadata": {},
   "source": [
    "# Inferencial Statistics"
   ]
  },
  {
   "cell_type": "markdown",
   "metadata": {},
   "source": [
    "## Population vs. Sample"
   ]
  },
  {
   "cell_type": "markdown",
   "metadata": {},
   "source": [
    "Technically a sample is any subset from the population. In practice is a set of data collected and/or selected from a statistical population by a **defined procedure**. The elements of a sample are known as sample points, sampling units or observations.\n",
    "\n",
    "Why to why need to work with samples samples?\n",
    "\n",
    "Typically, the population is very large, making a census or a complete enumeration of all the values in the population is either impractical or impossible.\n",
    "\n",
    "A good sampling procedure extracts a sample that reflects the main characteristics of the **population**."
   ]
  },
  {
   "cell_type": "code",
   "execution_count": 343,
   "metadata": {
    "collapsed": true
   },
   "outputs": [],
   "source": [
    "n_samples = 10\n",
    "n = 25 # Sample size\n",
    "samples = np.zeros((n, n_samples))\n",
    "for i in range(10):\n",
    "    samples[:,i] = np.random.choice(male_pop_iq, size=n)"
   ]
  },
  {
   "cell_type": "markdown",
   "metadata": {},
   "source": [
    "###  Why samples are different from each other?"
   ]
  },
  {
   "cell_type": "code",
   "execution_count": 344,
   "metadata": {
    "collapsed": false
   },
   "outputs": [],
   "source": [
    "samples = pd.DataFrame(samples, columns=['sample_' + str(i+1) for i in range(10)], index=np.arange(25)+1)"
   ]
  },
  {
   "cell_type": "code",
   "execution_count": 345,
   "metadata": {
    "collapsed": false,
    "scrolled": false
   },
   "outputs": [
    {
     "data": {
      "text/html": [
       "<div>\n",
       "<table border=\"1\" class=\"dataframe\">\n",
       "  <thead>\n",
       "    <tr style=\"text-align: right;\">\n",
       "      <th></th>\n",
       "      <th>sample_1</th>\n",
       "      <th>sample_2</th>\n",
       "      <th>sample_3</th>\n",
       "      <th>sample_4</th>\n",
       "      <th>sample_5</th>\n",
       "      <th>sample_6</th>\n",
       "      <th>sample_7</th>\n",
       "      <th>sample_8</th>\n",
       "      <th>sample_9</th>\n",
       "      <th>sample_10</th>\n",
       "    </tr>\n",
       "  </thead>\n",
       "  <tbody>\n",
       "    <tr>\n",
       "      <th>1</th>\n",
       "      <td>99.2</td>\n",
       "      <td>110.2</td>\n",
       "      <td>62.7</td>\n",
       "      <td>109.7</td>\n",
       "      <td>97.2</td>\n",
       "      <td>105.0</td>\n",
       "      <td>75.0</td>\n",
       "      <td>124.3</td>\n",
       "      <td>82.3</td>\n",
       "      <td>121.7</td>\n",
       "    </tr>\n",
       "    <tr>\n",
       "      <th>2</th>\n",
       "      <td>113.5</td>\n",
       "      <td>108.7</td>\n",
       "      <td>87.8</td>\n",
       "      <td>98.6</td>\n",
       "      <td>96.4</td>\n",
       "      <td>90.7</td>\n",
       "      <td>105.0</td>\n",
       "      <td>93.9</td>\n",
       "      <td>78.5</td>\n",
       "      <td>77.7</td>\n",
       "    </tr>\n",
       "    <tr>\n",
       "      <th>3</th>\n",
       "      <td>114.6</td>\n",
       "      <td>102.0</td>\n",
       "      <td>102.9</td>\n",
       "      <td>116.4</td>\n",
       "      <td>95.7</td>\n",
       "      <td>86.0</td>\n",
       "      <td>57.1</td>\n",
       "      <td>91.7</td>\n",
       "      <td>111.5</td>\n",
       "      <td>116.1</td>\n",
       "    </tr>\n",
       "    <tr>\n",
       "      <th>4</th>\n",
       "      <td>121.5</td>\n",
       "      <td>107.1</td>\n",
       "      <td>69.4</td>\n",
       "      <td>87.0</td>\n",
       "      <td>90.3</td>\n",
       "      <td>82.5</td>\n",
       "      <td>97.9</td>\n",
       "      <td>114.3</td>\n",
       "      <td>104.8</td>\n",
       "      <td>101.6</td>\n",
       "    </tr>\n",
       "    <tr>\n",
       "      <th>5</th>\n",
       "      <td>95.7</td>\n",
       "      <td>84.7</td>\n",
       "      <td>131.6</td>\n",
       "      <td>122.3</td>\n",
       "      <td>80.8</td>\n",
       "      <td>118.1</td>\n",
       "      <td>100.4</td>\n",
       "      <td>89.6</td>\n",
       "      <td>128.3</td>\n",
       "      <td>112.1</td>\n",
       "    </tr>\n",
       "    <tr>\n",
       "      <th>6</th>\n",
       "      <td>120.6</td>\n",
       "      <td>105.9</td>\n",
       "      <td>112.1</td>\n",
       "      <td>110.6</td>\n",
       "      <td>106.4</td>\n",
       "      <td>95.7</td>\n",
       "      <td>118.8</td>\n",
       "      <td>110.0</td>\n",
       "      <td>74.6</td>\n",
       "      <td>86.3</td>\n",
       "    </tr>\n",
       "    <tr>\n",
       "      <th>7</th>\n",
       "      <td>99.5</td>\n",
       "      <td>100.7</td>\n",
       "      <td>105.2</td>\n",
       "      <td>79.7</td>\n",
       "      <td>112.6</td>\n",
       "      <td>91.2</td>\n",
       "      <td>68.0</td>\n",
       "      <td>100.8</td>\n",
       "      <td>89.9</td>\n",
       "      <td>79.5</td>\n",
       "    </tr>\n",
       "    <tr>\n",
       "      <th>8</th>\n",
       "      <td>111.7</td>\n",
       "      <td>96.7</td>\n",
       "      <td>108.6</td>\n",
       "      <td>73.8</td>\n",
       "      <td>86.8</td>\n",
       "      <td>73.5</td>\n",
       "      <td>107.6</td>\n",
       "      <td>79.5</td>\n",
       "      <td>111.4</td>\n",
       "      <td>72.8</td>\n",
       "    </tr>\n",
       "    <tr>\n",
       "      <th>9</th>\n",
       "      <td>90.5</td>\n",
       "      <td>88.8</td>\n",
       "      <td>110.1</td>\n",
       "      <td>84.7</td>\n",
       "      <td>112.8</td>\n",
       "      <td>101.8</td>\n",
       "      <td>99.4</td>\n",
       "      <td>100.2</td>\n",
       "      <td>96.0</td>\n",
       "      <td>110.9</td>\n",
       "    </tr>\n",
       "    <tr>\n",
       "      <th>10</th>\n",
       "      <td>117.0</td>\n",
       "      <td>88.5</td>\n",
       "      <td>83.3</td>\n",
       "      <td>77.1</td>\n",
       "      <td>127.3</td>\n",
       "      <td>92.3</td>\n",
       "      <td>121.9</td>\n",
       "      <td>110.4</td>\n",
       "      <td>126.4</td>\n",
       "      <td>130.3</td>\n",
       "    </tr>\n",
       "    <tr>\n",
       "      <th>11</th>\n",
       "      <td>122.3</td>\n",
       "      <td>94.9</td>\n",
       "      <td>99.1</td>\n",
       "      <td>106.7</td>\n",
       "      <td>123.1</td>\n",
       "      <td>110.9</td>\n",
       "      <td>91.9</td>\n",
       "      <td>102.0</td>\n",
       "      <td>89.5</td>\n",
       "      <td>119.5</td>\n",
       "    </tr>\n",
       "    <tr>\n",
       "      <th>12</th>\n",
       "      <td>90.7</td>\n",
       "      <td>125.3</td>\n",
       "      <td>116.1</td>\n",
       "      <td>96.7</td>\n",
       "      <td>118.0</td>\n",
       "      <td>106.7</td>\n",
       "      <td>83.4</td>\n",
       "      <td>81.4</td>\n",
       "      <td>122.7</td>\n",
       "      <td>75.9</td>\n",
       "    </tr>\n",
       "    <tr>\n",
       "      <th>13</th>\n",
       "      <td>101.1</td>\n",
       "      <td>108.1</td>\n",
       "      <td>104.0</td>\n",
       "      <td>97.8</td>\n",
       "      <td>73.9</td>\n",
       "      <td>99.8</td>\n",
       "      <td>107.3</td>\n",
       "      <td>98.8</td>\n",
       "      <td>98.8</td>\n",
       "      <td>115.9</td>\n",
       "    </tr>\n",
       "    <tr>\n",
       "      <th>14</th>\n",
       "      <td>112.9</td>\n",
       "      <td>103.3</td>\n",
       "      <td>108.7</td>\n",
       "      <td>127.1</td>\n",
       "      <td>86.8</td>\n",
       "      <td>90.8</td>\n",
       "      <td>106.6</td>\n",
       "      <td>93.3</td>\n",
       "      <td>96.3</td>\n",
       "      <td>93.2</td>\n",
       "    </tr>\n",
       "    <tr>\n",
       "      <th>15</th>\n",
       "      <td>114.1</td>\n",
       "      <td>135.0</td>\n",
       "      <td>89.8</td>\n",
       "      <td>94.8</td>\n",
       "      <td>96.6</td>\n",
       "      <td>113.6</td>\n",
       "      <td>78.6</td>\n",
       "      <td>107.5</td>\n",
       "      <td>93.5</td>\n",
       "      <td>98.2</td>\n",
       "    </tr>\n",
       "    <tr>\n",
       "      <th>16</th>\n",
       "      <td>112.5</td>\n",
       "      <td>85.8</td>\n",
       "      <td>108.0</td>\n",
       "      <td>104.6</td>\n",
       "      <td>101.8</td>\n",
       "      <td>106.8</td>\n",
       "      <td>113.3</td>\n",
       "      <td>120.2</td>\n",
       "      <td>104.2</td>\n",
       "      <td>80.7</td>\n",
       "    </tr>\n",
       "    <tr>\n",
       "      <th>17</th>\n",
       "      <td>89.2</td>\n",
       "      <td>80.3</td>\n",
       "      <td>87.1</td>\n",
       "      <td>140.3</td>\n",
       "      <td>100.6</td>\n",
       "      <td>75.3</td>\n",
       "      <td>114.0</td>\n",
       "      <td>126.0</td>\n",
       "      <td>97.7</td>\n",
       "      <td>109.6</td>\n",
       "    </tr>\n",
       "    <tr>\n",
       "      <th>18</th>\n",
       "      <td>124.5</td>\n",
       "      <td>114.8</td>\n",
       "      <td>86.6</td>\n",
       "      <td>122.5</td>\n",
       "      <td>97.5</td>\n",
       "      <td>95.5</td>\n",
       "      <td>111.2</td>\n",
       "      <td>119.2</td>\n",
       "      <td>111.8</td>\n",
       "      <td>92.7</td>\n",
       "    </tr>\n",
       "    <tr>\n",
       "      <th>19</th>\n",
       "      <td>92.1</td>\n",
       "      <td>101.4</td>\n",
       "      <td>104.0</td>\n",
       "      <td>110.4</td>\n",
       "      <td>94.2</td>\n",
       "      <td>138.1</td>\n",
       "      <td>101.7</td>\n",
       "      <td>112.6</td>\n",
       "      <td>96.2</td>\n",
       "      <td>107.0</td>\n",
       "    </tr>\n",
       "    <tr>\n",
       "      <th>20</th>\n",
       "      <td>107.1</td>\n",
       "      <td>108.4</td>\n",
       "      <td>108.4</td>\n",
       "      <td>99.0</td>\n",
       "      <td>95.5</td>\n",
       "      <td>92.9</td>\n",
       "      <td>89.1</td>\n",
       "      <td>112.6</td>\n",
       "      <td>89.5</td>\n",
       "      <td>101.3</td>\n",
       "    </tr>\n",
       "    <tr>\n",
       "      <th>21</th>\n",
       "      <td>68.5</td>\n",
       "      <td>79.1</td>\n",
       "      <td>118.2</td>\n",
       "      <td>100.1</td>\n",
       "      <td>95.4</td>\n",
       "      <td>112.4</td>\n",
       "      <td>89.1</td>\n",
       "      <td>116.5</td>\n",
       "      <td>86.6</td>\n",
       "      <td>103.3</td>\n",
       "    </tr>\n",
       "    <tr>\n",
       "      <th>22</th>\n",
       "      <td>98.2</td>\n",
       "      <td>99.2</td>\n",
       "      <td>126.2</td>\n",
       "      <td>98.7</td>\n",
       "      <td>104.2</td>\n",
       "      <td>91.0</td>\n",
       "      <td>126.1</td>\n",
       "      <td>126.3</td>\n",
       "      <td>101.4</td>\n",
       "      <td>81.7</td>\n",
       "    </tr>\n",
       "    <tr>\n",
       "      <th>23</th>\n",
       "      <td>95.0</td>\n",
       "      <td>122.5</td>\n",
       "      <td>100.9</td>\n",
       "      <td>93.5</td>\n",
       "      <td>128.2</td>\n",
       "      <td>96.9</td>\n",
       "      <td>111.3</td>\n",
       "      <td>83.3</td>\n",
       "      <td>111.2</td>\n",
       "      <td>86.0</td>\n",
       "    </tr>\n",
       "    <tr>\n",
       "      <th>24</th>\n",
       "      <td>123.9</td>\n",
       "      <td>90.8</td>\n",
       "      <td>102.4</td>\n",
       "      <td>100.2</td>\n",
       "      <td>102.8</td>\n",
       "      <td>109.2</td>\n",
       "      <td>104.7</td>\n",
       "      <td>106.2</td>\n",
       "      <td>81.0</td>\n",
       "      <td>93.5</td>\n",
       "    </tr>\n",
       "    <tr>\n",
       "      <th>25</th>\n",
       "      <td>83.4</td>\n",
       "      <td>68.6</td>\n",
       "      <td>102.1</td>\n",
       "      <td>138.1</td>\n",
       "      <td>121.3</td>\n",
       "      <td>124.6</td>\n",
       "      <td>82.7</td>\n",
       "      <td>85.5</td>\n",
       "      <td>113.7</td>\n",
       "      <td>88.7</td>\n",
       "    </tr>\n",
       "  </tbody>\n",
       "</table>\n",
       "</div>"
      ],
      "text/plain": [
       "    sample_1  sample_2  sample_3  sample_4  sample_5  sample_6  sample_7  \\\n",
       "1       99.2     110.2      62.7     109.7      97.2     105.0      75.0   \n",
       "2      113.5     108.7      87.8      98.6      96.4      90.7     105.0   \n",
       "3      114.6     102.0     102.9     116.4      95.7      86.0      57.1   \n",
       "4      121.5     107.1      69.4      87.0      90.3      82.5      97.9   \n",
       "5       95.7      84.7     131.6     122.3      80.8     118.1     100.4   \n",
       "6      120.6     105.9     112.1     110.6     106.4      95.7     118.8   \n",
       "7       99.5     100.7     105.2      79.7     112.6      91.2      68.0   \n",
       "8      111.7      96.7     108.6      73.8      86.8      73.5     107.6   \n",
       "9       90.5      88.8     110.1      84.7     112.8     101.8      99.4   \n",
       "10     117.0      88.5      83.3      77.1     127.3      92.3     121.9   \n",
       "11     122.3      94.9      99.1     106.7     123.1     110.9      91.9   \n",
       "12      90.7     125.3     116.1      96.7     118.0     106.7      83.4   \n",
       "13     101.1     108.1     104.0      97.8      73.9      99.8     107.3   \n",
       "14     112.9     103.3     108.7     127.1      86.8      90.8     106.6   \n",
       "15     114.1     135.0      89.8      94.8      96.6     113.6      78.6   \n",
       "16     112.5      85.8     108.0     104.6     101.8     106.8     113.3   \n",
       "17      89.2      80.3      87.1     140.3     100.6      75.3     114.0   \n",
       "18     124.5     114.8      86.6     122.5      97.5      95.5     111.2   \n",
       "19      92.1     101.4     104.0     110.4      94.2     138.1     101.7   \n",
       "20     107.1     108.4     108.4      99.0      95.5      92.9      89.1   \n",
       "21      68.5      79.1     118.2     100.1      95.4     112.4      89.1   \n",
       "22      98.2      99.2     126.2      98.7     104.2      91.0     126.1   \n",
       "23      95.0     122.5     100.9      93.5     128.2      96.9     111.3   \n",
       "24     123.9      90.8     102.4     100.2     102.8     109.2     104.7   \n",
       "25      83.4      68.6     102.1     138.1     121.3     124.6      82.7   \n",
       "\n",
       "    sample_8  sample_9  sample_10  \n",
       "1      124.3      82.3      121.7  \n",
       "2       93.9      78.5       77.7  \n",
       "3       91.7     111.5      116.1  \n",
       "4      114.3     104.8      101.6  \n",
       "5       89.6     128.3      112.1  \n",
       "6      110.0      74.6       86.3  \n",
       "7      100.8      89.9       79.5  \n",
       "8       79.5     111.4       72.8  \n",
       "9      100.2      96.0      110.9  \n",
       "10     110.4     126.4      130.3  \n",
       "11     102.0      89.5      119.5  \n",
       "12      81.4     122.7       75.9  \n",
       "13      98.8      98.8      115.9  \n",
       "14      93.3      96.3       93.2  \n",
       "15     107.5      93.5       98.2  \n",
       "16     120.2     104.2       80.7  \n",
       "17     126.0      97.7      109.6  \n",
       "18     119.2     111.8       92.7  \n",
       "19     112.6      96.2      107.0  \n",
       "20     112.6      89.5      101.3  \n",
       "21     116.5      86.6      103.3  \n",
       "22     126.3     101.4       81.7  \n",
       "23      83.3     111.2       86.0  \n",
       "24     106.2      81.0       93.5  \n",
       "25      85.5     113.7       88.7  "
      ]
     },
     "execution_count": 345,
     "metadata": {},
     "output_type": "execute_result"
    }
   ],
   "source": [
    "samples"
   ]
  },
  {
   "cell_type": "code",
   "execution_count": 346,
   "metadata": {
    "collapsed": false,
    "scrolled": true
   },
   "outputs": [
    {
     "data": {
      "text/html": [
       "<div>\n",
       "<table border=\"1\" class=\"dataframe\">\n",
       "  <thead>\n",
       "    <tr style=\"text-align: right;\">\n",
       "      <th></th>\n",
       "      <th>sample_1</th>\n",
       "      <th>sample_2</th>\n",
       "      <th>sample_3</th>\n",
       "      <th>sample_4</th>\n",
       "      <th>sample_5</th>\n",
       "      <th>sample_6</th>\n",
       "      <th>sample_7</th>\n",
       "      <th>sample_8</th>\n",
       "      <th>sample_9</th>\n",
       "      <th>sample_10</th>\n",
       "    </tr>\n",
       "  </thead>\n",
       "  <tbody>\n",
       "    <tr>\n",
       "      <th>count</th>\n",
       "      <td>25.000000</td>\n",
       "      <td>25.000000</td>\n",
       "      <td>25.000000</td>\n",
       "      <td>25.000000</td>\n",
       "      <td>25.000000</td>\n",
       "      <td>25.000000</td>\n",
       "      <td>25.000000</td>\n",
       "      <td>25.000000</td>\n",
       "      <td>25.000000</td>\n",
       "      <td>25.000000</td>\n",
       "    </tr>\n",
       "    <tr>\n",
       "      <th>mean</th>\n",
       "      <td>104.772000</td>\n",
       "      <td>100.432000</td>\n",
       "      <td>101.412000</td>\n",
       "      <td>103.616000</td>\n",
       "      <td>101.848000</td>\n",
       "      <td>100.052000</td>\n",
       "      <td>98.484000</td>\n",
       "      <td>104.244000</td>\n",
       "      <td>99.912000</td>\n",
       "      <td>98.248000</td>\n",
       "    </tr>\n",
       "    <tr>\n",
       "      <th>std</th>\n",
       "      <td>14.508145</td>\n",
       "      <td>15.316976</td>\n",
       "      <td>15.867769</td>\n",
       "      <td>17.383102</td>\n",
       "      <td>14.118048</td>\n",
       "      <td>14.927746</td>\n",
       "      <td>17.221345</td>\n",
       "      <td>14.292046</td>\n",
       "      <td>14.644462</td>\n",
       "      <td>16.109007</td>\n",
       "    </tr>\n",
       "    <tr>\n",
       "      <th>min</th>\n",
       "      <td>68.500000</td>\n",
       "      <td>68.600000</td>\n",
       "      <td>62.700000</td>\n",
       "      <td>73.800000</td>\n",
       "      <td>73.900000</td>\n",
       "      <td>73.500000</td>\n",
       "      <td>57.100000</td>\n",
       "      <td>79.500000</td>\n",
       "      <td>74.600000</td>\n",
       "      <td>72.800000</td>\n",
       "    </tr>\n",
       "    <tr>\n",
       "      <th>25%</th>\n",
       "      <td>95.000000</td>\n",
       "      <td>88.800000</td>\n",
       "      <td>89.800000</td>\n",
       "      <td>94.800000</td>\n",
       "      <td>95.400000</td>\n",
       "      <td>91.000000</td>\n",
       "      <td>89.100000</td>\n",
       "      <td>93.300000</td>\n",
       "      <td>89.500000</td>\n",
       "      <td>86.000000</td>\n",
       "    </tr>\n",
       "    <tr>\n",
       "      <th>50%</th>\n",
       "      <td>107.100000</td>\n",
       "      <td>101.400000</td>\n",
       "      <td>104.000000</td>\n",
       "      <td>100.100000</td>\n",
       "      <td>97.500000</td>\n",
       "      <td>96.900000</td>\n",
       "      <td>101.700000</td>\n",
       "      <td>106.200000</td>\n",
       "      <td>97.700000</td>\n",
       "      <td>98.200000</td>\n",
       "    </tr>\n",
       "    <tr>\n",
       "      <th>75%</th>\n",
       "      <td>114.600000</td>\n",
       "      <td>108.400000</td>\n",
       "      <td>108.700000</td>\n",
       "      <td>110.600000</td>\n",
       "      <td>112.600000</td>\n",
       "      <td>109.200000</td>\n",
       "      <td>111.200000</td>\n",
       "      <td>114.300000</td>\n",
       "      <td>111.400000</td>\n",
       "      <td>110.900000</td>\n",
       "    </tr>\n",
       "    <tr>\n",
       "      <th>max</th>\n",
       "      <td>124.500000</td>\n",
       "      <td>135.000000</td>\n",
       "      <td>131.600000</td>\n",
       "      <td>140.300000</td>\n",
       "      <td>128.200000</td>\n",
       "      <td>138.100000</td>\n",
       "      <td>126.100000</td>\n",
       "      <td>126.300000</td>\n",
       "      <td>128.300000</td>\n",
       "      <td>130.300000</td>\n",
       "    </tr>\n",
       "  </tbody>\n",
       "</table>\n",
       "</div>"
      ],
      "text/plain": [
       "         sample_1    sample_2    sample_3    sample_4    sample_5    sample_6  \\\n",
       "count   25.000000   25.000000   25.000000   25.000000   25.000000   25.000000   \n",
       "mean   104.772000  100.432000  101.412000  103.616000  101.848000  100.052000   \n",
       "std     14.508145   15.316976   15.867769   17.383102   14.118048   14.927746   \n",
       "min     68.500000   68.600000   62.700000   73.800000   73.900000   73.500000   \n",
       "25%     95.000000   88.800000   89.800000   94.800000   95.400000   91.000000   \n",
       "50%    107.100000  101.400000  104.000000  100.100000   97.500000   96.900000   \n",
       "75%    114.600000  108.400000  108.700000  110.600000  112.600000  109.200000   \n",
       "max    124.500000  135.000000  131.600000  140.300000  128.200000  138.100000   \n",
       "\n",
       "         sample_7    sample_8    sample_9   sample_10  \n",
       "count   25.000000   25.000000   25.000000   25.000000  \n",
       "mean    98.484000  104.244000   99.912000   98.248000  \n",
       "std     17.221345   14.292046   14.644462   16.109007  \n",
       "min     57.100000   79.500000   74.600000   72.800000  \n",
       "25%     89.100000   93.300000   89.500000   86.000000  \n",
       "50%    101.700000  106.200000   97.700000   98.200000  \n",
       "75%    111.200000  114.300000  111.400000  110.900000  \n",
       "max    126.100000  126.300000  128.300000  130.300000  "
      ]
     },
     "execution_count": 346,
     "metadata": {},
     "output_type": "execute_result"
    }
   ],
   "source": [
    "samples.describe()"
   ]
  },
  {
   "cell_type": "code",
   "execution_count": 347,
   "metadata": {
    "collapsed": false
   },
   "outputs": [
    {
     "data": {
      "image/png": "[encoded data removed]",
      "text/plain": [
       "<matplotlib.figure.Figure at 0x14bf85f8>"
      ]
     },
     "metadata": {},
     "output_type": "display_data"
    }
   ],
   "source": [
    "fig, ax = plt.subplots(ncols=3, nrows=1, figsize=(12,4))\n",
    "ax[0].hist(samples['sample_1'], bins=10)\n",
    "ax[1].hist(samples['sample_2'], bins=10)\n",
    "ax[2].hist(samples['sample_3'], bins=10);"
   ]
  },
  {
   "cell_type": "code",
   "execution_count": 348,
   "metadata": {
    "collapsed": true
   },
   "outputs": [],
   "source": [
    "male_pop_iq = pd.Series(male_pop_iq)"
   ]
  },
  {
   "cell_type": "code",
   "execution_count": 349,
   "metadata": {
    "collapsed": false
   },
   "outputs": [
    {
     "data": {
      "text/plain": [
       "count    1000000.000000\n",
       "mean         100.011187\n",
       "std           14.993122\n",
       "min           24.400000\n",
       "25%           89.900000\n",
       "50%          100.000000\n",
       "75%          110.100000\n",
       "max          169.200000\n",
       "dtype: float64"
      ]
     },
     "execution_count": 349,
     "metadata": {},
     "output_type": "execute_result"
    }
   ],
   "source": [
    "male_pop_iq.describe()"
   ]
  },
  {
   "cell_type": "code",
   "execution_count": 350,
   "metadata": {
    "collapsed": false
   },
   "outputs": [
    {
     "data": {
      "image/png": "[encoded data removed]",
      "text/plain": [
       "<matplotlib.figure.Figure at 0x15b33d68>"
      ]
     },
     "metadata": {},
     "output_type": "display_data"
    }
   ],
   "source": [
    "male_pop_iq.hist(bins=15);"
   ]
  },
  {
   "cell_type": "markdown",
   "metadata": {
    "collapsed": true
   },
   "source": [
    "# Some useful concepts of Probability Theory\n",
    "\n",
    "## Distribution\n",
    "> the way in which values are distributed out among groups or spread over an interval.\n",
    "\n",
    "### Random Variable\n",
    "> a variable whose value is subject to variations due to chance (i.e. randomness, in a mathematical sense). A random variable can take on a set of possible different values (similarly to other mathematical variables), each with an associated probability [wiki](https://en.wikipedia.org/wiki/Random_variable)\n",
    "\n",
    "**Types**\n",
    "\n",
    "1. Discrete Random Variables <br>\n",
    "    Eg: Genders of the buyers buying shoe\n",
    "2. Continuous Random Variables <br>\n",
    "    Eg: Shoe Sales in a quarter\n",
    "    \n",
    "### Probability Distribution\n",
    "> Assigns a probability to each measurable subset of the possible outcomes of a random experiment, survey, or procedure of statistical inference. [wiki](https://en.wikipedia.org/wiki/Probability_distribution)\n",
    "\n",
    "#### Probability Mass Function\n",
    "probability mass function (pmf) is a function that gives the probability that a discrete random variable is exactly equal to some value\n",
    "\n",
    "#### Probability Density Function\n",
    "A probability density function (PDF), or density of a continuous random variable, is a function that describes the relative likelihood for this random variable to take on a given value."
   ]
  },
  {
   "cell_type": "markdown",
   "metadata": {},
   "source": [
    "## Some models commonly used in Statistical Modeling\n",
    "#### Continuous\n",
    "* Normal\n",
    "* Exponential\n",
    "* Uniform\n",
    "* Chi-square\n",
    "* Gamma\n",
    "* Beta\n",
    "\n",
    "#### Discrete\n",
    "* Bernoulli\n",
    "* Binomial\n",
    "* Discrete uniform\n",
    "* Poisson"
   ]
  },
  {
   "cell_type": "markdown",
   "metadata": {},
   "source": [
    "## Statistical Inference"
   ]
  },
  {
   "cell_type": "markdown",
   "metadata": {},
   "source": [
    "We have one sample form the population of male iq. We would like to say something about the population."
   ]
  },
  {
   "cell_type": "markdown",
   "metadata": {},
   "source": [
    "Assumptions: \n",
    "1. The Population of interest is Normaly Distributed."
   ]
  },
  {
   "cell_type": "markdown",
   "metadata": {},
   "source": [
    "The goal now is to estimate the parameters of the population using the sample."
   ]
  },
  {
   "cell_type": "markdown",
   "metadata": {},
   "source": [
    "### Point estimations"
   ]
  },
  {
   "cell_type": "code",
   "execution_count": 392,
   "metadata": {
    "collapsed": false
   },
   "outputs": [
    {
     "data": {
      "text/plain": [
       "1      99.2\n",
       "2     113.5\n",
       "3     114.6\n",
       "4     121.5\n",
       "5      95.7\n",
       "6     120.6\n",
       "7      99.5\n",
       "8     111.7\n",
       "9      90.5\n",
       "10    117.0\n",
       "11    122.3\n",
       "12     90.7\n",
       "13    101.1\n",
       "14    112.9\n",
       "15    114.1\n",
       "16    112.5\n",
       "17     89.2\n",
       "18    124.5\n",
       "19     92.1\n",
       "20    107.1\n",
       "21     68.5\n",
       "22     98.2\n",
       "23     95.0\n",
       "24    123.9\n",
       "25     83.4\n",
       "Name: sample_1, dtype: float64"
      ]
     },
     "execution_count": 392,
     "metadata": {},
     "output_type": "execute_result"
    }
   ],
   "source": [
    "samples['sample_1']"
   ]
  },
  {
   "cell_type": "code",
   "execution_count": 351,
   "metadata": {
    "collapsed": false
   },
   "outputs": [
    {
     "data": {
      "text/plain": [
       "1     99.2\n",
       "2    113.5\n",
       "3    114.6\n",
       "4    121.5\n",
       "5     95.7\n",
       "Name: sample_1, dtype: float64"
      ]
     },
     "execution_count": 351,
     "metadata": {},
     "output_type": "execute_result"
    }
   ],
   "source": [
    "samples['sample_1'].head()"
   ]
  },
  {
   "cell_type": "code",
   "execution_count": 352,
   "metadata": {
    "collapsed": false
   },
   "outputs": [
    {
     "name": "stdout",
     "output_type": "stream",
     "text": [
      "104.772\n",
      "14.5081448389\n"
     ]
    }
   ],
   "source": [
    "# Point estimates\n",
    "sample1_mean = samples['sample_1'].mean()\n",
    "print sample1_mean\n",
    "print samples['sample_1'].std()"
   ]
  },
  {
   "cell_type": "markdown",
   "metadata": {},
   "source": [
    "### Confidence Interval\n",
    "Interval estimates can be contrasted with point estimates. A point estimate is a single value given as the estimate of a population parameter that is of interest, for example the mean of some quantity. An interval estimate specifies instead a range within which the parameter is estimated to lie. A confidence interval has a level of \"confidence\" associated with the estimation."
   ]
  },
  {
   "cell_type": "code",
   "execution_count": 353,
   "metadata": {
    "collapsed": false,
    "scrolled": true
   },
   "outputs": [
    {
     "data": {
      "image/jpeg": "[encoded data removed]",
      "text/plain": [
       "<IPython.core.display.Image object>"
      ]
     },
     "execution_count": 353,
     "metadata": {},
     "output_type": "execute_result"
    }
   ],
   "source": [
    "from IPython.display import Image\n",
    "Image(\"img/ci-for-mean.JPG\")"
   ]
  },
  {
   "cell_type": "code",
   "execution_count": 354,
   "metadata": {
    "collapsed": false
   },
   "outputs": [
    {
     "data": {
      "image/jpeg": "[encoded data removed]",
      "text/plain": [
       "<IPython.core.display.Image object>"
      ]
     },
     "execution_count": 354,
     "metadata": {},
     "output_type": "execute_result"
    }
   ],
   "source": [
    "Image(\"img/confidencevariance.jpg\")"
   ]
  },
  {
   "cell_type": "code",
   "execution_count": 355,
   "metadata": {
    "collapsed": false
   },
   "outputs": [
    {
     "data": {
      "text/plain": [
       "(99.08491172665083, 110.45908827334918)"
      ]
     },
     "execution_count": 355,
     "metadata": {},
     "output_type": "execute_result"
    }
   ],
   "source": [
    "# Confidence interval for the mean\n",
    "stats.norm.interval(0.95, loc=samples['sample_1'].mean(), scale=samples['sample_1'].std()/np.sqrt(25))"
   ]
  },
  {
   "cell_type": "code",
   "execution_count": 356,
   "metadata": {
    "collapsed": false
   },
   "outputs": [],
   "source": [
    "chi_values = stats.chi2.interval(df=24, alpha=0.975)"
   ]
  },
  {
   "cell_type": "code",
   "execution_count": 357,
   "metadata": {
    "collapsed": false
   },
   "outputs": [
    {
     "data": {
      "text/plain": [
       "(10.951042620234929, 21.236217557448892)"
      ]
     },
     "execution_count": 357,
     "metadata": {},
     "output_type": "execute_result"
    }
   ],
   "source": [
    "sd_sample1 = samples['sample_1'].std()\n",
    "low_sd, high_sd = (24*sd_sample1**2/chi_values[1], 24*sd_sample1**2/chi_values[0])\n",
    "(np.sqrt(low_sd), np.sqrt(high_sd))"
   ]
  },
  {
   "cell_type": "code",
   "execution_count": 358,
   "metadata": {
    "collapsed": false
   },
   "outputs": [],
   "source": [
    "# Model the population using your estimates\n",
    "pop_model = stats.norm(loc=sample1_mean, scale=sd_sample1)"
   ]
  },
  {
   "cell_type": "markdown",
   "metadata": {},
   "source": [
    "Now we can use models to make statements about the population"
   ]
  },
  {
   "cell_type": "code",
   "execution_count": 359,
   "metadata": {
    "collapsed": false
   },
   "outputs": [
    {
     "name": "stdout",
     "output_type": "stream",
     "text": [
      "Acording to our model:\n",
      "4.0% of the male population have iq score less than 80\n",
      "15.0% of the male population have iq score less than 90\n",
      "37.0% of the male population have iq score less than 100\n",
      "64.0% of the male population have iq score less than 110\n",
      "85.0% of the male population have iq score less than 120\n"
     ]
    }
   ],
   "source": [
    "values = np.arange(80,125,10)\n",
    "print \"According to our model:\"\n",
    "for x in values:\n",
    "    print \"{}% of the male population have iq score less than {}\".format(100*np.round(pop_model.cdf(x),2), x)"
   ]
  },
  {
   "cell_type": "code",
   "execution_count": 360,
   "metadata": {
    "collapsed": false
   },
   "outputs": [
    {
     "name": "stdout",
     "output_type": "stream",
     "text": [
      "Real population statements:\n",
      "9.1048% of the male population have iq score less than 80\n",
      "25.26285% of the male population have iq score less than 90\n",
      "49.96605% of the male population have iq score less than 100\n",
      "74.70445% of the male population have iq score less than 110\n",
      "90.8909% of the male population have iq score less than 120\n"
     ]
    }
   ],
   "source": [
    "# In this case we know the population\n",
    "print \"Real population statements:\"\n",
    "for x in values:\n",
    "    print \"{}% of the male population have iq score less than {}\".format(stats.percentileofscore(male_pop_iq,x), x)"
   ]
  },
  {
   "cell_type": "markdown",
   "metadata": {},
   "source": [
    "# Hypothesis Testing\n",
    "\n",
    "\n",
    "We would like to know if the effects we see in the sample(observed data) are likely to occur in the population. \n",
    "\n",
    "The way classical hypothesis testing works is by conducting a statistical test to answer the following question:\n",
    "> Given the sample and an effect, what is the probability of seeing that effect just by chance?\n",
    "\n",
    "Here are the steps on how we would do this\n",
    "\n",
    "1. Define your hypothesis\n",
    "2. Choose the appropiate statistical test\n",
    "3. Compute test statistic and p-value\n",
    "4. Interpret the result\n",
    "\n",
    "If p-value is very low(most often than now, below 0.05), the effect is considered statistically significant. That means that effect is unlikely to have occured by chance. The inference? The effect is likely to be seen in the population too. \n",
    "\n",
    "This process is very similar to the *proof by contradiction* paradigm. We first assume that the effect is false. That's the null hypothesis. Next step is to compute the probability of obtaining that effect (the p-value). If p-value is very low(<0.05 as a rule of thumb), we reject the null hypothesis. "
   ]
  },
  {
   "cell_type": "markdown",
   "metadata": {},
   "source": [
    "### Question: Do male and female are equally smart (measured by iq scores)?"
   ]
  },
  {
   "cell_type": "code",
   "execution_count": 361,
   "metadata": {
    "collapsed": false
   },
   "outputs": [],
   "source": [
    "male_pop_iq = np.round(np.random.normal(loc=100, scale=15, size=int(1e+6)),1)\n",
    "female_pop_iq = np.round(np.random.normal(loc=100, scale=15, size=int(1e+6)),1)"
   ]
  },
  {
   "cell_type": "code",
   "execution_count": 362,
   "metadata": {
    "collapsed": true
   },
   "outputs": [],
   "source": [
    "female_sample = np.random.choice(female_pop_iq, size = 35)\n",
    "male_sample = np.random.choice(male_pop_iq, size = 35)"
   ]
  },
  {
   "cell_type": "code",
   "execution_count": 363,
   "metadata": {
    "collapsed": false
   },
   "outputs": [],
   "source": [
    "iq_data = pd.DataFrame(columns=['iq_score','gender'], index=range(70))\n",
    "iq_data['gender'] = pd.Series(['female']*35 + ['male']*35, index=range(70))\n",
    "iq_data['iq_score'].ix[:34] = female_sample\n",
    "iq_data['iq_score'].ix[35:] = male_sample\n",
    "iq_data['iq_score'] = iq_data['iq_score'].astype(np.float)"
   ]
  },
  {
   "cell_type": "code",
   "execution_count": 364,
   "metadata": {
    "collapsed": false
   },
   "outputs": [
    {
     "data": {
      "text/html": [
       "<div>\n",
       "<table border=\"1\" class=\"dataframe\">\n",
       "  <thead>\n",
       "    <tr>\n",
       "      <th></th>\n",
       "      <th colspan=\"2\" halign=\"left\">iq_score</th>\n",
       "    </tr>\n",
       "    <tr>\n",
       "      <th></th>\n",
       "      <th>mean</th>\n",
       "      <th>std</th>\n",
       "    </tr>\n",
       "    <tr>\n",
       "      <th>gender</th>\n",
       "      <th></th>\n",
       "      <th></th>\n",
       "    </tr>\n",
       "  </thead>\n",
       "  <tbody>\n",
       "    <tr>\n",
       "      <th>female</th>\n",
       "      <td>96.917143</td>\n",
       "      <td>15.709729</td>\n",
       "    </tr>\n",
       "    <tr>\n",
       "      <th>male</th>\n",
       "      <td>97.888571</td>\n",
       "      <td>12.098414</td>\n",
       "    </tr>\n",
       "  </tbody>\n",
       "</table>\n",
       "</div>"
      ],
      "text/plain": [
       "         iq_score           \n",
       "             mean        std\n",
       "gender                      \n",
       "female  96.917143  15.709729\n",
       "male    97.888571  12.098414"
      ]
     },
     "execution_count": 364,
     "metadata": {},
     "output_type": "execute_result"
    }
   ],
   "source": [
    "iq_data.groupby('gender').agg([np.mean, np.std])"
   ]
  },
  {
   "cell_type": "markdown",
   "metadata": {},
   "source": [
    "Looks like males have a higher iq than females (in the sample). Can we say the same about the population?"
   ]
  },
  {
   "cell_type": "markdown",
   "metadata": {},
   "source": [
    "### 1. Define your hypothesis"
   ]
  },
  {
   "cell_type": "markdown",
   "metadata": {},
   "source": [
    "#### Null Hypothesis: There is no difference in the population's average intelligence of males and females. $\\mu1 = \\mu2$\n",
    "#### Alternative Hypothesis: There is a difference in the population's average intelligence of males and females (one gender is on average smater than the other)"
   ]
  },
  {
   "cell_type": "markdown",
   "metadata": {},
   "source": [
    "### 2. Choose the appropiate statistical test"
   ]
  },
  {
   "cell_type": "markdown",
   "metadata": {},
   "source": [
    "** t Test for equallity of means with a significance level of 0.05** (5% risk of concluding that a difference exists when there is no actual difference)\n",
    "\n",
    "Asumptions: Both population are normally distributed with equal variance."
   ]
  },
  {
   "cell_type": "code",
   "execution_count": 365,
   "metadata": {
    "collapsed": false
   },
   "outputs": [
    {
     "data": {
      "image/png": "[encoded data removed]",
      "text/plain": [
       "<IPython.core.display.Image object>"
      ]
     },
     "execution_count": 365,
     "metadata": {},
     "output_type": "execute_result"
    }
   ],
   "source": [
    "Image(\"img\\\\ttest.png\")"
   ]
  },
  {
   "cell_type": "markdown",
   "metadata": {},
   "source": [
    "### 3. Make the calculations"
   ]
  },
  {
   "cell_type": "code",
   "execution_count": 366,
   "metadata": {
    "collapsed": false
   },
   "outputs": [
    {
     "name": "stdout",
     "output_type": "stream",
     "text": [
      "0.289838617495\n"
     ]
    }
   ],
   "source": [
    "mean_male, sd_male = iq_data['iq_score'].loc[iq_data['gender']=='male'].mean(), iq_data['iq_score'].loc[iq_data['gender']=='male'].std()\n",
    "mean_female, sd_female = iq_data['iq_score'].loc[iq_data['gender']=='female'].mean(), iq_data['iq_score'].loc[iq_data['gender']=='female'].std()\n",
    "numerator = mean_male - mean_female - (0) #(mu1-mu2)\n",
    "denom = np.sqrt(sd_male**2/35.0 + sd_female**2/35.0)\n",
    "hypothesis_statistic = numerator/denom\n",
    "print hypothesis_statistic"
   ]
  },
  {
   "cell_type": "code",
   "execution_count": 367,
   "metadata": {
    "collapsed": false
   },
   "outputs": [
    {
     "data": {
      "text/plain": [
       "Ttest_indResult(statistic=0.28983861749543421, pvalue=0.772821668530697)"
      ]
     },
     "execution_count": 367,
     "metadata": {},
     "output_type": "execute_result"
    }
   ],
   "source": [
    "stats.ttest_ind(iq_data['iq_score'].loc[iq_data['gender']=='male'].values,\n",
    "                iq_data['iq_score'].loc[iq_data['gender']=='female'].values,\n",
    "                equal_var=True)"
   ]
  },
  {
   "cell_type": "markdown",
   "metadata": {},
   "source": [
    "### 4. Interpret the result:\n",
    "\n",
    "#### Since the p-value is greater than 0.05 we conclude that: the difference observed in the sample means are due to random samplign. There is evidence to suppose that the mean intelligence is different between males and females."
   ]
  },
  {
   "cell_type": "markdown",
   "metadata": {},
   "source": [
    "## Chi-square tests"
   ]
  },
  {
   "cell_type": "markdown",
   "metadata": {},
   "source": [
    "Chi-Square tests are used when the data are frequencies, rather than numerical score/price.\n",
    "\n",
    "The following two tests make use of chi-square statistic\n",
    "\n",
    "1. chi-square test for goodness of fit\n",
    "2. chi-square test for independence\n",
    "\n",
    "Chi-square test is a non-parametric test. They do not require assumptions about population parameters and they do not test hypotheses about population parameters."
   ]
  },
  {
   "cell_type": "markdown",
   "metadata": {},
   "source": [
    "### Using the diabetes dataset\n",
    "### Question: Does the frame size is related with the gender?"
   ]
  },
  {
   "cell_type": "markdown",
   "metadata": {},
   "source": [
    "1. Define your hypothesis\n",
    "2. Choose the appropiate statistical test\n",
    "3. Compute test statistic and p-value\n",
    "4. Interpret the result"
   ]
  },
  {
   "cell_type": "markdown",
   "metadata": {},
   "source": [
    "### Chi-square for independence"
   ]
  },
  {
   "cell_type": "code",
   "execution_count": 368,
   "metadata": {
    "collapsed": false
   },
   "outputs": [
    {
     "data": {
      "text/html": [
       "<div>\n",
       "<table border=\"1\" class=\"dataframe\">\n",
       "  <thead>\n",
       "    <tr style=\"text-align: right;\">\n",
       "      <th>gender</th>\n",
       "      <th>female</th>\n",
       "      <th>male</th>\n",
       "    </tr>\n",
       "    <tr>\n",
       "      <th>frame</th>\n",
       "      <th></th>\n",
       "      <th></th>\n",
       "    </tr>\n",
       "  </thead>\n",
       "  <tbody>\n",
       "    <tr>\n",
       "      <th>large</th>\n",
       "      <td>42</td>\n",
       "      <td>61</td>\n",
       "    </tr>\n",
       "    <tr>\n",
       "      <th>medium</th>\n",
       "      <td>123</td>\n",
       "      <td>73</td>\n",
       "    </tr>\n",
       "    <tr>\n",
       "      <th>small</th>\n",
       "      <td>69</td>\n",
       "      <td>35</td>\n",
       "    </tr>\n",
       "  </tbody>\n",
       "</table>\n",
       "</div>"
      ],
      "text/plain": [
       "gender  female  male\n",
       "frame               \n",
       "large       42    61\n",
       "medium     123    73\n",
       "small       69    35"
      ]
     },
     "execution_count": 368,
     "metadata": {},
     "output_type": "execute_result"
    }
   ],
   "source": [
    "diabetes.groupby(['frame','gender'])['id'].count().unstack()"
   ]
  },
  {
   "cell_type": "code",
   "execution_count": 369,
   "metadata": {
    "collapsed": true
   },
   "outputs": [],
   "source": [
    "table = diabetes.groupby(['frame','gender'])['id'].count().unstack().values"
   ]
  },
  {
   "cell_type": "code",
   "execution_count": 370,
   "metadata": {
    "collapsed": false
   },
   "outputs": [],
   "source": [
    "chi_results = stats.chi2_contingency(table)"
   ]
  },
  {
   "cell_type": "code",
   "execution_count": 371,
   "metadata": {
    "collapsed": false
   },
   "outputs": [
    {
     "name": "stdout",
     "output_type": "stream",
     "text": [
      "Chi-Squared Statistic (Hypothesis statistic) 17.343\n",
      "p-value: 0.00017\n"
     ]
    }
   ],
   "source": [
    "print \"Chi-Squared Statistic (Hypothesis statistic) {:0.3f}\".format(chi_results[0])\n",
    "print \"p-value: {:0.5f}\".format(chi_results[1])"
   ]
  },
  {
   "cell_type": "markdown",
   "metadata": {},
   "source": [
    "### Expected Values under the hypothesis of no difference"
   ]
  },
  {
   "cell_type": "code",
   "execution_count": 372,
   "metadata": {
    "collapsed": false
   },
   "outputs": [
    {
     "data": {
      "text/plain": [
       "array([[  59.80645161,   43.19354839],\n",
       "       [ 113.80645161,   82.19354839],\n",
       "       [  60.38709677,   43.61290323]])"
      ]
     },
     "execution_count": 372,
     "metadata": {},
     "output_type": "execute_result"
    }
   ],
   "source": [
    "chi_results[3]"
   ]
  },
  {
   "cell_type": "code",
   "execution_count": null,
   "metadata": {
    "collapsed": true
   },
   "outputs": [],
   "source": []
  },
  {
   "cell_type": "code",
   "execution_count": null,
   "metadata": {
    "collapsed": true
   },
   "outputs": [],
   "source": []
  },
  {
   "cell_type": "code",
   "execution_count": null,
   "metadata": {
    "collapsed": true
   },
   "outputs": [],
   "source": []
  },
  {
   "cell_type": "code",
   "execution_count": null,
   "metadata": {
    "collapsed": true
   },
   "outputs": [],
   "source": []
  }
 ],
 "metadata": {
  "kernelspec": {
   "display_name": "Python 2",
   "language": "python",
   "name": "python2"
  },
  "language_info": {
   "codemirror_mode": {
    "name": "ipython",
    "version": 2
   },
   "file_extension": ".py",
   "mimetype": "text/x-python",
   "name": "python",
   "nbconvert_exporter": "python",
   "pygments_lexer": "ipython2",
   "version": "2.7.11"
  }
 },
 "nbformat": 4,
 "nbformat_minor": 0
}
