{
 "cells": [
  {
   "cell_type": "markdown",
   "metadata": {},
   "source": [
    "# Exercises"
   ]
  },
  {
   "cell_type": "markdown",
   "metadata": {},
   "source": [
    "#### 1. Write a function that takes a character (i.e. a string of length 1) and returns True if it is a vowel, False otherwise."
   ]
  },
  {
   "cell_type": "markdown",
   "metadata": {},
   "source": [
    "#### 2. Define a function max_of_three() that takes three numbers as arguments and returns the largest of them."
   ]
  },
  {
   "cell_type": "markdown",
   "metadata": {},
   "source": [
    "#### 3. Define a function my_sum() and a function multiply() that sums and multiplies (respectively) all the numbers in a list of numbers. For example, sum([1, 2, 3, 4]) should return 10, and multiply([1, 2, 3, 4]) should return 24."
   ]
  },
  {
   "cell_type": "markdown",
   "metadata": {},
   "source": [
    "#### 4. Define a function reverse() that computes the reversal of a string. For example, reverse(\"I am testing\") should return the string \"gnitset ma I\"."
   ]
  },
  {
   "cell_type": "markdown",
   "metadata": {},
   "source": [
    "#### 5. Define a function is_palindrome() that recognizes palindromes (i.e. words that look the same written backwards). For example, is_palindrome(\"radar\") should return True."
   ]
  },
  {
   "cell_type": "markdown",
   "metadata": {},
   "source": [
    "#### 6. Define a function overlapping() that takes two lists and returns True if they have at least one member in common, False otherwise."
   ]
  },
  {
   "cell_type": "markdown",
   "metadata": {},
   "source": [
    "#### 7. Write a function find_longest_word() that takes a list of words and returns the length of the longest one."
   ]
  },
  {
   "cell_type": "markdown",
   "metadata": {},
   "source": [
    "#### 8. In cryptography, a Caesar cipher is a very simple encryption technique in which each letter in the plain text is replaced by a letter some fixed number of positions down the alphabet. For example, with a shift of 3, A would be replaced by D, B would become E, and so on. The method is named after Julius Caesar, who used it to communicate with his generals. ROT-13 (\"rotate by 13 places\") is a widely used example of a Caesar cipher where the shift is 13. In Python, the key for ROT-13 may be represented by means of the following dictionary:\n",
    "\n",
    "``key = {'a':'n', 'b':'o', 'c':'p', 'd':'q', 'e':'r', 'f':'s', 'g':'t', 'h':'u', \n",
    "       'i':'v', 'j':'w', 'k':'x', 'l':'y', 'm':'z', 'n':'a', 'o':'b', 'p':'c', \n",
    "       'q':'d', 'r':'e', 's':'f', 't':'g', 'u':'h', 'v':'i', 'w':'j', 'x':'k',\n",
    "       'y':'l', 'z':'m'}``\n",
    "\n",
    "Follow the instructions:"
   ]
  },
  {
   "cell_type": "code",
   "execution_count": null,
   "metadata": {
    "collapsed": true
   },
   "outputs": [],
   "source": [
    "# Write a function that takes a letter and an integer (n) and returns the n positions from the letter.\n",
    "# assume the letters are in a circle, so the alphabet goes 'forever' a, b, c, ... y, z, a, b, ..., y, z, a, b, ...\n",
    "# Examples: rot('a',3) = 'd', rot('z',1) = a, rot('y',3) = b\n",
    "letters = 'abcdefghijklmnopqrstuvwxyz'\n",
    "\n",
    "# Write a function that accepts an integer (n) and returns a ROT-n dictionary\n",
    "\n",
    "\n",
    "# Write a function cipher_n that accepts a string (consisting only of lower case letters) and an integer and returns\n",
    "# the coded version of the string\n",
    "\n",
    "\n",
    "# Write a function decipher_n that accepts a string (consisting only of lower case letters) and an integer and returns\n",
    "# the decoded version of the string"
   ]
  },
  {
   "cell_type": "markdown",
   "metadata": {},
   "source": [
    "#### Write a function that maps as a dictionary a list of words into a list of integers representing the lengths of the correponding words. Write it in two different ways: 1) using a for-loop, 2) using comprehensions."
   ]
  },
  {
   "cell_type": "code",
   "execution_count": 44,
   "metadata": {
    "collapsed": false
   },
   "outputs": [],
   "source": [
    "def word_to_length(l):\n",
    "    out = {}\n",
    "    for word in l:\n",
    "        out[word] = len(word)\n",
    "    return out\n",
    "\n",
    "def word_to_length2(l):\n",
    "    return {word:len(word) for word in l}"
   ]
  },
  {
   "cell_type": "code",
   "execution_count": 39,
   "metadata": {
    "collapsed": false
   },
   "outputs": [],
   "source": [
    "my_string = '''\n",
    "We can also update the dict with multiple values \n",
    "efficiently as well using the update method. We \n",
    "may be unnecessarily creating an extra dict here,\n",
    "so we hope our dict has already been created and \n",
    "came from or was used for another purpose:\n",
    "'''"
   ]
  },
  {
   "cell_type": "code",
   "execution_count": 45,
   "metadata": {
    "collapsed": false
   },
   "outputs": [
    {
     "name": "stdout",
     "output_type": "stream",
     "text": [
      "True\n"
     ]
    }
   ],
   "source": [
    "print word_to_length(my_string.split()) == word_to_length2(my_string.split())"
   ]
  },
  {
   "cell_type": "code",
   "execution_count": 32,
   "metadata": {
    "collapsed": false
   },
   "outputs": [
    {
     "ename": "TypeError",
     "evalue": "cannot convert dictionary update sequence element #0 to a sequence",
     "output_type": "error",
     "traceback": [
      "\u001b[1;31m---------------------------------------------------------------------------\u001b[0m",
      "\u001b[1;31mTypeError\u001b[0m                                 Traceback (most recent call last)",
      "\u001b[1;32m<ipython-input-32-958f2d6647cd>\u001b[0m in \u001b[0;36m<module>\u001b[1;34m()\u001b[0m\n\u001b[1;32m----> 1\u001b[1;33m \u001b[0mdict\u001b[0m\u001b[1;33m(\u001b[0m\u001b[1;33m[\u001b[0m\u001b[1;36m1\u001b[0m\u001b[1;33m,\u001b[0m\u001b[1;36m2\u001b[0m\u001b[1;33m,\u001b[0m\u001b[1;36m3\u001b[0m\u001b[1;33m]\u001b[0m\u001b[1;33m)\u001b[0m\u001b[1;33m\u001b[0m\u001b[0m\n\u001b[0m",
      "\u001b[1;31mTypeError\u001b[0m: cannot convert dictionary update sequence element #0 to a sequence"
     ]
    }
   ],
   "source": [
    "dict([1,2,3])"
   ]
  },
  {
   "cell_type": "code",
   "execution_count": 46,
   "metadata": {
    "collapsed": true
   },
   "outputs": [],
   "source": [
    "from random import randint"
   ]
  },
  {
   "cell_type": "code",
   "execution_count": 50,
   "metadata": {
    "collapsed": false
   },
   "outputs": [
    {
     "name": "stdout",
     "output_type": "stream",
     "text": [
      "$1.54, $1.22, $1.47, $1.27, $1.48, $1.8, $1.67, $1.59, $1.42, $1.63, $1.71, $1.33, $1.75, $1.23, $1.26, $1.73, $1.51, $1.6, $1.73, $1.36, $1.39, $1.46, $1.3, $1.43, $1.66, $1.49, $1.39, $1.57, $1.34, $1.6, $1.21, $1.57, $1.65, $1.59, $1.6, $1.48, $1.8, $1.74, $1.54, $1.48, $1.4, $1.8, $1.52, $1.27, $1.32, $1.23, $1.74, $1.41, $1.32, $1.72, $1.57, $1.34, $1.3, $1.27, $1.54, $1.77, $1.7, $1.66, $1.69, $1.21, $1.8, $1.55, $1.42, $1.52, $1.3, $1.36, $1.75, $1.68, $1.37, $1.37, $1.68, $1.29, $1.71, $1.71, $1.7, $1.47, $1.62, $1.43, $1.42, $1.51, $1.23, $1.62, $1.28, $1.55, $1.22, $1.45, $1.62, $1.63, $1.6, $1.7, $1.56, $1.58, $1.67, $1.61, $1.28, $1.33, $1.43, $1.64, $1.6, $1.39,\n"
     ]
    }
   ],
   "source": [
    "for x in xrange(100):\n",
    "    print \"$\" + str(randint(120,180)/100.0) + ',',"
   ]
  },
  {
   "cell_type": "markdown",
   "metadata": {
    "collapsed": true
   },
   "source": [
    "#### The following text contains a list of gas prices per gallon, make a list that contains the prices as floats. After that do the following:\n",
    "1. Sort the prices from low to high.\n",
    "2. Report the lowest and the highest price\n",
    "3. How many prices do you have in the list?"
   ]
  },
  {
   "cell_type": "code",
   "execution_count": 64,
   "metadata": {
    "collapsed": true
   },
   "outputs": [],
   "source": [
    "gas_prices = '''\n",
    "$1.54, $1.22, $1.47, $1.27, $1.48, $1.8, $1.67, $1.59, $1.42, $1.63, $1.71, $1.33, $1.75, $1.23, $1.26, $1.73,\n",
    "$1.51, $1.6, $1.73, $1.36, $1.39, $1.46, $1.3, $1.43, $1.66, $1.49, $1.39, $1.57, $1.34, $1.6, $1.21, $1.57, $1.65,\n",
    "$1.59, $1.6, $1.48, $1.8, $1.74, $1.54, $1.48, $1.4, $1.8, $1.52, $1.27, $1.32, $1.23, $1.74, $1.41, $1.32, $1.72,\n",
    "$1.57, $1.34, $1.3, $1.27, $1.54, $1.77, $1.7, $1.66, $1.69, $1.21, $1.8, $1.55, $1.42, $1.52, $1.3, $1.36, $1.75,\n",
    "$1.68, $1.37, $1.37, $1.68, $1.29, $1.71, $1.71, $1.7, $1.47, $1.62, $1.43, $1.42, $1.51, $1.23, $1.62, $1.28, $1.55,\n",
    "$1.22, $1.45, $1.62, $1.63, $1.6, $1.7, $1.56, $1.58, $1.67, $1.61, $1.28, $1.33\n",
    "'''"
   ]
  },
  {
   "cell_type": "code",
   "execution_count": 63,
   "metadata": {
    "collapsed": false
   },
   "outputs": [
    {
     "data": {
      "text/plain": [
       "[1.54,\n",
       " 1.22,\n",
       " 1.47,\n",
       " 1.27,\n",
       " 1.48,\n",
       " 1.8,\n",
       " 1.67,\n",
       " 1.59,\n",
       " 1.42,\n",
       " 1.63,\n",
       " 1.71,\n",
       " 1.33,\n",
       " 1.75,\n",
       " 1.23,\n",
       " 1.26,\n",
       " 1.73,\n",
       " 1.51,\n",
       " 1.6,\n",
       " 1.73,\n",
       " 1.36,\n",
       " 1.39,\n",
       " 1.46,\n",
       " 1.3,\n",
       " 1.43,\n",
       " 1.66,\n",
       " 1.49,\n",
       " 1.39,\n",
       " 1.57,\n",
       " 1.34,\n",
       " 1.6,\n",
       " 1.21,\n",
       " 1.57,\n",
       " 1.65,\n",
       " 1.59,\n",
       " 1.6,\n",
       " 1.48,\n",
       " 1.8,\n",
       " 1.74,\n",
       " 1.54,\n",
       " 1.48,\n",
       " 1.4,\n",
       " 1.8,\n",
       " 1.52,\n",
       " 1.27,\n",
       " 1.32,\n",
       " 1.23,\n",
       " 1.74,\n",
       " 1.41,\n",
       " 1.32,\n",
       " 1.72,\n",
       " 1.57,\n",
       " 1.34,\n",
       " 1.3,\n",
       " 1.27,\n",
       " 1.54,\n",
       " 1.77,\n",
       " 1.7,\n",
       " 1.66,\n",
       " 1.69,\n",
       " 1.21,\n",
       " 1.8,\n",
       " 1.55,\n",
       " 1.42,\n",
       " 1.52,\n",
       " 1.3,\n",
       " 1.36,\n",
       " 1.75,\n",
       " 1.68,\n",
       " 1.37,\n",
       " 1.37,\n",
       " 1.68,\n",
       " 1.29,\n",
       " 1.71,\n",
       " 1.71,\n",
       " 1.7,\n",
       " 1.47,\n",
       " 1.62,\n",
       " 1.43,\n",
       " 1.42,\n",
       " 1.51,\n",
       " 1.23,\n",
       " 1.62,\n",
       " 1.28,\n",
       " 1.55,\n",
       " 1.22,\n",
       " 1.45,\n",
       " 1.62,\n",
       " 1.63,\n",
       " 1.6,\n",
       " 1.7,\n",
       " 1.56,\n",
       " 1.58,\n",
       " 1.67,\n",
       " 1.61,\n",
       " 1.28,\n",
       " 1.33,\n",
       " 1.43,\n",
       " 1.64,\n",
       " 1.6,\n",
       " 1.39]"
      ]
     },
     "execution_count": 63,
     "metadata": {},
     "output_type": "execute_result"
    }
   ],
   "source": [
    "prices_list = gas_prices.split(',')\n",
    "\n",
    "prices_list = [float(price.strip().replace('$','')) for price in prices_list]\n",
    "\n",
    "#for i, price in enumerate(prices_list):\n",
    "#    prices_list[i] = price.strip().replace('$','')\n",
    "    \n",
    "prices_list"
   ]
  },
  {
   "cell_type": "code",
   "execution_count": 27,
   "metadata": {
    "collapsed": false
   },
   "outputs": [
    {
     "data": {
      "text/plain": [
       "[5, 3, 2]"
      ]
     },
     "execution_count": 27,
     "metadata": {},
     "output_type": "execute_result"
    }
   ],
   "source": [
    "map(len, ['hello', 'klk', 'lo'])"
   ]
  },
  {
   "cell_type": "markdown",
   "metadata": {},
   "source": [
    "## Set 1"
   ]
  },
  {
   "cell_type": "markdown",
   "metadata": {},
   "source": [
    "1. Using the data contained in ``exam_st_date`` print:\n",
    "\n",
    "    \"The examination will start from : dd / mm / yyyy\""
   ]
  },
  {
   "cell_type": "code",
   "execution_count": 1,
   "metadata": {
    "collapsed": true
   },
   "outputs": [],
   "source": [
    "exam_st_date = (01, 03, 2017)"
   ]
  },
  {
   "cell_type": "code",
   "execution_count": null,
   "metadata": {
    "collapsed": true
   },
   "outputs": [],
   "source": [
    "# Your solution here\n"
   ]
  },
  {
   "cell_type": "markdown",
   "metadata": {},
   "source": [
    "---"
   ]
  },
  {
   "cell_type": "markdown",
   "metadata": {},
   "source": [
    "With the following list:\n",
    "1. Create a list that contains only the even numbers, call it ``even_numbers``.\n",
    "2. Create a list that contains only the odd numbers, call it ``odd_numbers``.\n",
    "3. Print the number of elements in each of the created lists."
   ]
  },
  {
   "cell_type": "code",
   "execution_count": 3,
   "metadata": {
    "collapsed": true
   },
   "outputs": [],
   "source": [
    "numbers = [    \n",
    "    386, 462, 47, 418, 907, 344, 236, 375, 823, 566, 597, 978, 328, 615, 953, 345, \n",
    "    399, 162, 758, 219, 918, 237, 412, 566, 826, 248, 866, 950, 626, 949, 687, 217, \n",
    "    815, 67, 104, 58, 512, 24, 892, 894, 767, 553, 81, 379, 843, 831, 445, 742, 717, \n",
    "    958,743, 527\n",
    "    ]"
   ]
  },
  {
   "cell_type": "code",
   "execution_count": null,
   "metadata": {
    "collapsed": true
   },
   "outputs": [],
   "source": [
    "# Your solution here\n"
   ]
  },
  {
   "cell_type": "markdown",
   "metadata": {},
   "source": [
    "---"
   ]
  },
  {
   "cell_type": "markdown",
   "metadata": {},
   "source": [
    "1. Create a dictionary that contains the counts of all the words that appear in ``probability_text``, call it ``word_dict``. The keys should be the words and the values the counts.\n",
    "2. Create a dictionary that contains the counts of all the characters that appear in ``probability_text``, call it ``char_dict``. The keys should be the characters and the values the counts."
   ]
  },
  {
   "cell_type": "code",
   "execution_count": 19,
   "metadata": {
    "collapsed": false
   },
   "outputs": [
    {
     "data": {
      "text/plain": [
       "False"
      ]
     },
     "execution_count": 19,
     "metadata": {},
     "output_type": "execute_result"
    }
   ],
   "source": [
    "string.punctuation == exclude"
   ]
  },
  {
   "cell_type": "code",
   "execution_count": 20,
   "metadata": {
    "collapsed": false
   },
   "outputs": [
    {
     "data": {
      "text/plain": [
       "{'!',\n",
       " '\"',\n",
       " '#',\n",
       " '$',\n",
       " '%',\n",
       " '&',\n",
       " \"'\",\n",
       " '(',\n",
       " ')',\n",
       " '*',\n",
       " '+',\n",
       " ',',\n",
       " '-',\n",
       " '.',\n",
       " '/',\n",
       " ':',\n",
       " ';',\n",
       " '<',\n",
       " '=',\n",
       " '>',\n",
       " '?',\n",
       " '@',\n",
       " '[',\n",
       " '\\\\',\n",
       " ']',\n",
       " '^',\n",
       " '_',\n",
       " '`',\n",
       " '{',\n",
       " '|',\n",
       " '}',\n",
       " '~'}"
      ]
     },
     "execution_count": 20,
     "metadata": {},
     "output_type": "execute_result"
    }
   ],
   "source": [
    "exclude"
   ]
  },
  {
   "cell_type": "code",
   "execution_count": 14,
   "metadata": {
    "collapsed": false,
    "scrolled": true
   },
   "outputs": [
    {
     "name": "stdout",
     "output_type": "stream",
     "text": [
      "\n",
      "Probability is the measure of the likelihood that an event will occur\n",
      "Probability is quantified as a number between 0 and 1 where 0 indicates impossibility\n",
      "and 1 indicates certainty The higher the probability of an event \n",
      "the more certain that the event will occur\n",
      "A simple example is the tossing of a fair unbiased coin\n",
      "Since the coin is unbiased the two outcomes head and tail are both equally probable \n",
      "the probability of head equals the probability of tail Since no other outcomes are possible\n",
      "the probability is 12 or 50 of either head or tail In other words\n",
      "the probability of head is 1 out of 2 outcomes and the probability of tail is also 1 out of 2 outcomes\n",
      "expressed as 05 when converted to decimal with the abovementioned quantification system\n",
      "This type of probability is also called a priori probability\n",
      "These concepts have been given an axiomatic mathematical formalization in probability theory\n",
      "which is used widely in such areas of study as mathematics statistics finance gambling\n",
      "science in particular physics artificial intelligencemachine learning computer science game theory \n",
      "and philosophy to for example draw inferences about the expected frequency of events Probability theory is also \n",
      "used to describe the underlying mechanics and regularities of complex systems\n",
      "\n"
     ]
    }
   ],
   "source": [
    "import string\n",
    "exclude = set(string.punctuation)\n",
    "probability_text = ''.join(ch for ch in probability_text if ch not in exclude)\n",
    "print probability_text"
   ]
  },
  {
   "cell_type": "code",
   "execution_count": 18,
   "metadata": {
    "collapsed": false
   },
   "outputs": [
    {
     "name": "stdout",
     "output_type": "stream",
     "text": [
      "\n",
      "P r o b a b i l i t y   i s   t h e   m e a s u r e   o f   t h e   l i k e l i h o o d   t h a t   a n   e v e n t   w i l l   o c c u r . [ 1 ]   P r o b a b i l i t y   i s   q u a n t i f i e d   a s   a   n u m b e r   b e t w e e n   0   a n d   1   ( w h e r e   0   i n d i c a t e s   i m p o s s i b i l i t y [ 2 ]   a n d   1   i n d i c a t e s   c e r t a i n t y ) . [ 3 ] [ 4 ]   T h e   h i g h e r   t h e   p r o b a b i l i t y   o f   a n   e v e n t ,   t h e   m o r e   c e r t a i n   t h a t   t h e   e v e n t   w i l l   o c c u r .   A   s i m p l e   e x a m p l e   i s   t h e   t o s s i n g   o f   a   f a i r   ( u n b i a s e d )   c o i n .   S i n c e   t h e   c o i n   i s   u n b i a s e d ,   t h e   t w o   o u t c o m e s   ( \" h e a d \"   a n d   \" t a i l \" )   a r e   b o t h   e q u a l l y   p r o b a b l e ;   t h e   p r o b a b i l i t y   o f   \" h e a d \"   e q u a l s   t h e   p r o b a b i l i t y   o f   \" t a i l . \"   S i n c e   n o   o t h e r   o u t c o m e s   a r e   p o s s i b l e ,   t h e   p r o b a b i l i t y   i s   1 / 2   ( o r   5 0 % ) ,   o f   e i t h e r   \" h e a d \"   o r   \" t a i l \" .   I n   o t h e r   w o r d s ,   t h e   p r o b a b i l i t y   o f   \" h e a d \"   i s   1   o u t   o f   2   o u t c o m e s   a n d   t h e   p r o b a b i l i t y   o f   \" t a i l \"   i s   a l s o   1   o u t   o f   2   o u t c o m e s ,   e x p r e s s e d   a s   0 . 5   w h e n   c o n v e r t e d   t o   d e c i m a l ,   w i t h   t h e   a b o v e - m e n t i o n e d   q u a n t i f i c a t i o n   s y s t e m . [ 3 ] [ 4 ]   T h i s   t y p e   o f   p r o b a b i l i t y   i s   a l s o   c a l l e d   a   p r i o r i   p r o b a b i l i t y . \n",
      "T h e s e   c o n c e p t s   h a v e   b e e n   g i v e n   a n   a x i o m a t i c   m a t h e m a t i c a l   f o r m a l i z a t i o n   i n   p r o b a b i l i t y   t h e o r y ,   w h i c h   i s   u s e d   w i d e l y   i n   s u c h   a r e a s   o f   s t u d y   a s   m a t h e m a t i c s ,   s t a t i s t i c s ,   f i n a n c e ,   g a m b l i n g ,   s c i e n c e   ( i n   p a r t i c u l a r   p h y s i c s ) ,   a r t i f i c i a l   i n t e l l i g e n c e / m a c h i n e   l e a r n i n g ,   c o m p u t e r   s c i e n c e ,   g a m e   t h e o r y ,   a n d   p h i l o s o p h y   t o ,   f o r   e x a m p l e ,   d r a w   i n f e r e n c e s   a b o u t   t h e   e x p e c t e d   f r e q u e n c y   o f   e v e n t s .   P r o b a b i l i t y   t h e o r y   i s   a l s o   u s e d   t o   d e s c r i b e   t h e   u n d e r l y i n g   m e c h a n i c s   a n d   r e g u l a r i t i e s   o f   c o m p l e x   s y s t e m s . [ 5 ] \n"
     ]
    }
   ],
   "source": [
    "for i in probability_text:\n",
    "    print i,"
   ]
  },
  {
   "cell_type": "code",
   "execution_count": 17,
   "metadata": {
    "collapsed": true
   },
   "outputs": [],
   "source": [
    "probability_text = '''\n",
    "Probability is the measure of the likelihood that an event will occur.[1] Probability is quantified as a number between 0 and 1 (where 0 indicates impossibility[2] and 1 indicates certainty).[3][4] The higher the probability of an event, the more certain that the event will occur. A simple example is the tossing of a fair (unbiased) coin. Since the coin is unbiased, the two outcomes (\"head\" and \"tail\") are both equally probable; the probability of \"head\" equals the probability of \"tail.\" Since no other outcomes are possible, the probability is 1/2 (or 50%), of either \"head\" or \"tail\". In other words, the probability of \"head\" is 1 out of 2 outcomes and the probability of \"tail\" is also 1 out of 2 outcomes, expressed as 0.5 when converted to decimal, with the above-mentioned quantification system.[3][4] This type of probability is also called a priori probability.\n",
    "These concepts have been given an axiomatic mathematical formalization in probability theory, which is used widely in such areas of study as mathematics, statistics, finance, gambling, science (in particular physics), artificial intelligence/machine learning, computer science, game theory, and philosophy to, for example, draw inferences about the expected frequency of events. Probability theory is also used to describe the underlying mechanics and regularities of complex systems.[5]\n",
    "'''"
   ]
  },
  {
   "cell_type": "code",
   "execution_count": 11,
   "metadata": {
    "collapsed": false
   },
   "outputs": [
    {
     "ename": "NameError",
     "evalue": "name 'string' is not defined",
     "output_type": "error",
     "traceback": [
      "\u001b[1;31m---------------------------------------------------------------------------\u001b[0m",
      "\u001b[1;31mNameError\u001b[0m                                 Traceback (most recent call last)",
      "\u001b[1;32m<ipython-input-11-24ee4b42327b>\u001b[0m in \u001b[0;36m<module>\u001b[1;34m()\u001b[0m\n\u001b[1;32m----> 1\u001b[1;33m \u001b[0mstring\u001b[0m\u001b[1;33m.\u001b[0m\u001b[0mpunctuation\u001b[0m\u001b[1;33m\u001b[0m\u001b[0m\n\u001b[0m",
      "\u001b[1;31mNameError\u001b[0m: name 'string' is not defined"
     ]
    }
   ],
   "source": [
    "string.punctuation"
   ]
  },
  {
   "cell_type": "code",
   "execution_count": 9,
   "metadata": {
    "collapsed": false
   },
   "outputs": [
    {
     "data": {
      "text/plain": [
       "4"
      ]
     },
     "execution_count": 9,
     "metadata": {},
     "output_type": "execute_result"
    }
   ],
   "source": [
    "probability_text.count('to')"
   ]
  },
  {
   "cell_type": "code",
   "execution_count": 10,
   "metadata": {
    "collapsed": false
   },
   "outputs": [
    {
     "data": {
      "text/plain": [
       "{'\"head\"': 4,\n",
       " '\"tail\"': 3,\n",
       " '\"tail\")': 1,\n",
       " '\"tail\".': 1,\n",
       " '\"tail.\"': 1,\n",
       " '(\"head\"': 1,\n",
       " '(in': 1,\n",
       " '(or': 1,\n",
       " '(unbiased)': 1,\n",
       " '(where': 1,\n",
       " '0': 4,\n",
       " '0.5': 1,\n",
       " '1': 5,\n",
       " '1/2': 1,\n",
       " '2': 3,\n",
       " '50%),': 1,\n",
       " 'A': 1,\n",
       " 'In': 1,\n",
       " 'Probability': 3,\n",
       " 'Since': 2,\n",
       " 'The': 2,\n",
       " 'These': 1,\n",
       " 'This': 1,\n",
       " 'a': 87,\n",
       " 'about': 1,\n",
       " 'above-mentioned': 1,\n",
       " 'also': 3,\n",
       " 'an': 13,\n",
       " 'and': 6,\n",
       " 'are': 3,\n",
       " 'areas': 1,\n",
       " 'artificial': 1,\n",
       " 'as': 7,\n",
       " 'axiomatic': 1,\n",
       " 'been': 1,\n",
       " 'between': 1,\n",
       " 'both': 1,\n",
       " 'called': 1,\n",
       " 'certain': 2,\n",
       " 'certainty).': 1,\n",
       " 'coin': 2,\n",
       " 'coin.': 1,\n",
       " 'complex': 1,\n",
       " 'computer': 1,\n",
       " 'concepts': 1,\n",
       " 'converted': 1,\n",
       " 'decimal,': 1,\n",
       " 'describe': 1,\n",
       " 'draw': 1,\n",
       " 'either': 1,\n",
       " 'equally': 1,\n",
       " 'equals': 1,\n",
       " 'event': 4,\n",
       " 'event,': 1,\n",
       " 'events.': 1,\n",
       " 'example': 2,\n",
       " 'example,': 1,\n",
       " 'expected': 1,\n",
       " 'expressed': 1,\n",
       " 'fair': 1,\n",
       " 'finance,': 1,\n",
       " 'for': 2,\n",
       " 'formalization': 1,\n",
       " 'frequency': 1,\n",
       " 'gambling,': 1,\n",
       " 'game': 1,\n",
       " 'given': 1,\n",
       " 'have': 1,\n",
       " 'higher': 1,\n",
       " 'impossibility': 1,\n",
       " 'in': 19,\n",
       " 'indicates': 2,\n",
       " 'inferences': 1,\n",
       " 'intelligence/machine': 1,\n",
       " 'is': 12,\n",
       " 'learning,': 1,\n",
       " 'likelihood': 1,\n",
       " 'mathematical': 1,\n",
       " 'mathematics,': 1,\n",
       " 'measure': 1,\n",
       " 'mechanics': 1,\n",
       " 'more': 1,\n",
       " 'no': 1,\n",
       " 'number': 1,\n",
       " 'occur.': 2,\n",
       " 'of': 14,\n",
       " 'or': 10,\n",
       " 'other': 2,\n",
       " 'out': 7,\n",
       " 'outcomes': 4,\n",
       " 'outcomes,': 1,\n",
       " 'particular': 1,\n",
       " 'philosophy': 1,\n",
       " 'physics),': 1,\n",
       " 'possible,': 1,\n",
       " 'priori': 1,\n",
       " 'probability': 9,\n",
       " 'probability.': 1,\n",
       " 'probable;': 1,\n",
       " 'quantification': 1,\n",
       " 'quantified': 1,\n",
       " 'regularities': 1,\n",
       " 'science': 2,\n",
       " 'science,': 1,\n",
       " 'simple': 1,\n",
       " 'statistics,': 1,\n",
       " 'study': 1,\n",
       " 'such': 1,\n",
       " 'system.': 1,\n",
       " 'systems.': 1,\n",
       " 'that': 2,\n",
       " 'the': 24,\n",
       " 'theory': 3,\n",
       " 'theory,': 2,\n",
       " 'to': 4,\n",
       " 'to,': 1,\n",
       " 'tossing': 1,\n",
       " 'two': 1,\n",
       " 'type': 1,\n",
       " 'unbiased,': 1,\n",
       " 'underlying': 1,\n",
       " 'used': 2,\n",
       " 'when': 1,\n",
       " 'which': 1,\n",
       " 'widely': 1,\n",
       " 'will': 2,\n",
       " 'with': 1,\n",
       " 'words,': 1}"
      ]
     },
     "execution_count": 10,
     "metadata": {},
     "output_type": "execute_result"
    }
   ],
   "source": [
    "unique_words = set(probability_text.split())\n",
    "word_count = {key:probability_text.count(key) for key in unique_words}\n",
    "word_count"
   ]
  }
 ],
 "metadata": {
  "kernelspec": {
   "display_name": "Python 2",
   "language": "python",
   "name": "python2"
  },
  "language_info": {
   "codemirror_mode": {
    "name": "ipython",
    "version": 2
   },
   "file_extension": ".py",
   "mimetype": "text/x-python",
   "name": "python",
   "nbconvert_exporter": "python",
   "pygments_lexer": "ipython2",
   "version": "2.7.11"
  }
 },
 "nbformat": 4,
 "nbformat_minor": 0
}
