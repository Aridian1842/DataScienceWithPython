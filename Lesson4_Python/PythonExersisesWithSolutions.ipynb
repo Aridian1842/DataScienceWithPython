{
 "cells": [
  {
   "cell_type": "markdown",
   "metadata": {},
   "source": [
    "# Exersices"
   ]
  },
  {
   "cell_type": "markdown",
   "metadata": {},
   "source": [
    "#### Write a function that takes a character (i.e. a string of length 1) and returns True if it is a vowel, False otherwise."
   ]
  },
  {
   "cell_type": "code",
   "execution_count": 1,
   "metadata": {
    "collapsed": false
   },
   "outputs": [
    {
     "name": "stdout",
     "output_type": "stream",
     "text": [
      "True\n",
      "False\n",
      "False\n",
      "False\n"
     ]
    }
   ],
   "source": [
    "vowels = 'aeiou'\n",
    "def is_vowel(string):\n",
    "    return string in vowels\n",
    "\n",
    "print is_vowel('a')\n",
    "print is_vowel('x')\n",
    "print is_vowel('p')\n",
    "print is_vowel('A') # How would you handle this case?"
   ]
  },
  {
   "cell_type": "markdown",
   "metadata": {},
   "source": [
    "#### Create a function that counts the number of vowels in a word, test your function with some words."
   ]
  },
  {
   "cell_type": "code",
   "execution_count": 2,
   "metadata": {
    "collapsed": false
   },
   "outputs": [
    {
     "name": "stdout",
     "output_type": "stream",
     "text": [
      "2\n",
      "3\n",
      "3\n"
     ]
    }
   ],
   "source": [
    "def count_vowels(word):\n",
    "    word = word.lower()\n",
    "    count = 0\n",
    "    for letter in word:\n",
    "        if is_vowel(letter): # using the function previously defined\n",
    "            count += 1\n",
    "    return count\n",
    "\n",
    "print count_vowels('hello')\n",
    "print count_vowels('programming')\n",
    "print count_vowels('house')"
   ]
  },
  {
   "cell_type": "markdown",
   "metadata": {},
   "source": [
    "#### Define a function sum_prod() that returns a tuple with the sum and product of all the numbers in a list of numbers. For example, sum_prod([1, 2, 3, 4]) should return (10, 24)"
   ]
  },
  {
   "cell_type": "code",
   "execution_count": 4,
   "metadata": {
    "collapsed": false
   },
   "outputs": [
    {
     "name": "stdout",
     "output_type": "stream",
     "text": [
      "(10, 24)\n",
      "(15, 120)\n",
      "(3, -12)\n"
     ]
    }
   ],
   "source": [
    "def sum_prod(list_of_num):\n",
    "    product = 1\n",
    "    for x in list_of_num:\n",
    "        product = product * x\n",
    "    return sum(list_of_num), product\n",
    "\n",
    "print sum_prod([1,2,3,4])\n",
    "print sum_prod([1,2,3,4,5])\n",
    "print sum_prod([2,-2,3])"
   ]
  },
  {
   "cell_type": "markdown",
   "metadata": {},
   "source": [
    "#### Define a function max_of_three() that takes three numbers as arguments and returns the largest of them. (Don't use the max() built in function)"
   ]
  },
  {
   "cell_type": "code",
   "execution_count": 5,
   "metadata": {
    "collapsed": false
   },
   "outputs": [
    {
     "name": "stdout",
     "output_type": "stream",
     "text": [
      "5\n",
      "-2\n",
      "0\n",
      "6\n",
      "3\n"
     ]
    }
   ],
   "source": [
    "def max_of_three(a,b,c):\n",
    "    if (a >= b and a >= c):\n",
    "        return a\n",
    "    else:\n",
    "        out = b if b >= c else c\n",
    "        return out\n",
    "\n",
    "print max_of_three(5,2,3)\n",
    "print max_of_three(-5,-2,-3)\n",
    "print max_of_three(-6,-2,0)\n",
    "print max_of_three(1,1,6)\n",
    "print max_of_three(3,3,3)"
   ]
  },
  {
   "cell_type": "markdown",
   "metadata": {},
   "source": [
    "#### Define a function reverse() that computes the reversal of a string. For example, reverse(\"I am testing\") should return the string \"gnitset ma I\"."
   ]
  },
  {
   "cell_type": "code",
   "execution_count": 6,
   "metadata": {
    "collapsed": false
   },
   "outputs": [
    {
     "name": "stdout",
     "output_type": "stream",
     "text": [
      "olleh\n",
      "gnitset ma I\n",
      "alaok\n",
      "radar\n"
     ]
    }
   ],
   "source": [
    "def reverse(string):\n",
    "    return string[::-1] # Very pythonic!\n",
    "\n",
    "print reverse(\"hello\")\n",
    "print reverse(\"I am testing\")\n",
    "print reverse(\"koala\")\n",
    "print reverse(\"radar\")"
   ]
  },
  {
   "cell_type": "markdown",
   "metadata": {},
   "source": [
    "#### Define a function is_palindrome() that recognizes palindromes (i.e. words that look the same written backwards). For example, is_palindrome(\"radar\") should return True."
   ]
  },
  {
   "cell_type": "code",
   "execution_count": 7,
   "metadata": {
    "collapsed": false
   },
   "outputs": [
    {
     "name": "stdout",
     "output_type": "stream",
     "text": [
      "True\n",
      "False\n",
      "True\n"
     ]
    }
   ],
   "source": [
    "def is_palindrome(word):\n",
    "    return word == word[::-1]\n",
    "\n",
    "print is_palindrome('radar')\n",
    "print is_palindrome('hello')\n",
    "print is_palindrome('is eye si')"
   ]
  },
  {
   "cell_type": "markdown",
   "metadata": {},
   "source": [
    "----"
   ]
  },
  {
   "cell_type": "markdown",
   "metadata": {},
   "source": [
    "#### Write a function find_longest_word() that takes a list of words and returns the length of the longest one."
   ]
  },
  {
   "cell_type": "code",
   "execution_count": 8,
   "metadata": {
    "collapsed": false
   },
   "outputs": [
    {
     "name": "stdout",
     "output_type": "stream",
     "text": [
      "5\n",
      "7\n"
     ]
    }
   ],
   "source": [
    "def find_longest_word(list_of_words):\n",
    "    lengths = map(len, list_of_words)\n",
    "    return max(lengths)\n",
    "\n",
    "print find_longest_word(['blue','red','green'])\n",
    "print find_longest_word(['there','is','nothing','to','be','worried'])"
   ]
  },
  {
   "cell_type": "markdown",
   "metadata": {},
   "source": [
    "#### Write a function find_longest_word2() that takes a list of words and returns a tuple with the longest word and its length"
   ]
  },
  {
   "cell_type": "code",
   "execution_count": 10,
   "metadata": {
    "collapsed": false
   },
   "outputs": [
    {
     "name": "stdout",
     "output_type": "stream",
     "text": [
      "('green', 5)\n",
      "('nothing', 7)\n"
     ]
    }
   ],
   "source": [
    "def find_longest_word2(list_of_words):\n",
    "    lengths = map(len, list_of_words)\n",
    "    max_length = max(lengths)\n",
    "    index_max = lengths.index(max_length)\n",
    "    longest_word = list_of_words[index_max]\n",
    "    return longest_word, max_length\n",
    "\n",
    "print find_longest_word2(['blue','red','green'])\n",
    "print find_longest_word2(['there','is','nothing','to','be','worried'])"
   ]
  },
  {
   "cell_type": "markdown",
   "metadata": {},
   "source": [
    "#### Using ith the following list ``my_numbers``:\n",
    "1. Create a list that contains only the even numbers, call it ``even_numbers``.\n",
    "2. Create a list that contains only the odd numbers, call it ``odd_numbers``.\n",
    "3. Print the number of elements in each of the created lists."
   ]
  },
  {
   "cell_type": "code",
   "execution_count": 11,
   "metadata": {
    "collapsed": true
   },
   "outputs": [],
   "source": [
    "my_numbers = [386, 462, 47, 418, 907, 344, 236, 375, 823, 566, 597, 978, 328, 615, 953, 345, \n",
    "    399, 162, 758, 219, 918, 237, 412, 566, 826, 248, 866, 950, 626, 949, 687, 217, \n",
    "    815, 67, 104, 58, 512, 24, 892, 894, 767, 553, 81, 379, 843, 831, 445, 742, 717, \n",
    "    958,743, 527]"
   ]
  },
  {
   "cell_type": "code",
   "execution_count": 19,
   "metadata": {
    "collapsed": false
   },
   "outputs": [
    {
     "name": "stdout",
     "output_type": "stream",
     "text": [
      "Wall time: 0 ns\n",
      "26\n",
      "26\n",
      "Even Numbers:\n",
      "386 462 418 344 236 566 978 328 162 758 918 412 566 826 248 866 950 626 104 58 512 24 892 894 742 958 \n",
      "Odd Numbers:\n",
      "47 907 375 823 597 615 953 345 399 219 237 949 687 217 815 67 767 553 81 379 843 831 445 717 743 527\n"
     ]
    }
   ],
   "source": [
    "# First approach\n",
    "even_numbers = []\n",
    "odd_numbers = []\n",
    "for x in my_numbers:\n",
    "    if x%2 == 0:\n",
    "        even_numbers.append(x)\n",
    "    else:\n",
    "        odd_numbers.append(x)\n",
    "        \n",
    "print len(even_numbers)\n",
    "print len(odd_numbers)\n",
    "\n",
    "print \"Even Numbers:\"\n",
    "for e in even_numbers:\n",
    "    print e,\n",
    "\n",
    "print \"\\nOdd Numbers:\"    \n",
    "for o in odd_numbers:\n",
    "    print o,"
   ]
  },
  {
   "cell_type": "code",
   "execution_count": 20,
   "metadata": {
    "collapsed": false
   },
   "outputs": [
    {
     "name": "stdout",
     "output_type": "stream",
     "text": [
      "Wall time: 0 ns\n",
      "26\n",
      "26\n",
      "Even Numbers:\n",
      "386 462 418 344 236 566 978 328 162 758 918 412 566 826 248 866 950 626 104 58 512 24 892 894 742 958 \n",
      "Odd Numbers:\n",
      "47 907 375 823 597 615 953 345 399 219 237 949 687 217 815 67 767 553 81 379 843 831 445 717 743 527\n"
     ]
    }
   ],
   "source": [
    "# Another solution\n",
    "even_numbers = filter(lambda x: x%2 == 0, my_numbers)\n",
    "odd_numbers = filter(lambda x: x%2 == 1, my_numbers)\n",
    "print len(even_numbers)\n",
    "print len(odd_numbers)\n",
    "\n",
    "print \"Even Numbers:\"\n",
    "for e in even_numbers:\n",
    "    print e,\n",
    "\n",
    "print \"\\nOdd Numbers:\"    \n",
    "for o in odd_numbers:\n",
    "    print o,"
   ]
  },
  {
   "cell_type": "markdown",
   "metadata": {},
   "source": [
    "#### In cryptography, a Caesar cipher is a very simple encryption technique in which each letter in the plain text is replaced by a letter some fixed number of positions down the alphabet. For example, with a shift of 3, A would be replaced by D, B would become E, and so on. The method is named after Julius Caesar, who used it to communicate with his generals. ROT-13 (\"rotate by 13 places\") is a widely used example of a Caesar cipher where the shift is 13. In Python, the key for ROT-13 may be represented by means of the following dictionary:\n",
    "\n",
    "``cipher_key = {'a':'n', 'b':'o', 'c':'p', 'd':'q', 'e':'r', 'f':'s', 'g':'t', 'h':'u', \n",
    "       'i':'v', 'j':'w', 'k':'x', 'l':'y', 'm':'z', 'n':'a', 'o':'b', 'p':'c', \n",
    "       'q':'d', 'r':'e', 's':'f', 't':'g', 'u':'h', 'v':'i', 'w':'j', 'x':'k',\n",
    "       'y':'l', 'z':'m'}``\n",
    "\n",
    "Follow the instructions:"
   ]
  },
  {
   "cell_type": "code",
   "execution_count": 51,
   "metadata": {
    "collapsed": false
   },
   "outputs": [
    {
     "name": "stdout",
     "output_type": "stream",
     "text": [
      "d\n",
      "a\n",
      "b\n",
      "{'a': 'n', 'c': 'p', 'b': 'o', 'e': 'r', 'd': 'q', 'g': 't', 'f': 's', 'i': 'v', 'h': 'u', 'k': 'x', 'j': 'w', 'm': 'z', 'l': 'y', 'o': 'b', 'n': 'a', 'q': 'd', 'p': 'c', 's': 'f', 'r': 'e', 'u': 'h', 't': 'g', 'w': 'j', 'v': 'i', 'y': 'l', 'x': 'k', 'z': 'm'}\n",
      "b\n",
      "ifmmp\n",
      "cebtenzzvat\n",
      "a\n",
      "hello\n",
      "progroamming\n"
     ]
    }
   ],
   "source": [
    "# Write a function that takes a letter and an integer (n) and returns the letter that is n positions away.\n",
    "# assume the letters are in a circle, so the alphabet goes 'forever' a, b, c, ... y, z, a, b, ..., y, z, a, b, ...\n",
    "# Examples: rot('a',3) = 'd', rot('z',1) = a, rot('y',3) = b\n",
    "letters = 'abcdefghijklmnopqrstuvwxyz'\n",
    "list_of_letters = list(letters)\n",
    "def rot(letter, n):\n",
    "    index_of_letter = list_of_letters.index(letter)\n",
    "    new_index = n + index_of_letter\n",
    "    if new_index > 25:\n",
    "        new_index = new_index%26\n",
    "    return list_of_letters[new_index]\n",
    "        \n",
    "print rot('a',3)\n",
    "print rot('z',1)\n",
    "print rot('y',3)\n",
    "    \n",
    "# Write a function that accepts an integer (n) and returns a ROT-n dictionary (like the cipher_key)\n",
    "def ROT_n(n):\n",
    "    return {letter: rot(letter, n) for letter in list_of_letters}\n",
    "\n",
    "print ROT_n(13)\n",
    "\n",
    "# Write a function 'cipher_n' that accepts a string (consisting only of lower case letters) and an integer and returns\n",
    "# the coded version of the string\n",
    "def cipher_n(string, n):\n",
    "    cipher_dict = ROT_n(n)\n",
    "    out = ''\n",
    "    for character in string:\n",
    "        out = out + cipher_dict[character]\n",
    "    return out\n",
    "\n",
    "print cipher_n('a',1)\n",
    "print cipher_n('hello',1)\n",
    "print cipher_n('programming', 13)\n",
    "# Write a function 'decipher_n' that accepts a string (consisting only of lower case letters) and an integer and returns\n",
    "# the decoded version of the string\n",
    "\n",
    "def decipher_n(string, n):\n",
    "    cipher_dict = ROT_n(n)\n",
    "    reverse_cipher_dict = {cipher_dict[key]: key for key in cipher_dict.keys()}\n",
    "    out = ''\n",
    "    for character in string:\n",
    "        out = out + reverse_cipher_dict[character]\n",
    "    return out\n",
    "\n",
    "print decipher_n('b',1)\n",
    "print decipher_n('ifmmp',1)\n",
    "print decipher_n('cebtebnzzvat', 13)"
   ]
  },
  {
   "cell_type": "markdown",
   "metadata": {},
   "source": [
    "#### Write a function that maps as a dictionary a list of words into a list of integers representing the lengths of the correponding words. Write it in two different ways: 1) using a for-loop, 2) using comprehensions. Print the results of using your functions in ``my_string_1``, ``my_string_2`` and ``my_string_3``"
   ]
  },
  {
   "cell_type": "code",
   "execution_count": 53,
   "metadata": {
    "collapsed": false
   },
   "outputs": [
    {
     "name": "stdout",
     "output_type": "stream",
     "text": [
      "{'subset': 6, 'and': 3, 'equality': 8, 'complete': 8, 'do': 2, 'ordering': 8, 'to': 2, 'generalize': 10, 'a': 1, 'not': 3, 'comparisons': 11, 'The': 3, 'function.': 9}\n",
      "{'and': 3, 'Among': 5, 'broadly': 7, 'epistemology': 12, 'construed': 9, 'topics': 6, 'within': 6, 'are': 3, 'the': 3, 'numerous': 8, 'metaphysics': 11}\n",
      "{'and': 3, 'relationship': 12, 'government': 10, 'of': 2, 'study': 5, 'philosophy': 10, 'Political': 9, 'to': 2, 'state': 5, 'individuals': 11, 'including': 9, 'communities': 11, 'the': 3, 'is': 2}\n"
     ]
    }
   ],
   "source": [
    "# using for loops\n",
    "def words_and_lengths(string):\n",
    "    list_of_words = string.split()\n",
    "    unique_words = set(list_of_words)\n",
    "    out_dict = {}\n",
    "    for word in unique_words:\n",
    "        out_dict[word] = len(word)\n",
    "    return out_dict    \n",
    "\n",
    "print words_and_lengths(my_string_1)\n",
    "print words_and_lengths(my_string_2)\n",
    "print words_and_lengths(my_string_3)"
   ]
  },
  {
   "cell_type": "code",
   "execution_count": 54,
   "metadata": {
    "collapsed": false
   },
   "outputs": [
    {
     "name": "stdout",
     "output_type": "stream",
     "text": [
      "{'subset': 6, 'and': 3, 'equality': 8, 'complete': 8, 'do': 2, 'ordering': 8, 'to': 2, 'generalize': 10, 'a': 1, 'not': 3, 'comparisons': 11, 'The': 3, 'function.': 9}\n",
      "{'and': 3, 'Among': 5, 'broadly': 7, 'epistemology': 12, 'construed': 9, 'topics': 6, 'within': 6, 'are': 3, 'the': 3, 'numerous': 8, 'metaphysics': 11}\n",
      "{'and': 3, 'relationship': 12, 'government': 10, 'of': 2, 'study': 5, 'philosophy': 10, 'Political': 9, 'to': 2, 'state': 5, 'individuals': 11, 'including': 9, 'communities': 11, 'the': 3, 'is': 2}\n"
     ]
    }
   ],
   "source": [
    "# using comprehensions\n",
    "def words_and_lengths2(string):\n",
    "    list_of_words = string.split()\n",
    "    unique_words = set(list_of_words)\n",
    "    return {word: len(word) for word in unique_words}\n",
    "\n",
    "print words_and_lengths2(my_string_1)\n",
    "print words_and_lengths2(my_string_2)\n",
    "print words_and_lengths2(my_string_3)"
   ]
  },
  {
   "cell_type": "code",
   "execution_count": 52,
   "metadata": {
    "collapsed": false
   },
   "outputs": [],
   "source": [
    "my_string_1 = 'The subset and equality comparisons do not generalize to a complete ordering function.'\n",
    "my_string_2 = 'Among the numerous topics within metaphysics and epistemology broadly construed are'\n",
    "my_string_3 = '''Political philosophy is the study of government and the relationship\n",
    "of individuals to communities including the state'''"
   ]
  },
  {
   "cell_type": "markdown",
   "metadata": {},
   "source": [
    "#### The following text contains a list of gas prices per gallon, make a list that contains the prices as floats. After that do the following:\n",
    "1. Sort the prices from low to high.\n",
    "2. Report the lowest and the highest price\n",
    "3. How many prices do you have in the list?\n",
    "4. What is the difference between the highest and the lowest price?\n",
    "5. What is the difference between the second highest and the seconcd lowest price?\n",
    "6. What is the average price?"
   ]
  },
  {
   "cell_type": "code",
   "execution_count": 1,
   "metadata": {
    "collapsed": true
   },
   "outputs": [],
   "source": [
    "gas_prices = '''\n",
    "$1.54, $1.22, $1.47, $1.27, $1.48, $1.8, $1.67, $1.59, $1.42, $1.63, $1.71, $1.33, $1.75, $1.23, $1.26, $1.73,\n",
    "$1.51, $1.6, $1.73, $1.36, $1.39, $1.46, $1.3, $1.43, $1.66, $1.49, $1.39, $1.57, $1.34, $1.6, $1.21, $1.57, $1.65,\n",
    "$1.59, $1.6, $1.48, $1.8, $1.74, $1.54, $1.48, $1.4, $1.8, $1.52, $1.27, $1.32, $1.23, $1.74, $1.41, $1.32, $1.72,\n",
    "$1.57, $1.34, $1.3, $1.27, $1.54, $1.77, $1.7, $1.66, $1.69, $1.21, $1.8, $1.55, $1.42, $1.52, $1.3, $1.36, $1.75,\n",
    "$1.68, $1.37, $1.37, $1.68, $1.29, $1.71, $1.71, $1.7, $1.47, $1.62, $1.43, $1.42, $1.51, $1.23, $1.62, $1.28, $1.55,\n",
    "$1.22, $1.45, $1.62, $1.63, $1.6, $1.7, $1.56, $1.58, $1.67, $1.61, $1.28, $1.33\n",
    "'''"
   ]
  },
  {
   "cell_type": "code",
   "execution_count": 2,
   "metadata": {
    "collapsed": false
   },
   "outputs": [
    {
     "data": {
      "text/plain": [
       "[1.54,\n",
       " 1.22,\n",
       " 1.47,\n",
       " 1.27,\n",
       " 1.48,\n",
       " 1.8,\n",
       " 1.67,\n",
       " 1.59,\n",
       " 1.42,\n",
       " 1.63,\n",
       " 1.71,\n",
       " 1.33,\n",
       " 1.75,\n",
       " 1.23,\n",
       " 1.26,\n",
       " 1.73,\n",
       " 1.51,\n",
       " 1.6,\n",
       " 1.73,\n",
       " 1.36,\n",
       " 1.39,\n",
       " 1.46,\n",
       " 1.3,\n",
       " 1.43,\n",
       " 1.66,\n",
       " 1.49,\n",
       " 1.39,\n",
       " 1.57,\n",
       " 1.34,\n",
       " 1.6,\n",
       " 1.21,\n",
       " 1.57,\n",
       " 1.65,\n",
       " 1.59,\n",
       " 1.6,\n",
       " 1.48,\n",
       " 1.8,\n",
       " 1.74,\n",
       " 1.54,\n",
       " 1.48,\n",
       " 1.4,\n",
       " 1.8,\n",
       " 1.52,\n",
       " 1.27,\n",
       " 1.32,\n",
       " 1.23,\n",
       " 1.74,\n",
       " 1.41,\n",
       " 1.32,\n",
       " 1.72,\n",
       " 1.57,\n",
       " 1.34,\n",
       " 1.3,\n",
       " 1.27,\n",
       " 1.54,\n",
       " 1.77,\n",
       " 1.7,\n",
       " 1.66,\n",
       " 1.69,\n",
       " 1.21,\n",
       " 1.8,\n",
       " 1.55,\n",
       " 1.42,\n",
       " 1.52,\n",
       " 1.3,\n",
       " 1.36,\n",
       " 1.75,\n",
       " 1.68,\n",
       " 1.37,\n",
       " 1.37,\n",
       " 1.68,\n",
       " 1.29,\n",
       " 1.71,\n",
       " 1.71,\n",
       " 1.7,\n",
       " 1.47,\n",
       " 1.62,\n",
       " 1.43,\n",
       " 1.42,\n",
       " 1.51,\n",
       " 1.23,\n",
       " 1.62,\n",
       " 1.28,\n",
       " 1.55,\n",
       " 1.22,\n",
       " 1.45,\n",
       " 1.62,\n",
       " 1.63,\n",
       " 1.6,\n",
       " 1.7,\n",
       " 1.56,\n",
       " 1.58,\n",
       " 1.67,\n",
       " 1.61,\n",
       " 1.28,\n",
       " 1.33]"
      ]
     },
     "execution_count": 2,
     "metadata": {},
     "output_type": "execute_result"
    }
   ],
   "source": [
    "[float(x.strip().replace('$','')) for x in gas_prices.split(',')]"
   ]
  },
  {
   "cell_type": "code",
   "execution_count": 66,
   "metadata": {
    "collapsed": false
   },
   "outputs": [
    {
     "name": "stdout",
     "output_type": "stream",
     "text": [
      "Lowest gas price 1.21, highest price: 1.8\n",
      "There are 96 prices in the list\n",
      "The difference between the highest and lowest price is: 0.59 dollars\n",
      "The difference between the second highest and the seconcd lowest price is : 0.59 dollars\n",
      "Average price: 1.51\n"
     ]
    }
   ],
   "source": [
    "prices_list = gas_prices.split(',')\n",
    "prices_list = [price.strip() for price in prices_list]\n",
    "prices_list = [price.replace('$','') for price in prices_list]\n",
    "prices_list = [float(price) for price in prices_list]\n",
    "\n",
    "#prices_list = [float(price.strip().replace('$','')) for price in prices_list] # One line\n",
    "  \n",
    "prices_list.sort()\n",
    "\n",
    "print 'Lowest gas price {}, highest price: {}'.format(prices_list[0], prices_list[-1])\n",
    "print 'There are {} prices in the list'.format(len(prices_list))\n",
    "print 'The difference between the highest and lowest price is: {} dollars'.format(prices_list[-1] - prices_list[0])\n",
    "print 'The difference between the second highest and the seconcd lowest price is : {} dollars'.\\\n",
    "        format(prices_list[-2] - prices_list[1])\n",
    "print 'Average price: {}'.format(sum(prices_list)/len(prices_list))"
   ]
  },
  {
   "cell_type": "markdown",
   "metadata": {},
   "source": [
    "#### Using the ``probability_text`` string:\n",
    "1. Create a dictionary that contains the counts of all the words that appear in ``probability_text``, call it ``word_dict``. The keys should be the words and the values should be how many times the word appears in the text.\n",
    "2. Create a dictionary that contains the counts of all the characters that appear in ``probability_text``, call it ``char_dict``. The keys should be the characters and the values should be how many times the word appears in the text."
   ]
  },
  {
   "cell_type": "code",
   "execution_count": 67,
   "metadata": {
    "collapsed": true
   },
   "outputs": [],
   "source": [
    "probability_text = '''Probability is the measure of the likelihood that an event will occur\n",
    "Probability is quantified as a number between 0 and 1 where 0 indicates impossibility\n",
    "and 1 indicates certainty The higher the probability of an event \n",
    "the more certain that the event will occur\n",
    "A simple example is the tossing of a fair unbiased coin\n",
    "Since the coin is unbiased the two outcomes head and tail are both equally probable \n",
    "the probability of head equals the probability of tail Since no other outcomes are possible\n",
    "the probability is 12 or 50 of either head or tail In other words\n",
    "the probability of head is 1 out of 2 outcomes and the probability of tail is also 1 out of 2 outcomes\n",
    "expressed as 05 when converted to decimal with the abovementioned quantification system\n",
    "This type of probability is also called a priori probability\n",
    "These concepts have been given an axiomatic mathematical formalization in probability theory\n",
    "which is used widely in such areas of study as mathematics statistics finance gambling\n",
    "science in particular physics artificial intelligencemachine learning computer science game theory \n",
    "and philosophy to for example draw inferences about the expected frequency of events Probability theory is also \n",
    "used to describe the underlying mechanics and regularities of complex systems'''"
   ]
  },
  {
   "cell_type": "code",
   "execution_count": 75,
   "metadata": {
    "collapsed": false
   },
   "outputs": [
    {
     "name": "stdout",
     "output_type": "stream",
     "text": [
      "when: 1 ||  underlying: 1 ||  expressed: 1 ||  inferences: 1 ||  to: 3 ||  tail: 4 ||  priori: 1 ||  systems: 1 ||  finance: 1 ||  regularities: 1 ||  quantified: 1 ||  possible: 1 ||  game: 1 ||  words: 1 ||  mathematics: 1 ||  areas: 1 ||  decimal: 1 ||  50: 1 ||  either: 1 ||  study: 1 ||  where: 1 ||  mathematical: 1 ||  fair: 1 ||  Since: 2 ||  computer: 1 ||  are: 2 ||  measure: 1 ||  event: 3 ||  out: 2 ||  probable: 1 ||  for: 1 ||  05: 1 ||  artificial: 1 ||  converted: 1 ||  between: 1 ||  theory: 3 ||  This: 1 ||  equals: 1 ||  likelihood: 1 ||  both: 1 ||  about: 1 ||  Probability: 3 ||  of: 14 ||  certainty: 1 ||  example: 2 ||  or: 2 ||  and: 6 ||  equally: 1 ||  probability: 9 ||  widely: 1 ||  simple: 1 ||  number: 1 ||  outcomes: 4 ||  learning: 1 ||  intelligencemachine: 1 ||  given: 1 ||  statistics: 1 ||  0: 2 ||  system: 1 ||  been: 1 ||  2: 2 ||  abovementioned: 1 ||  expected: 1 ||  type: 1 ||  more: 1 ||  head: 4 ||  that: 2 ||  These: 1 ||  particular: 1 ||  with: 1 ||  12: 1 ||  formalization: 1 ||  quantification: 1 ||  science: 2 ||  will: 2 ||  frequency: 1 ||  concepts: 1 ||  other: 2 ||  called: 1 ||  mechanics: 1 ||  certain: 1 ||  is: 10 ||  describe: 1 ||  an: 3 ||  unbiased: 2 ||  indicates: 2 ||  as: 3 ||  have: 1 ||  in: 3 ||  occur: 2 ||  no: 1 ||  tossing: 1 ||  1: 4 ||  also: 3 ||  complex: 1 ||  which: 1 ||  gambling: 1 ||  events: 1 ||  higher: 1 ||  A: 1 ||  draw: 1 ||  used: 2 ||  axiomatic: 1 ||  philosophy: 1 ||  two: 1 ||  such: 1 ||  The: 1 ||  coin: 2 ||  a: 3 ||  impossibility: 1 ||  In: 1 ||  the: 16 ||  physics: 1 ||  \n",
      "\n",
      "====== Character count =========\n",
      "\n",
      ": 15 ||   : 197 ||  1: 5 ||  0: 4 ||  2: 3 ||  5: 2 ||  A: 1 ||  I: 1 ||  P: 3 ||  S: 2 ||  T: 3 ||  a: 87 ||  c: 46 ||  b: 38 ||  e: 125 ||  d: 30 ||  g: 10 ||  f: 23 ||  i: 109 ||  h: 49 ||  k: 1 ||  m: 27 ||  l: 50 ||  o: 79 ||  n: 58 ||  q: 5 ||  p: 26 ||  s: 63 ||  r: 53 ||  u: 26 ||  t: 92 ||  w: 11 ||  v: 8 ||  y: 27 ||  x: 6 ||  z: 1 || \n"
     ]
    }
   ],
   "source": [
    "list_of_words = probability_text.split()\n",
    "unique_words = set(list_of_words)\n",
    "word_count_dict = {}\n",
    "for word in unique_words:\n",
    "    word_count_dict[word] = list_of_words.count(word)\n",
    "    \n",
    "for key, value in word_count_dict.iteritems():\n",
    "    print '{}: {} || '.format(key, value),\n",
    "\n",
    "list_of_chars = [x for x in probability_text]\n",
    "unique_characters = set(list_of_chars)\n",
    "\n",
    "char_count_dict = {}\n",
    "for char in unique_characters:\n",
    "    char_count_dict[char] = list_of_chars.count(char)\n",
    "\n",
    "print \"\\n\\n====== Character count =========\"\n",
    "for key, value in char_count_dict.iteritems():\n",
    "    print '{}: {} || '.format(key, value),"
   ]
  }
 ],
 "metadata": {
  "kernelspec": {
   "display_name": "Python 2",
   "language": "python",
   "name": "python2"
  },
  "language_info": {
   "codemirror_mode": {
    "name": "ipython",
    "version": 2
   },
   "file_extension": ".py",
   "mimetype": "text/x-python",
   "name": "python",
   "nbconvert_exporter": "python",
   "pygments_lexer": "ipython2",
   "version": "2.7.11"
  }
 },
 "nbformat": 4,
 "nbformat_minor": 0
}
